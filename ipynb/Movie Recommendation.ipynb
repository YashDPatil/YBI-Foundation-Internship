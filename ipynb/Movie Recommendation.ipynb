{
 "cells": [
  {
   "cell_type": "code",
   "execution_count": 1,
   "id": "7d87783c",
   "metadata": {},
   "outputs": [],
   "source": [
    "import pandas as pd\n",
    "import numpy as np\n",
    "import matplotlib.pyplot as plt\n",
    "import seaborn as sns\n"
   ]
  },
  {
   "cell_type": "code",
   "execution_count": 2,
   "id": "03ac038e",
   "metadata": {},
   "outputs": [],
   "source": [
    "df = pd.read_csv(\"Movies Recommendation.csv\")"
   ]
  },
  {
   "cell_type": "code",
   "execution_count": 3,
   "id": "1d5f2824",
   "metadata": {},
   "outputs": [
    {
     "data": {
      "text/html": [
       "<div>\n",
       "<style scoped>\n",
       "    .dataframe tbody tr th:only-of-type {\n",
       "        vertical-align: middle;\n",
       "    }\n",
       "\n",
       "    .dataframe tbody tr th {\n",
       "        vertical-align: top;\n",
       "    }\n",
       "\n",
       "    .dataframe thead th {\n",
       "        text-align: right;\n",
       "    }\n",
       "</style>\n",
       "<table border=\"1\" class=\"dataframe\">\n",
       "  <thead>\n",
       "    <tr style=\"text-align: right;\">\n",
       "      <th></th>\n",
       "      <th>Movie_ID</th>\n",
       "      <th>Movie_Title</th>\n",
       "      <th>Movie_Genre</th>\n",
       "      <th>Movie_Language</th>\n",
       "      <th>Movie_Budget</th>\n",
       "      <th>Movie_Popularity</th>\n",
       "      <th>Movie_Release_Date</th>\n",
       "      <th>Movie_Revenue</th>\n",
       "      <th>Movie_Runtime</th>\n",
       "      <th>Movie_Vote</th>\n",
       "      <th>...</th>\n",
       "      <th>Movie_Homepage</th>\n",
       "      <th>Movie_Keywords</th>\n",
       "      <th>Movie_Overview</th>\n",
       "      <th>Movie_Production_House</th>\n",
       "      <th>Movie_Production_Country</th>\n",
       "      <th>Movie_Spoken_Language</th>\n",
       "      <th>Movie_Tagline</th>\n",
       "      <th>Movie_Cast</th>\n",
       "      <th>Movie_Crew</th>\n",
       "      <th>Movie_Director</th>\n",
       "    </tr>\n",
       "  </thead>\n",
       "  <tbody>\n",
       "    <tr>\n",
       "      <th>0</th>\n",
       "      <td>1</td>\n",
       "      <td>Four Rooms</td>\n",
       "      <td>Crime Comedy</td>\n",
       "      <td>en</td>\n",
       "      <td>4000000</td>\n",
       "      <td>22.876230</td>\n",
       "      <td>09-12-1995</td>\n",
       "      <td>4300000</td>\n",
       "      <td>98.0</td>\n",
       "      <td>6.5</td>\n",
       "      <td>...</td>\n",
       "      <td>NaN</td>\n",
       "      <td>hotel new year's eve witch bet hotel room</td>\n",
       "      <td>It's Ted the Bellhop's first night on the job....</td>\n",
       "      <td>[{\"name\": \"Miramax Films\", \"id\": 14}, {\"name\":...</td>\n",
       "      <td>[{\"iso_3166_1\": \"US\", \"name\": \"United States o...</td>\n",
       "      <td>[{\"iso_639_1\": \"en\", \"name\": \"English\"}]</td>\n",
       "      <td>Twelve outrageous guests. Four scandalous requ...</td>\n",
       "      <td>Tim Roth Antonio Banderas Jennifer Beals Madon...</td>\n",
       "      <td>[{'name': 'Allison Anders', 'gender': 1, 'depa...</td>\n",
       "      <td>Allison Anders</td>\n",
       "    </tr>\n",
       "    <tr>\n",
       "      <th>1</th>\n",
       "      <td>2</td>\n",
       "      <td>Star Wars</td>\n",
       "      <td>Adventure Action Science Fiction</td>\n",
       "      <td>en</td>\n",
       "      <td>11000000</td>\n",
       "      <td>126.393695</td>\n",
       "      <td>25-05-1977</td>\n",
       "      <td>775398007</td>\n",
       "      <td>121.0</td>\n",
       "      <td>8.1</td>\n",
       "      <td>...</td>\n",
       "      <td>http://www.starwars.com/films/star-wars-episod...</td>\n",
       "      <td>android galaxy hermit death star lightsaber</td>\n",
       "      <td>Princess Leia is captured and held hostage by ...</td>\n",
       "      <td>[{\"name\": \"Lucasfilm\", \"id\": 1}, {\"name\": \"Twe...</td>\n",
       "      <td>[{\"iso_3166_1\": \"US\", \"name\": \"United States o...</td>\n",
       "      <td>[{\"iso_639_1\": \"en\", \"name\": \"English\"}]</td>\n",
       "      <td>A long time ago in a galaxy far, far away...</td>\n",
       "      <td>Mark Hamill Harrison Ford Carrie Fisher Peter ...</td>\n",
       "      <td>[{'name': 'George Lucas', 'gender': 2, 'depart...</td>\n",
       "      <td>George Lucas</td>\n",
       "    </tr>\n",
       "    <tr>\n",
       "      <th>2</th>\n",
       "      <td>3</td>\n",
       "      <td>Finding Nemo</td>\n",
       "      <td>Animation Family</td>\n",
       "      <td>en</td>\n",
       "      <td>94000000</td>\n",
       "      <td>85.688789</td>\n",
       "      <td>30-05-2003</td>\n",
       "      <td>940335536</td>\n",
       "      <td>100.0</td>\n",
       "      <td>7.6</td>\n",
       "      <td>...</td>\n",
       "      <td>http://movies.disney.com/finding-nemo</td>\n",
       "      <td>father son relationship harbor underwater fish...</td>\n",
       "      <td>Nemo, an adventurous young clownfish, is unexp...</td>\n",
       "      <td>[{\"name\": \"Pixar Animation Studios\", \"id\": 3}]</td>\n",
       "      <td>[{\"iso_3166_1\": \"US\", \"name\": \"United States o...</td>\n",
       "      <td>[{\"iso_639_1\": \"en\", \"name\": \"English\"}]</td>\n",
       "      <td>There are 3.7 trillion fish in the ocean, they...</td>\n",
       "      <td>Albert Brooks Ellen DeGeneres Alexander Gould ...</td>\n",
       "      <td>[{'name': 'Andrew Stanton', 'gender': 2, 'depa...</td>\n",
       "      <td>Andrew Stanton</td>\n",
       "    </tr>\n",
       "    <tr>\n",
       "      <th>3</th>\n",
       "      <td>4</td>\n",
       "      <td>Forrest Gump</td>\n",
       "      <td>Comedy Drama Romance</td>\n",
       "      <td>en</td>\n",
       "      <td>55000000</td>\n",
       "      <td>138.133331</td>\n",
       "      <td>06-07-1994</td>\n",
       "      <td>677945399</td>\n",
       "      <td>142.0</td>\n",
       "      <td>8.2</td>\n",
       "      <td>...</td>\n",
       "      <td>NaN</td>\n",
       "      <td>vietnam veteran hippie mentally disabled runni...</td>\n",
       "      <td>A man with a low IQ has accomplished great thi...</td>\n",
       "      <td>[{\"name\": \"Paramount Pictures\", \"id\": 4}]</td>\n",
       "      <td>[{\"iso_3166_1\": \"US\", \"name\": \"United States o...</td>\n",
       "      <td>[{\"iso_639_1\": \"en\", \"name\": \"English\"}]</td>\n",
       "      <td>The world will never be the same, once you've ...</td>\n",
       "      <td>Tom Hanks Robin Wright Gary Sinise Mykelti Wil...</td>\n",
       "      <td>[{'name': 'Alan Silvestri', 'gender': 2, 'depa...</td>\n",
       "      <td>Robert Zemeckis</td>\n",
       "    </tr>\n",
       "    <tr>\n",
       "      <th>4</th>\n",
       "      <td>5</td>\n",
       "      <td>American Beauty</td>\n",
       "      <td>Drama</td>\n",
       "      <td>en</td>\n",
       "      <td>15000000</td>\n",
       "      <td>80.878605</td>\n",
       "      <td>15-09-1999</td>\n",
       "      <td>356296601</td>\n",
       "      <td>122.0</td>\n",
       "      <td>7.9</td>\n",
       "      <td>...</td>\n",
       "      <td>http://www.dreamworks.com/ab/</td>\n",
       "      <td>male nudity female nudity adultery midlife cri...</td>\n",
       "      <td>Lester Burnham, a depressed suburban father in...</td>\n",
       "      <td>[{\"name\": \"DreamWorks SKG\", \"id\": 27}, {\"name\"...</td>\n",
       "      <td>[{\"iso_3166_1\": \"US\", \"name\": \"United States o...</td>\n",
       "      <td>[{\"iso_639_1\": \"en\", \"name\": \"English\"}]</td>\n",
       "      <td>Look closer.</td>\n",
       "      <td>Kevin Spacey Annette Bening Thora Birch Wes Be...</td>\n",
       "      <td>[{'name': 'Thomas Newman', 'gender': 2, 'depar...</td>\n",
       "      <td>Sam Mendes</td>\n",
       "    </tr>\n",
       "  </tbody>\n",
       "</table>\n",
       "<p>5 rows × 21 columns</p>\n",
       "</div>"
      ],
      "text/plain": [
       "   Movie_ID      Movie_Title                       Movie_Genre Movie_Language  \\\n",
       "0         1       Four Rooms                      Crime Comedy             en   \n",
       "1         2        Star Wars  Adventure Action Science Fiction             en   \n",
       "2         3     Finding Nemo                  Animation Family             en   \n",
       "3         4     Forrest Gump              Comedy Drama Romance             en   \n",
       "4         5  American Beauty                             Drama             en   \n",
       "\n",
       "   Movie_Budget  Movie_Popularity Movie_Release_Date  Movie_Revenue  \\\n",
       "0       4000000         22.876230         09-12-1995        4300000   \n",
       "1      11000000        126.393695         25-05-1977      775398007   \n",
       "2      94000000         85.688789         30-05-2003      940335536   \n",
       "3      55000000        138.133331         06-07-1994      677945399   \n",
       "4      15000000         80.878605         15-09-1999      356296601   \n",
       "\n",
       "   Movie_Runtime  Movie_Vote  ...  \\\n",
       "0           98.0         6.5  ...   \n",
       "1          121.0         8.1  ...   \n",
       "2          100.0         7.6  ...   \n",
       "3          142.0         8.2  ...   \n",
       "4          122.0         7.9  ...   \n",
       "\n",
       "                                      Movie_Homepage  \\\n",
       "0                                                NaN   \n",
       "1  http://www.starwars.com/films/star-wars-episod...   \n",
       "2              http://movies.disney.com/finding-nemo   \n",
       "3                                                NaN   \n",
       "4                      http://www.dreamworks.com/ab/   \n",
       "\n",
       "                                      Movie_Keywords  \\\n",
       "0          hotel new year's eve witch bet hotel room   \n",
       "1        android galaxy hermit death star lightsaber   \n",
       "2  father son relationship harbor underwater fish...   \n",
       "3  vietnam veteran hippie mentally disabled runni...   \n",
       "4  male nudity female nudity adultery midlife cri...   \n",
       "\n",
       "                                      Movie_Overview  \\\n",
       "0  It's Ted the Bellhop's first night on the job....   \n",
       "1  Princess Leia is captured and held hostage by ...   \n",
       "2  Nemo, an adventurous young clownfish, is unexp...   \n",
       "3  A man with a low IQ has accomplished great thi...   \n",
       "4  Lester Burnham, a depressed suburban father in...   \n",
       "\n",
       "                              Movie_Production_House  \\\n",
       "0  [{\"name\": \"Miramax Films\", \"id\": 14}, {\"name\":...   \n",
       "1  [{\"name\": \"Lucasfilm\", \"id\": 1}, {\"name\": \"Twe...   \n",
       "2     [{\"name\": \"Pixar Animation Studios\", \"id\": 3}]   \n",
       "3          [{\"name\": \"Paramount Pictures\", \"id\": 4}]   \n",
       "4  [{\"name\": \"DreamWorks SKG\", \"id\": 27}, {\"name\"...   \n",
       "\n",
       "                            Movie_Production_Country  \\\n",
       "0  [{\"iso_3166_1\": \"US\", \"name\": \"United States o...   \n",
       "1  [{\"iso_3166_1\": \"US\", \"name\": \"United States o...   \n",
       "2  [{\"iso_3166_1\": \"US\", \"name\": \"United States o...   \n",
       "3  [{\"iso_3166_1\": \"US\", \"name\": \"United States o...   \n",
       "4  [{\"iso_3166_1\": \"US\", \"name\": \"United States o...   \n",
       "\n",
       "                      Movie_Spoken_Language  \\\n",
       "0  [{\"iso_639_1\": \"en\", \"name\": \"English\"}]   \n",
       "1  [{\"iso_639_1\": \"en\", \"name\": \"English\"}]   \n",
       "2  [{\"iso_639_1\": \"en\", \"name\": \"English\"}]   \n",
       "3  [{\"iso_639_1\": \"en\", \"name\": \"English\"}]   \n",
       "4  [{\"iso_639_1\": \"en\", \"name\": \"English\"}]   \n",
       "\n",
       "                                       Movie_Tagline  \\\n",
       "0  Twelve outrageous guests. Four scandalous requ...   \n",
       "1       A long time ago in a galaxy far, far away...   \n",
       "2  There are 3.7 trillion fish in the ocean, they...   \n",
       "3  The world will never be the same, once you've ...   \n",
       "4                                       Look closer.   \n",
       "\n",
       "                                          Movie_Cast  \\\n",
       "0  Tim Roth Antonio Banderas Jennifer Beals Madon...   \n",
       "1  Mark Hamill Harrison Ford Carrie Fisher Peter ...   \n",
       "2  Albert Brooks Ellen DeGeneres Alexander Gould ...   \n",
       "3  Tom Hanks Robin Wright Gary Sinise Mykelti Wil...   \n",
       "4  Kevin Spacey Annette Bening Thora Birch Wes Be...   \n",
       "\n",
       "                                          Movie_Crew   Movie_Director  \n",
       "0  [{'name': 'Allison Anders', 'gender': 1, 'depa...   Allison Anders  \n",
       "1  [{'name': 'George Lucas', 'gender': 2, 'depart...     George Lucas  \n",
       "2  [{'name': 'Andrew Stanton', 'gender': 2, 'depa...   Andrew Stanton  \n",
       "3  [{'name': 'Alan Silvestri', 'gender': 2, 'depa...  Robert Zemeckis  \n",
       "4  [{'name': 'Thomas Newman', 'gender': 2, 'depar...       Sam Mendes  \n",
       "\n",
       "[5 rows x 21 columns]"
      ]
     },
     "execution_count": 3,
     "metadata": {},
     "output_type": "execute_result"
    }
   ],
   "source": [
    "df.head()"
   ]
  },
  {
   "cell_type": "code",
   "execution_count": 4,
   "id": "dc1e43e5",
   "metadata": {},
   "outputs": [
    {
     "name": "stdout",
     "output_type": "stream",
     "text": [
      "<class 'pandas.core.frame.DataFrame'>\n",
      "RangeIndex: 4760 entries, 0 to 4759\n",
      "Data columns (total 21 columns):\n",
      " #   Column                    Non-Null Count  Dtype  \n",
      "---  ------                    --------------  -----  \n",
      " 0   Movie_ID                  4760 non-null   int64  \n",
      " 1   Movie_Title               4760 non-null   object \n",
      " 2   Movie_Genre               4760 non-null   object \n",
      " 3   Movie_Language            4760 non-null   object \n",
      " 4   Movie_Budget              4760 non-null   int64  \n",
      " 5   Movie_Popularity          4760 non-null   float64\n",
      " 6   Movie_Release_Date        4760 non-null   object \n",
      " 7   Movie_Revenue             4760 non-null   int64  \n",
      " 8   Movie_Runtime             4758 non-null   float64\n",
      " 9   Movie_Vote                4760 non-null   float64\n",
      " 10  Movie_Vote_Count          4760 non-null   int64  \n",
      " 11  Movie_Homepage            1699 non-null   object \n",
      " 12  Movie_Keywords            4373 non-null   object \n",
      " 13  Movie_Overview            4757 non-null   object \n",
      " 14  Movie_Production_House    4760 non-null   object \n",
      " 15  Movie_Production_Country  4760 non-null   object \n",
      " 16  Movie_Spoken_Language     4760 non-null   object \n",
      " 17  Movie_Tagline             3942 non-null   object \n",
      " 18  Movie_Cast                4733 non-null   object \n",
      " 19  Movie_Crew                4760 non-null   object \n",
      " 20  Movie_Director            4738 non-null   object \n",
      "dtypes: float64(3), int64(4), object(14)\n",
      "memory usage: 781.1+ KB\n"
     ]
    }
   ],
   "source": [
    "df.info()"
   ]
  },
  {
   "cell_type": "code",
   "execution_count": 5,
   "id": "5e597782",
   "metadata": {},
   "outputs": [
    {
     "data": {
      "text/plain": [
       "Index(['Movie_ID', 'Movie_Title', 'Movie_Genre', 'Movie_Language',\n",
       "       'Movie_Budget', 'Movie_Popularity', 'Movie_Release_Date',\n",
       "       'Movie_Revenue', 'Movie_Runtime', 'Movie_Vote', 'Movie_Vote_Count',\n",
       "       'Movie_Homepage', 'Movie_Keywords', 'Movie_Overview',\n",
       "       'Movie_Production_House', 'Movie_Production_Country',\n",
       "       'Movie_Spoken_Language', 'Movie_Tagline', 'Movie_Cast', 'Movie_Crew',\n",
       "       'Movie_Director'],\n",
       "      dtype='object')"
      ]
     },
     "execution_count": 5,
     "metadata": {},
     "output_type": "execute_result"
    }
   ],
   "source": [
    "df.columns"
   ]
  },
  {
   "cell_type": "code",
   "execution_count": 6,
   "id": "f858694b",
   "metadata": {},
   "outputs": [
    {
     "data": {
      "text/plain": [
       "(4760, 21)"
      ]
     },
     "execution_count": 6,
     "metadata": {},
     "output_type": "execute_result"
    }
   ],
   "source": [
    "df.shape"
   ]
  },
  {
   "cell_type": "markdown",
   "id": "026c05c9",
   "metadata": {},
   "source": [
    "# Get Feature Selection"
   ]
  },
  {
   "cell_type": "code",
   "execution_count": 7,
   "id": "d4af9e86",
   "metadata": {},
   "outputs": [],
   "source": [
    "df_features = df[['Movie_Genre','Movie_Keywords','Movie_Tagline','Movie_Cast','Movie_Director']]"
   ]
  },
  {
   "cell_type": "code",
   "execution_count": 8,
   "id": "b2db72cf",
   "metadata": {},
   "outputs": [
    {
     "data": {
      "text/plain": [
       "(4760, 5)"
      ]
     },
     "execution_count": 8,
     "metadata": {},
     "output_type": "execute_result"
    }
   ],
   "source": [
    "df_features.shape"
   ]
  },
  {
   "cell_type": "code",
   "execution_count": 9,
   "id": "d8f432ab",
   "metadata": {},
   "outputs": [
    {
     "data": {
      "text/html": [
       "<div>\n",
       "<style scoped>\n",
       "    .dataframe tbody tr th:only-of-type {\n",
       "        vertical-align: middle;\n",
       "    }\n",
       "\n",
       "    .dataframe tbody tr th {\n",
       "        vertical-align: top;\n",
       "    }\n",
       "\n",
       "    .dataframe thead th {\n",
       "        text-align: right;\n",
       "    }\n",
       "</style>\n",
       "<table border=\"1\" class=\"dataframe\">\n",
       "  <thead>\n",
       "    <tr style=\"text-align: right;\">\n",
       "      <th></th>\n",
       "      <th>Movie_Genre</th>\n",
       "      <th>Movie_Keywords</th>\n",
       "      <th>Movie_Tagline</th>\n",
       "      <th>Movie_Cast</th>\n",
       "      <th>Movie_Director</th>\n",
       "    </tr>\n",
       "  </thead>\n",
       "  <tbody>\n",
       "    <tr>\n",
       "      <th>0</th>\n",
       "      <td>Crime Comedy</td>\n",
       "      <td>hotel new year's eve witch bet hotel room</td>\n",
       "      <td>Twelve outrageous guests. Four scandalous requ...</td>\n",
       "      <td>Tim Roth Antonio Banderas Jennifer Beals Madon...</td>\n",
       "      <td>Allison Anders</td>\n",
       "    </tr>\n",
       "    <tr>\n",
       "      <th>1</th>\n",
       "      <td>Adventure Action Science Fiction</td>\n",
       "      <td>android galaxy hermit death star lightsaber</td>\n",
       "      <td>A long time ago in a galaxy far, far away...</td>\n",
       "      <td>Mark Hamill Harrison Ford Carrie Fisher Peter ...</td>\n",
       "      <td>George Lucas</td>\n",
       "    </tr>\n",
       "    <tr>\n",
       "      <th>2</th>\n",
       "      <td>Animation Family</td>\n",
       "      <td>father son relationship harbor underwater fish...</td>\n",
       "      <td>There are 3.7 trillion fish in the ocean, they...</td>\n",
       "      <td>Albert Brooks Ellen DeGeneres Alexander Gould ...</td>\n",
       "      <td>Andrew Stanton</td>\n",
       "    </tr>\n",
       "    <tr>\n",
       "      <th>3</th>\n",
       "      <td>Comedy Drama Romance</td>\n",
       "      <td>vietnam veteran hippie mentally disabled runni...</td>\n",
       "      <td>The world will never be the same, once you've ...</td>\n",
       "      <td>Tom Hanks Robin Wright Gary Sinise Mykelti Wil...</td>\n",
       "      <td>Robert Zemeckis</td>\n",
       "    </tr>\n",
       "    <tr>\n",
       "      <th>4</th>\n",
       "      <td>Drama</td>\n",
       "      <td>male nudity female nudity adultery midlife cri...</td>\n",
       "      <td>Look closer.</td>\n",
       "      <td>Kevin Spacey Annette Bening Thora Birch Wes Be...</td>\n",
       "      <td>Sam Mendes</td>\n",
       "    </tr>\n",
       "    <tr>\n",
       "      <th>...</th>\n",
       "      <td>...</td>\n",
       "      <td>...</td>\n",
       "      <td>...</td>\n",
       "      <td>...</td>\n",
       "      <td>...</td>\n",
       "    </tr>\n",
       "    <tr>\n",
       "      <th>4755</th>\n",
       "      <td>Horror</td>\n",
       "      <td>NaN</td>\n",
       "      <td>The hot spot where Satan's waitin'.</td>\n",
       "      <td>Lisa Hart Carroll Michael Des Barres Paul Drak...</td>\n",
       "      <td>Pece Dingo</td>\n",
       "    </tr>\n",
       "    <tr>\n",
       "      <th>4756</th>\n",
       "      <td>Comedy Family Drama</td>\n",
       "      <td>NaN</td>\n",
       "      <td>It’s better to stand out than to fit in.</td>\n",
       "      <td>Roni Akurati Brighton Sharbino Jason Lee Anjul...</td>\n",
       "      <td>Frank Lotito</td>\n",
       "    </tr>\n",
       "    <tr>\n",
       "      <th>4757</th>\n",
       "      <td>Thriller Drama</td>\n",
       "      <td>christian film sex trafficking</td>\n",
       "      <td>She never knew it could happen to her...</td>\n",
       "      <td>Nicole Smolen Kim Baldwin Ariana Stephens Brys...</td>\n",
       "      <td>Jaco Booyens</td>\n",
       "    </tr>\n",
       "    <tr>\n",
       "      <th>4758</th>\n",
       "      <td>Family</td>\n",
       "      <td>NaN</td>\n",
       "      <td>NaN</td>\n",
       "      <td>NaN</td>\n",
       "      <td>NaN</td>\n",
       "    </tr>\n",
       "    <tr>\n",
       "      <th>4759</th>\n",
       "      <td>Documentary</td>\n",
       "      <td>music actors legendary perfomer classic hollyw...</td>\n",
       "      <td>NaN</td>\n",
       "      <td>Tony Oppedisano</td>\n",
       "      <td>Simon Napier-Bell</td>\n",
       "    </tr>\n",
       "  </tbody>\n",
       "</table>\n",
       "<p>4760 rows × 5 columns</p>\n",
       "</div>"
      ],
      "text/plain": [
       "                           Movie_Genre  \\\n",
       "0                         Crime Comedy   \n",
       "1     Adventure Action Science Fiction   \n",
       "2                     Animation Family   \n",
       "3                 Comedy Drama Romance   \n",
       "4                                Drama   \n",
       "...                                ...   \n",
       "4755                            Horror   \n",
       "4756               Comedy Family Drama   \n",
       "4757                    Thriller Drama   \n",
       "4758                            Family   \n",
       "4759                       Documentary   \n",
       "\n",
       "                                         Movie_Keywords  \\\n",
       "0             hotel new year's eve witch bet hotel room   \n",
       "1           android galaxy hermit death star lightsaber   \n",
       "2     father son relationship harbor underwater fish...   \n",
       "3     vietnam veteran hippie mentally disabled runni...   \n",
       "4     male nudity female nudity adultery midlife cri...   \n",
       "...                                                 ...   \n",
       "4755                                                NaN   \n",
       "4756                                                NaN   \n",
       "4757                     christian film sex trafficking   \n",
       "4758                                                NaN   \n",
       "4759  music actors legendary perfomer classic hollyw...   \n",
       "\n",
       "                                          Movie_Tagline  \\\n",
       "0     Twelve outrageous guests. Four scandalous requ...   \n",
       "1          A long time ago in a galaxy far, far away...   \n",
       "2     There are 3.7 trillion fish in the ocean, they...   \n",
       "3     The world will never be the same, once you've ...   \n",
       "4                                          Look closer.   \n",
       "...                                                 ...   \n",
       "4755                The hot spot where Satan's waitin'.   \n",
       "4756           It’s better to stand out than to fit in.   \n",
       "4757           She never knew it could happen to her...   \n",
       "4758                                                NaN   \n",
       "4759                                                NaN   \n",
       "\n",
       "                                             Movie_Cast     Movie_Director  \n",
       "0     Tim Roth Antonio Banderas Jennifer Beals Madon...     Allison Anders  \n",
       "1     Mark Hamill Harrison Ford Carrie Fisher Peter ...       George Lucas  \n",
       "2     Albert Brooks Ellen DeGeneres Alexander Gould ...     Andrew Stanton  \n",
       "3     Tom Hanks Robin Wright Gary Sinise Mykelti Wil...    Robert Zemeckis  \n",
       "4     Kevin Spacey Annette Bening Thora Birch Wes Be...         Sam Mendes  \n",
       "...                                                 ...                ...  \n",
       "4755  Lisa Hart Carroll Michael Des Barres Paul Drak...         Pece Dingo  \n",
       "4756  Roni Akurati Brighton Sharbino Jason Lee Anjul...       Frank Lotito  \n",
       "4757  Nicole Smolen Kim Baldwin Ariana Stephens Brys...       Jaco Booyens  \n",
       "4758                                                NaN                NaN  \n",
       "4759                                    Tony Oppedisano  Simon Napier-Bell  \n",
       "\n",
       "[4760 rows x 5 columns]"
      ]
     },
     "execution_count": 9,
     "metadata": {},
     "output_type": "execute_result"
    }
   ],
   "source": [
    "df_features"
   ]
  },
  {
   "cell_type": "code",
   "execution_count": 10,
   "id": "155e17eb",
   "metadata": {},
   "outputs": [],
   "source": [
    "x= df_features['Movie_Genre']+' '+df_features['Movie_Keywords']+' '+df_features['Movie_Tagline']+' '+df_features['Movie_Cast']+' '+df_features['Movie_Director']"
   ]
  },
  {
   "cell_type": "code",
   "execution_count": 11,
   "id": "c8e5b672",
   "metadata": {},
   "outputs": [
    {
     "data": {
      "text/plain": [
       "0       Crime Comedy hotel new year's eve witch bet ho...\n",
       "1       Adventure Action Science Fiction android galax...\n",
       "2       Animation Family father son relationship harbo...\n",
       "3       Comedy Drama Romance vietnam veteran hippie me...\n",
       "4       Drama male nudity female nudity adultery midli...\n",
       "                              ...                        \n",
       "4755                                                  NaN\n",
       "4756                                                  NaN\n",
       "4757    Thriller Drama christian film sex trafficking ...\n",
       "4758                                                  NaN\n",
       "4759                                                  NaN\n",
       "Length: 4760, dtype: object"
      ]
     },
     "execution_count": 11,
     "metadata": {},
     "output_type": "execute_result"
    }
   ],
   "source": [
    "x"
   ]
  },
  {
   "cell_type": "code",
   "execution_count": 12,
   "id": "785487a0",
   "metadata": {},
   "outputs": [
    {
     "data": {
      "text/plain": [
       "(4760,)"
      ]
     },
     "execution_count": 12,
     "metadata": {},
     "output_type": "execute_result"
    }
   ],
   "source": [
    "x.shape"
   ]
  },
  {
   "cell_type": "code",
   "execution_count": 13,
   "id": "15570b67",
   "metadata": {},
   "outputs": [
    {
     "name": "stdout",
     "output_type": "stream",
     "text": [
      "Requirement already satisfied: scikit-learn in c:\\users\\yash\\anaconda3\\lib\\site-packages (1.1.0)\n",
      "Requirement already satisfied: numpy in c:\\users\\yash\\anaconda3\\lib\\site-packages (1.20.1)\n",
      "Requirement already satisfied: scipy>=1.3.2 in c:\\users\\yash\\anaconda3\\lib\\site-packages (from scikit-learn) (1.6.2)\n",
      "Requirement already satisfied: threadpoolctl>=2.0.0 in c:\\users\\yash\\anaconda3\\lib\\site-packages (from scikit-learn) (2.1.0)\n",
      "Requirement already satisfied: joblib>=1.0.0 in c:\\users\\yash\\anaconda3\\lib\\site-packages (from scikit-learn) (1.0.1)\n",
      "Note: you may need to restart the kernel to use updated packages.\n"
     ]
    }
   ],
   "source": [
    "pip install scikit-learn numpy"
   ]
  },
  {
   "cell_type": "markdown",
   "id": "9188347b",
   "metadata": {},
   "source": [
    "# Get Feature Text Conversion to Token"
   ]
  },
  {
   "cell_type": "code",
   "execution_count": 14,
   "id": "0e457584",
   "metadata": {},
   "outputs": [],
   "source": [
    "from sklearn.feature_extraction.text import TfidfVectorizer"
   ]
  },
  {
   "cell_type": "code",
   "execution_count": 15,
   "id": "e20efe2b",
   "metadata": {},
   "outputs": [],
   "source": [
    "tfidf = TfidfVectorizer()"
   ]
  },
  {
   "cell_type": "code",
   "execution_count": null,
   "id": "5a4ea169",
   "metadata": {},
   "outputs": [],
   "source": []
  },
  {
   "cell_type": "code",
   "execution_count": 16,
   "id": "735fe8b2",
   "metadata": {},
   "outputs": [],
   "source": [
    "x = tfidf.fit_transform(df['Movie_Genre'].apply(lambda x: np.str_(x)))"
   ]
  },
  {
   "cell_type": "code",
   "execution_count": 17,
   "id": "b6694d0e",
   "metadata": {},
   "outputs": [
    {
     "data": {
      "text/plain": [
       "(4760, 22)"
      ]
     },
     "execution_count": 17,
     "metadata": {},
     "output_type": "execute_result"
    }
   ],
   "source": [
    "x.shape"
   ]
  },
  {
   "cell_type": "code",
   "execution_count": 18,
   "id": "76f2d899",
   "metadata": {},
   "outputs": [
    {
     "name": "stdout",
     "output_type": "stream",
     "text": [
      "  (0, 3)\t0.567994993044323\n",
      "  (0, 4)\t0.8230320090230874\n",
      "  (1, 9)\t0.5472567572025355\n",
      "  (1, 17)\t0.5472567572025355\n",
      "  (1, 0)\t0.4142450317397563\n",
      "  (1, 1)\t0.4789792658051688\n",
      "  (2, 7)\t0.627239616473057\n",
      "  (2, 2)\t0.7788263372066537\n",
      "  (3, 16)\t0.7095830468532522\n",
      "  (3, 6)\t0.4588789948650055\n",
      "  (3, 3)\t0.5347167172345909\n",
      "  (4, 6)\t1.0\n",
      "  (5, 14)\t0.782002165752056\n",
      "  (5, 6)\t0.3176099072747343\n",
      "  (5, 4)\t0.536280299433075\n",
      "  (6, 18)\t0.3253553205418715\n",
      "  (6, 8)\t0.47881894745127623\n",
      "  (6, 9)\t0.4462328816161391\n",
      "  (6, 17)\t0.4462328816161391\n",
      "  (6, 0)\t0.3377751882924471\n",
      "  (6, 1)\t0.3905594498406914\n",
      "  (7, 6)\t0.3575069281897745\n",
      "  (7, 9)\t0.6603744378367137\n",
      "  (7, 17)\t0.6603744378367137\n",
      "  (8, 16)\t0.8397120676014654\n",
      "  :\t:\n",
      "  (4747, 18)\t0.5234538862407621\n",
      "  (4747, 0)\t0.5434358187009642\n",
      "  (4747, 4)\t0.6562572208610403\n",
      "  (4748, 6)\t1.0\n",
      "  (4749, 6)\t1.0\n",
      "  (4750, 12)\t1.0\n",
      "  (4751, 12)\t1.0\n",
      "  (4752, 11)\t0.6121933556529567\n",
      "  (4752, 20)\t0.6603136584009235\n",
      "  (4752, 6)\t0.25303971500984057\n",
      "  (4752, 0)\t0.35380230419162007\n",
      "  (4753, 6)\t1.0\n",
      "  (4754, 8)\t0.4758711037326812\n",
      "  (4754, 7)\t0.44802247438711246\n",
      "  (4754, 2)\t0.5562972961995059\n",
      "  (4754, 0)\t0.33569567896558106\n",
      "  (4754, 1)\t0.3881549747732799\n",
      "  (4755, 12)\t1.0\n",
      "  (4756, 6)\t0.4138017193773235\n",
      "  (4756, 7)\t0.7721795703632187\n",
      "  (4756, 3)\t0.4821896392023016\n",
      "  (4757, 18)\t0.8028801653734292\n",
      "  (4757, 6)\t0.5961404532909466\n",
      "  (4758, 7)\t1.0\n",
      "  (4759, 5)\t1.0\n"
     ]
    }
   ],
   "source": [
    "print(x)"
   ]
  },
  {
   "cell_type": "code",
   "execution_count": 19,
   "id": "3ac4ea58",
   "metadata": {},
   "outputs": [
    {
     "name": "stdout",
     "output_type": "stream",
     "text": [
      "  (0, 3)\t0.567994993044323\n",
      "  (0, 4)\t0.8230320090230874\n",
      "  (1, 9)\t0.5472567572025355\n",
      "  (1, 17)\t0.5472567572025355\n",
      "  (1, 0)\t0.4142450317397563\n",
      "  (1, 1)\t0.4789792658051688\n",
      "  (2, 7)\t0.627239616473057\n",
      "  (2, 2)\t0.7788263372066537\n",
      "  (3, 16)\t0.7095830468532522\n",
      "  (3, 6)\t0.4588789948650055\n",
      "  (3, 3)\t0.5347167172345909\n",
      "  (4, 6)\t1.0\n",
      "  (5, 14)\t0.782002165752056\n",
      "  (5, 6)\t0.3176099072747343\n",
      "  (5, 4)\t0.536280299433075\n",
      "  (6, 18)\t0.3253553205418715\n",
      "  (6, 8)\t0.47881894745127623\n",
      "  (6, 9)\t0.4462328816161391\n",
      "  (6, 17)\t0.4462328816161391\n",
      "  (6, 0)\t0.3377751882924471\n",
      "  (6, 1)\t0.3905594498406914\n",
      "  (7, 6)\t0.3575069281897745\n",
      "  (7, 9)\t0.6603744378367137\n",
      "  (7, 17)\t0.6603744378367137\n",
      "  (8, 16)\t0.8397120676014654\n",
      "  :\t:\n",
      "  (4747, 18)\t0.5234538862407621\n",
      "  (4747, 0)\t0.5434358187009642\n",
      "  (4747, 4)\t0.6562572208610403\n",
      "  (4748, 6)\t1.0\n",
      "  (4749, 6)\t1.0\n",
      "  (4750, 12)\t1.0\n",
      "  (4751, 12)\t1.0\n",
      "  (4752, 11)\t0.6121933556529567\n",
      "  (4752, 20)\t0.6603136584009235\n",
      "  (4752, 6)\t0.25303971500984057\n",
      "  (4752, 0)\t0.35380230419162007\n",
      "  (4753, 6)\t1.0\n",
      "  (4754, 8)\t0.4758711037326812\n",
      "  (4754, 7)\t0.44802247438711246\n",
      "  (4754, 2)\t0.5562972961995059\n",
      "  (4754, 0)\t0.33569567896558106\n",
      "  (4754, 1)\t0.3881549747732799\n",
      "  (4755, 12)\t1.0\n",
      "  (4756, 6)\t0.4138017193773235\n",
      "  (4756, 7)\t0.7721795703632187\n",
      "  (4756, 3)\t0.4821896392023016\n",
      "  (4757, 18)\t0.8028801653734292\n",
      "  (4757, 6)\t0.5961404532909466\n",
      "  (4758, 7)\t1.0\n",
      "  (4759, 5)\t1.0\n"
     ]
    }
   ],
   "source": [
    "print(x)\n"
   ]
  },
  {
   "cell_type": "markdown",
   "id": "a0cd259f",
   "metadata": {},
   "source": [
    "# Get Simlarity Score Using Cosine Similarity"
   ]
  },
  {
   "cell_type": "code",
   "execution_count": 20,
   "id": "1447a944",
   "metadata": {},
   "outputs": [],
   "source": [
    "from sklearn.metrics.pairwise import cosine_similarity"
   ]
  },
  {
   "cell_type": "code",
   "execution_count": 21,
   "id": "bff24391",
   "metadata": {},
   "outputs": [],
   "source": [
    "similarity_score = cosine_similarity(x)"
   ]
  },
  {
   "cell_type": "code",
   "execution_count": 22,
   "id": "77d55d9a",
   "metadata": {},
   "outputs": [
    {
     "data": {
      "text/plain": [
       "array([[1.        , 0.        , 0.        , ..., 0.        , 0.        ,\n",
       "        0.        ],\n",
       "       [0.        , 1.        , 0.        , ..., 0.        , 0.        ,\n",
       "        0.        ],\n",
       "       [0.        , 0.        , 1.        , ..., 0.        , 0.62723962,\n",
       "        0.        ],\n",
       "       ...,\n",
       "       [0.        , 0.        , 0.        , ..., 1.        , 0.        ,\n",
       "        0.        ],\n",
       "       [0.        , 0.        , 0.62723962, ..., 0.        , 1.        ,\n",
       "        0.        ],\n",
       "       [0.        , 0.        , 0.        , ..., 0.        , 0.        ,\n",
       "        1.        ]])"
      ]
     },
     "execution_count": 22,
     "metadata": {},
     "output_type": "execute_result"
    }
   ],
   "source": [
    "similarity_score"
   ]
  },
  {
   "cell_type": "code",
   "execution_count": 23,
   "id": "53d92212",
   "metadata": {},
   "outputs": [
    {
     "data": {
      "text/plain": [
       "(4760, 4760)"
      ]
     },
     "execution_count": 23,
     "metadata": {},
     "output_type": "execute_result"
    }
   ],
   "source": [
    "similarity_score.shape"
   ]
  },
  {
   "cell_type": "markdown",
   "id": "8b9c161b",
   "metadata": {},
   "source": [
    "# Get Movie name as input from user and vallidate for Closest Speeling"
   ]
  },
  {
   "cell_type": "code",
   "execution_count": 24,
   "id": "f2134243",
   "metadata": {},
   "outputs": [
    {
     "name": "stdout",
     "output_type": "stream",
     "text": [
      "enter your Favourite Movie :Avatar\n"
     ]
    }
   ],
   "source": [
    "Favourite_Movie_Name = input(\"enter your Favourite Movie :\")"
   ]
  },
  {
   "cell_type": "code",
   "execution_count": 25,
   "id": "7684f0c9",
   "metadata": {},
   "outputs": [],
   "source": [
    "All_Movies_Title_List = df['Movie_Title'].tolist()"
   ]
  },
  {
   "cell_type": "code",
   "execution_count": 26,
   "id": "c2d7a286",
   "metadata": {},
   "outputs": [],
   "source": [
    "import difflib"
   ]
  },
  {
   "cell_type": "code",
   "execution_count": 27,
   "id": "36018bd1",
   "metadata": {},
   "outputs": [],
   "source": [
    "Movie_Recommendation = difflib.get_close_matches(Favourite_Movie_Name,All_Movies_Title_List)"
   ]
  },
  {
   "cell_type": "code",
   "execution_count": 28,
   "id": "dd58bdd5",
   "metadata": {},
   "outputs": [
    {
     "name": "stdout",
     "output_type": "stream",
     "text": [
      "['Avatar']\n"
     ]
    }
   ],
   "source": [
    "print(Movie_Recommendation)"
   ]
  },
  {
   "cell_type": "code",
   "execution_count": 29,
   "id": "c1489df3",
   "metadata": {},
   "outputs": [],
   "source": [
    "Close_Match = Movie_Recommendation[0]"
   ]
  },
  {
   "cell_type": "code",
   "execution_count": 30,
   "id": "7e7b3ccd",
   "metadata": {},
   "outputs": [
    {
     "name": "stdout",
     "output_type": "stream",
     "text": [
      "Avatar\n"
     ]
    }
   ],
   "source": [
    "print(Close_Match)"
   ]
  },
  {
   "cell_type": "code",
   "execution_count": 31,
   "id": "53432f75",
   "metadata": {},
   "outputs": [],
   "source": [
    "Index_of_Close_Match_Movie = df[df.Movie_Title == Close_Match]['Movie_ID'].values[0]"
   ]
  },
  {
   "cell_type": "code",
   "execution_count": 32,
   "id": "22a51933",
   "metadata": {},
   "outputs": [
    {
     "name": "stdout",
     "output_type": "stream",
     "text": [
      "2692\n"
     ]
    }
   ],
   "source": [
    "print(Index_of_Close_Match_Movie)"
   ]
  },
  {
   "cell_type": "code",
   "execution_count": 38,
   "id": "918ac3a2",
   "metadata": {},
   "outputs": [],
   "source": [
    "\n",
    "Recommendation_Score = list(enumerate(similarity_score[Index_of_Close_Match_Movie]))"
   ]
  },
  {
   "cell_type": "code",
   "execution_count": 39,
   "id": "11b636ad",
   "metadata": {},
   "outputs": [
    {
     "name": "stdout",
     "output_type": "stream",
     "text": [
      "[(0, 0.583875513314773), (1, 0.0), (2, 0.0), (3, 0.1927986161492257), (4, 0.4201513216048248), (5, 0.5138922871093842), (6, 0.18410508450060364), (7, 0.15020700836181497), (8, 0.2281555701130624), (9, 0.0), (10, 0.5463997708973266), (11, 0.15034557489536654), (12, 0.15034557489536654), (13, 0.0), (14, 0.0), (15, 0.13145651668559796), (16, 0.7047857921491699), (17, 0.0), (18, 1.0000000000000002), (19, 0.0), (20, 0.4201513216048248), (21, 1.0000000000000002), (22, 0.0), (23, 0.13665113058974965), (24, 0.4201513216048248), (25, 0.14479358612098284), (26, 0.4201513216048248), (27, 0.22719669197542222), (28, 0.0), (29, 0.2281555701130624), (30, 0.3065591246793501), (31, 0.38081784061305546), (32, 0.12431809226829804), (33, 0.2281555701130624), (34, 0.7047857921491699), (35, 0.0), (36, 0.0), (37, 0.0), (38, 0.4824765370565067), (39, 0.20970750355439477), (40, 0.4824765370565067), (41, 0.1780441361005807), (42, 0.583875513314773), (43, 0.8245023470136082), (44, 0.5413794213254587), (45, 0.0), (46, 0.20970750355439477), (47, 0.907454057764755), (48, 0.8622265148955368), (49, 0.0), (50, 0.583875513314773), (51, 0.8385597416532798), (52, 0.7012988244541298), (53, 0.0), (54, 0.0), (55, 0.0), (56, 0.0), (57, 0.0), (58, 0.0), (59, 0.0), (60, 0.14262873701395096), (61, 0.1378121690542703), (62, 0.2281555701130624), (63, 0.148919646107351), (64, 0.0), (65, 0.0), (66, 0.4201513216048248), (67, 0.20970750355439477), (68, 0.8622265148955368), (69, 0.20970750355439477), (70, 0.907454057764755), (71, 0.15529550115732185), (72, 0.907454057764755), (73, 0.0), (74, 0.15020700836181497), (75, 0.0), (76, 0.23415464727412472), (77, 0.21917041055208134), (78, 0.20970750355439477), (79, 0.13004738220141465), (80, 0.20970750355439477), (81, 0.3667052265506215), (82, 0.2736199937911261), (83, 0.907454057764755), (84, 0.1970414962802812), (85, 0.3876853334756331), (86, 0.46626110518344044), (87, 0.7514869502857859), (88, 0.7617629619652846), (89, 0.907454057764755), (90, 0.20970750355439477), (91, 0.0), (92, 0.10631497067989275), (93, 0.20970750355439477), (94, 0.20970750355439477), (95, 0.20970750355439477), (96, 0.8245023470136082), (97, 0.11366692118716612), (98, 0.4201513216048248), (99, 0.6878993572639702), (100, 0.0), (101, 0.0), (102, 0.23415464727412472), (103, 0.1927986161492257), (104, 0.1813731807713378), (105, 0.8245023470136082), (106, 0.8245023470136082), (107, 0.7047857921491699), (108, 0.8245023470136082), (109, 0.8245023470136082), (110, 0.0), (111, 0.8245023470136082), (112, 1.0000000000000002), (113, 0.1277818410228055), (114, 0.1927986161492257), (115, 0.2736199937911261), (116, 0.32177009139991164), (117, 0.0), (118, 0.3016556598097263), (119, 0.1780441361005807), (120, 0.5974918773976983), (121, 0.2281555701130624), (122, 0.0), (123, 0.6714913379551536), (124, 1.0000000000000002), (125, 0.2746871206041339), (126, 0.8245023470136082), (127, 0.11690979674299005), (128, 0.23415464727412472), (129, 0.1927986161492257), (130, 0.0), (131, 0.0), (132, 0.2281555701130624), (133, 0.0), (134, 0.0), (135, 0.23415464727412472), (136, 0.1378121690542703), (137, 0.907454057764755), (138, 0.907454057764755), (139, 0.4824765370565067), (140, 0.4201513216048248), (141, 0.0), (142, 0.8245023470136082), (143, 0.5463997708973266), (144, 0.6529153803670847), (145, 0.6521910775661488), (146, 0.0), (147, 0.7514869502857859), (148, 0.6175457622364403), (149, 1.0000000000000002), (150, 0.0), (151, 0.0), (152, 0.20970750355439477), (153, 0.0), (154, 0.4201513216048248), (155, 0.0), (156, 0.1927986161492257), (157, 0.2736199937911261), (158, 0.1813731807713378), (159, 0.2444150400336092), (160, 0.2033463939392786), (161, 0.1927986161492257), (162, 0.0), (163, 0.0), (164, 0.4201513216048248), (165, 0.09839948991327892), (166, 1.0000000000000002), (167, 0.4201513216048248), (168, 0.0), (169, 0.1927986161492257), (170, 0.7617629619652846), (171, 0.0), (172, 0.8245023470136082), (173, 0.8245023470136082), (174, 0.1927986161492257), (175, 0.2736199937911261), (176, 0.4201513216048248), (177, 0.0), (178, 0.13154936915041948), (179, 0.0), (180, 0.40530495837753455), (181, 0.40530495837753455), (182, 0.18843348142492838), (183, 0.15034557489536654), (184, 0.11366692118716612), (185, 0.0), (186, 0.0), (187, 0.2113343685071608), (188, 0.0), (189, 0.20970750355439477), (190, 1.0000000000000002), (191, 0.17975596508300082), (192, 0.2281555701130624), (193, 0.2281555701130624), (194, 0.2281555701130624), (195, 0.1927986161492257), (196, 0.4201513216048248), (197, 0.1277818410228055), (198, 0.2281555701130624), (199, 1.0000000000000002), (200, 0.44120966393682026), (201, 0.6449981645934193), (202, 0.1927986161492257), (203, 0.4201513216048248), (204, 0.16757343279053877), (205, 0.0), (206, 0.5800980625456084), (207, 0.907454057764755), (208, 0.43511507076596534), (209, 0.8245023470136082), (210, 0.8622265148955368), (211, 0.1927986161492257), (212, 0.1927986161492257), (213, 0.4201513216048248), (214, 0.0), (215, 0.14662368428624792), (216, 0.8245023470136082), (217, 0.3425778711321785), (218, 0.1333078392052627), (219, 0.0), (220, 0.23415464727412472), (221, 0.13665113058974965), (222, 0.472265187178681), (223, 0.0), (224, 0.2281555701130624), (225, 0.0), (226, 0.4201513216048248), (227, 0.2281555701130624), (228, 0.16049306226978435), (229, 0.4201513216048248), (230, 0.0), (231, 0.0), (232, 0.0), (233, 0.3925596102177653), (234, 0.20970750355439477), (235, 0.4201513216048248), (236, 0.7514869502857859), (237, 0.0), (238, 0.4153931693167142), (239, 0.27147647258945606), (240, 0.3320755897612702), (241, 0.36218095138705925), (242, 0.12030768867965337), (243, 0.7047857921491699), (244, 0.7617629619652846), (245, 0.0), (246, 0.2736199937911261), (247, 0.15298694294248064), (248, 0.0), (249, 0.4201513216048248), (250, 0.3065591246793501), (251, 0.5644388622118346), (252, 0.10919851448065743), (253, 0.2736199937911261), (254, 0.8245023470136082), (255, 0.518199417059322), (256, 0.8245023470136082), (257, 0.0), (258, 0.0), (259, 0.0), (260, 0.20970750355439477), (261, 0.20970750355439477), (262, 0.4201513216048248), (263, 0.0), (264, 0.0), (265, 0.0), (266, 0.36274597594297037), (267, 0.11366692118716612), (268, 0.4201513216048248), (269, 0.10631497067989275), (270, 0.5644388622118346), (271, 0.3251299342437633), (272, 0.0), (273, 0.24554429453440887), (274, 0.8245023470136082), (275, 0.0), (276, 1.0000000000000002), (277, 0.0), (278, 0.1927986161492257), (279, 0.1927986161492257), (280, 0.8245023470136082), (281, 0.8245023470136082), (282, 0.37836410033069096), (283, 0.13004738220141465), (284, 0.3016556598097263), (285, 0.8245023470136082), (286, 0.13013727856108082), (287, 0.8245023470136082), (288, 0.3016556598097263), (289, 0.3016556598097263), (290, 0.3016556598097263), (291, 0.6878993572639702), (292, 0.1780441361005807), (293, 0.4201513216048248), (294, 0.3016556598097263), (295, 0.3016556598097263), (296, 0.3911591963692266), (297, 0.0), (298, 0.0), (299, 0.0), (300, 0.0), (301, 0.0), (302, 0.0), (303, 0.2033463939392786), (304, 0.907454057764755), (305, 0.3016556598097263), (306, 0.3016556598097263), (307, 0.12033720983224261), (308, 0.4201513216048248), (309, 0.2281555701130624), (310, 0.3016556598097263), (311, 0.4327498043306492), (312, 0.0), (313, 0.3320755897612702), (314, 0.20970750355439477), (315, 0.3016556598097263), (316, 0.3016556598097263), (317, 0.4201513216048248), (318, 0.1927986161492257), (319, 0.0), (320, 0.3016556598097263), (321, 0.3016556598097263), (322, 0.3016556598097263), (323, 0.3016556598097263), (324, 0.4201513216048248), (325, 0.1927986161492257), (326, 0.2281555701130624), (327, 0.3016556598097263), (328, 0.0), (329, 0.44120966393682026), (330, 0.16049306226978435), (331, 0.0), (332, 0.2746871206041339), (333, 0.5345412954993455), (334, 0.6175457622364403), (335, 0.0), (336, 0.0), (337, 0.0), (338, 0.0), (339, 0.0), (340, 0.0), (341, 0.24554429453440887), (342, 0.8245023470136082), (343, 0.13154936915041948), (344, 0.0), (345, 0.3731489877297615), (346, 0.2736199937911261), (347, 0.1942301341040154), (348, 0.16049306226978435), (349, 0.1581017841542247), (350, 0.4776341062173869), (351, 0.17385933927873132), (352, 0.0), (353, 0.13445539640916665), (354, 0.3320755897612702), (355, 0.15529550115732185), (356, 0.518199417059322), (357, 0.1387653127678244), (358, 0.2281555701130624), (359, 0.14147944497382994), (360, 0.6521910775661488), (361, 0.0), (362, 0.0), (363, 0.0), (364, 0.13004738220141465), (365, 0.0), (366, 0.0), (367, 0.36062591863556764), (368, 0.32425657528577095), (369, 0.36062591863556764), (370, 1.0000000000000002), (371, 0.4015784547713934), (372, 0.16049306226978435), (373, 0.13665113058974965), (374, 0.11366692118716612), (375, 0.19998864075911046), (376, 0.0), (377, 0.2736199937911261), (378, 0.15020700836181497), (379, 0.0), (380, 0.2113343685071608), (381, 0.0), (382, 0.0), (383, 0.0), (384, 0.0), (385, 0.3691621472653379), (386, 0.0), (387, 0.11366692118716612), (388, 0.2281555701130624), (389, 0.2593019961667207), (390, 0.0), (391, 0.0), (392, 0.0), (393, 0.0), (394, 0.0), (395, 0.4201513216048248), (396, 0.8245023470136082), (397, 0.20970750355439477), (398, 0.0), (399, 0.4201513216048248), (400, 0.16049306226978435), (401, 0.0), (402, 0.4201513216048248), (403, 0.13818632521419028), (404, 0.0), (405, 0.0), (406, 0.518199417059322), (407, 0.13154936915041948), (408, 0.6476057520027616), (409, 0.0), (410, 0.13818632521419028), (411, 0.0), (412, 0.4201513216048248), (413, 0.0), (414, 0.0), (415, 0.0), (416, 0.1387653127678244), (417, 0.6022353998973401), (418, 0.6022353998973401), (419, 0.10414134070842193), (420, 0.3320755897612702), (421, 0.0), (422, 0.0), (423, 0.0), (424, 0.3016556598097263), (425, 0.3016556598097263), (426, 0.3016556598097263), (427, 0.0), (428, 0.13655225253436953), (429, 0.7514869502857859), (430, 0.10774701756970638), (431, 0.1927986161492257), (432, 0.4201513216048248), (433, 0.44120966393682026), (434, 0.18925467779751348), (435, 0.7617629619652846), (436, 0.44120966393682026), (437, 0.19845441739269654), (438, 0.2113343685071608), (439, 0.0), (440, 0.0), (441, 0.11366692118716612), (442, 0.5413794213254587), (443, 0.44120966393682026), (444, 0.4201513216048248), (445, 0.4201513216048248), (446, 0.4201513216048248), (447, 1.0000000000000002), (448, 0.2281555701130624), (449, 0.4201513216048248), (450, 1.0000000000000002), (451, 0.228226664079399), (452, 0.11941923392448542), (453, 0.12511504421872643), (454, 0.0), (455, 0.2281555701130624), (456, 0.14262873701395096), (457, 0.15772520913358157), (458, 0.8622265148955368), (459, 0.0), (460, 0.2593019961667207), (461, 0.0), (462, 0.0), (463, 1.0000000000000002), (464, 0.2281555701130624), (465, 0.2281555701130624), (466, 0.4201513216048248), (467, 0.2098220485737594), (468, 0.2098220485737594), (469, 0.2098220485737594), (470, 0.5413794213254587), (471, 0.1927986161492257), (472, 0.11730328365402887), (473, 0.2736199937911261), (474, 0.46626110518344044), (475, 0.2281555701130624), (476, 0.4201513216048248), (477, 0.0), (478, 0.4201513216048248), (479, 0.7089370216032753), (480, 0.12263251823342124), (481, 1.0000000000000002), (482, 0.44120966393682026), (483, 0.5800980625456084), (484, 0.0), (485, 0.8245023470136082), (486, 0.0), (487, 0.14369193776914435), (488, 0.13818632521419028), (489, 0.2281555701130624), (490, 0.2281555701130624), (491, 0.0), (492, 0.0), (493, 0.39119048108925514), (494, 0.4824765370565067), (495, 0.1601401525434569), (496, 0.09839948991327892), (497, 0.0), (498, 0.0), (499, 0.4201513216048248), (500, 0.7617629619652846), (501, 0.6449981645934193), (502, 1.0000000000000002), (503, 0.583875513314773), (504, 0.1927986161492257), (505, 0.2736199937911261), (506, 0.0), (507, 0.2736199937911261), (508, 0.2736199937911261), (509, 0.326757023211668), (510, 0.1927986161492257), (511, 0.21917041055208134), (512, 0.3925596102177653), (513, 0.3925596102177653), (514, 0.3925596102177653), (515, 0.4449015825206608), (516, 0.0), (517, 0.0), (518, 0.4201513216048248), (519, 0.43511507076596534), (520, 0.0), (521, 0.0), (522, 0.14487351454350908), (523, 0.3065591246793501), (524, 0.2281555701130624), (525, 0.0), (526, 0.4201513216048248), (527, 0.4201513216048248), (528, 0.0), (529, 0.0), (530, 0.907454057764755), (531, 0.0), (532, 0.6939130705053973), (533, 0.8622265148955368), (534, 0.8622265148955368), (535, 0.0), (536, 0.0), (537, 0.20970750355439477), (538, 0.0), (539, 0.4397517875495551), (540, 0.3016556598097263), (541, 0.4201513216048248), (542, 0.687474775506141), (543, 1.0000000000000002), (544, 0.8245023470136082), (545, 0.0), (546, 0.0), (547, 0.6476057520027616), (548, 0.0), (549, 0.0), (550, 0.3016556598097263), (551, 0.1581017841542247), (552, 0.0), (553, 0.0), (554, 0.0), (555, 0.0), (556, 0.0), (557, 0.0), (558, 0.5986873724349902), (559, 0.3320755897612702), (560, 0.7617629619652846), (561, 0.0), (562, 0.7047857921491699), (563, 0.7047857921491699), (564, 0.13818632521419028), (565, 0.0), (566, 0.5138922871093842), (567, 0.0), (568, 0.0), (569, 0.0), (570, 0.0), (571, 0.7047857921491699), (572, 0.0), (573, 0.0), (574, 0.0), (575, 0.0), (576, 0.11681907857618115), (577, 0.0), (578, 0.1581017841542247), (579, 0.1927986161492257), (580, 0.3625610983349477), (581, 0.7047857921491699), (582, 0.0), (583, 0.0), (584, 1.0000000000000002), (585, 0.0), (586, 0.0), (587, 0.2281555701130624), (588, 0.15085130174813394), (589, 0.1927986161492257), (590, 0.4015784547713934), (591, 0.0), (592, 0.0), (593, 0.16049306226978435), (594, 0.18843348142492838), (595, 0.3925596102177653), (596, 0.16049306226978435), (597, 0.4201513216048248), (598, 0.16049306226978435), (599, 0.0), (600, 0.0), (601, 0.0), (602, 0.0), (603, 0.0), (604, 1.0000000000000002), (605, 0.1927986161492257), (606, 0.29197757981167904), (607, 0.13818632521419028), (608, 0.4228041700662818), (609, 0.1927986161492257), (610, 0.0), (611, 0.4201513216048248), (612, 0.2281555701130624), (613, 0.0), (614, 0.13435625814607735), (615, 0.0), (616, 0.1581017841542247), (617, 0.3625610983349477), (618, 0.0), (619, 0.2033463939392786), (620, 0.4201513216048248), (621, 0.7617629619652846), (622, 0.7514869502857859), (623, 0.2281555701130624), (624, 0.4201513216048248), (625, 0.2593019961667207), (626, 0.16049306226978435), (627, 0.14873267016748185), (628, 0.7047857921491699), (629, 0.48322210319175696), (630, 0.0), (631, 0.09839948991327892), (632, 0.3119320470039013), (633, 0.24554429453440887), (634, 0.3320755897612702), (635, 0.23733230442583222), (636, 0.44120966393682026), (637, 0.7047857921491699), (638, 0.2281555701130624), (639, 0.23733230442583222), (640, 0.23733230442583222), (641, 0.15772520913358157), (642, 0.7047857921491699), (643, 1.0000000000000002), (644, 0.35503489079268225), (645, 0.4201513216048248), (646, 0.16648745740149773), (647, 0.4201513216048248), (648, 0.0), (649, 0.0), (650, 0.0), (651, 0.10631497067989275), (652, 0.7514869502857859), (653, 0.8622265148955368), (654, 0.5913210892731544), (655, 0.15085130174813394), (656, 0.0), (657, 0.12938852843760973), (658, 0.0), (659, 0.2736199937911261), (660, 0.38214228299382375), (661, 0.23245054316693553), (662, 0.0), (663, 0.0), (664, 0.583875513314773), (665, 0.0), (666, 0.20970750355439477), (667, 0.7986343033237389), (668, 0.7617629619652846), (669, 0.8622265148955368), (670, 0.5413794213254587), (671, 0.0), (672, 0.20231323614354313), (673, 0.8622265148955368), (674, 0.0), (675, 1.0000000000000002), (676, 0.7514869502857859), (677, 0.0), (678, 0.7986343033237389), (679, 0.0), (680, 0.4201513216048248), (681, 0.0), (682, 0.7617629619652846), (683, 0.6714913379551536), (684, 0.4612636028487691), (685, 0.5658585333535687), (686, 0.0), (687, 0.3365822133770827), (688, 0.5413794213254587), (689, 0.7047857921491699), (690, 0.3365822133770827), (691, 0.2736199937911261), (692, 0.6449981645934193), (693, 0.13818632521419028), (694, 0.7047857921491699), (695, 0.6521910775661488), (696, 0.30051650091552534), (697, 0.1927986161492257), (698, 0.2281555701130624), (699, 0.0), (700, 0.0), (701, 0.7514869502857859), (702, 0.0), (703, 0.12048793323174492), (704, 0.0), (705, 0.2281555701130624), (706, 0.4201513216048248), (707, 0.14662368428624792), (708, 0.0), (709, 0.0), (710, 0.0), (711, 0.0), (712, 0.10798971562600349), (713, 0.0), (714, 0.0), (715, 0.1363346886223104), (716, 0.43511507076596534), (717, 0.4201513216048248), (718, 0.0), (719, 0.3911591963692266), (720, 0.0), (721, 0.16049306226978435), (722, 0.16049306226978435), (723, 0.3925596102177653), (724, 0.0), (725, 0.0), (726, 0.0), (727, 0.3911591963692266), (728, 0.5413794213254587), (729, 0.3911591963692266), (730, 0.0), (731, 0.4201513216048248), (732, 0.7047857921491699), (733, 0.3408729295715863), (734, 0.15034557489536654), (735, 0.1927986161492257), (736, 0.0), (737, 0.1927986161492257), (738, 0.3925596102177653), (739, 0.14147944497382994), (740, 0.2736199937911261), (741, 0.0), (742, 0.44120966393682026), (743, 0.7047857921491699), (744, 0.3625610983349477), (745, 0.289426163646459), (746, 0.0), (747, 0.0), (748, 0.0), (749, 0.1415664400575078), (750, 0.3159229682943087), (751, 0.0), (752, 0.0), (753, 0.7617629619652846), (754, 0.0), (755, 0.2736199937911261), (756, 0.20970750355439477), (757, 0.7089370216032753), (758, 0.0), (759, 0.2736199937911261), (760, 0.5482483129822032), (761, 0.7047857921491699), (762, 0.23415464727412472), (763, 0.0), (764, 0.0), (765, 0.3065591246793501), (766, 0.4201513216048248), (767, 0.4201513216048248), (768, 0.0), (769, 0.38081784061305546), (770, 0.0), (771, 0.0), (772, 0.0), (773, 0.0), (774, 0.2281555701130624), (775, 0.36218095138705925), (776, 0.0), (777, 0.4201513216048248), (778, 0.0), (779, 0.2746871206041339), (780, 0.0), (781, 0.0), (782, 0.4201513216048248), (783, 0.13154936915041948), (784, 0.0), (785, 0.0), (786, 0.0), (787, 0.2736199937911261), (788, 0.2736199937911261), (789, 0.0), (790, 0.6521910775661488), (791, 0.4201513216048248), (792, 0.519393454044119), (793, 0.2739221754888949), (794, 0.1338655541211392), (795, 0.40953546252894824), (796, 0.13154936915041948), (797, 0.0), (798, 0.16049306226978435), (799, 1.0000000000000002), (800, 0.3474424522383497), (801, 0.6521910775661488), (802, 0.20363111691719715), (803, 0.3925596102177653), (804, 0.3474424522383497), (805, 0.4201513216048248), (806, 0.5644388622118346), (807, 0.0), (808, 0.44120966393682026), (809, 0.3925596102177653), (810, 0.24554429453440887), (811, 0.24554429453440887), (812, 0.0), (813, 0.2281555701130624), (814, 0.0), (815, 0.11366692118716612), (816, 0.5644388622118346), (817, 0.4201513216048248), (818, 0.1581017841542247), (819, 0.0), (820, 0.0), (821, 0.0), (822, 0.0), (823, 0.4201513216048248), (824, 0.17385933927873132), (825, 0.7617629619652846), (826, 0.12431809226829804), (827, 0.7617629619652846), (828, 0.8245023470136082), (829, 1.0000000000000002), (830, 0.2281555701130624), (831, 0.7047857921491699), (832, 0.44120966393682026), (833, 0.3667052265506215), (834, 0.0), (835, 0.0), (836, 0.0), (837, 0.0), (838, 0.2281555701130624), (839, 0.0), (840, 0.0), (841, 0.0), (842, 0.6022353998973401), (843, 0.2281555701130624), (844, 0.2281555701130624), (845, 0.5413794213254587), (846, 0.0), (847, 0.1927986161492257), (848, 0.2444150400336092), (849, 0.22309692188079755), (850, 0.16049306226978435), (851, 0.48580949887259983), (852, 0.1173692441370813), (853, 1.0000000000000002), (854, 0.12369462369294491), (855, 0.3320755897612702), (856, 0.12431809226829804), (857, 0.13818632521419028), (858, 0.16049306226978435), (859, 0.0), (860, 1.0000000000000002), (861, 0.7047857921491699), (862, 0.583875513314773), (863, 0.7047857921491699), (864, 0.5644388622118346), (865, 0.2281555701130624), (866, 0.8622265148955368), (867, 0.1927986161492257), (868, 0.5413794213254587), (869, 0.4824765370565067), (870, 0.7514869502857859), (871, 0.12094967453494142), (872, 0.11330384026365123), (873, 0.0), (874, 0.8245023470136082), (875, 0.6449981645934193), (876, 1.0000000000000002), (877, 0.2593019961667207), (878, 0.8622265148955368), (879, 0.775729347400482), (880, 0.32177009139991164), (881, 0.0), (882, 0.0), (883, 0.1927986161492257), (884, 0.2736199937911261), (885, 0.1927986161492257), (886, 0.2736199937911261), (887, 0.18925467779751348), (888, 1.0000000000000002), (889, 0.4201513216048248), (890, 0.1927986161492257), (891, 0.23415464727412472), (892, 0.0), (893, 0.3320755897612702), (894, 0.8245023470136082), (895, 0.4201513216048248), (896, 0.7514869502857859), (897, 0.2281555701130624), (898, 0.2960935094772184), (899, 0.4201513216048248), (900, 0.7047857921491699), (901, 0.4201513216048248), (902, 0.18179810923000367), (903, 0.12233343070589432), (904, 0.6939130705053973), (905, 0.6939130705053973), (906, 0.0), (907, 0.1927986161492257), (908, 0.3691365354567414), (909, 0.0), (910, 0.44120966393682026), (911, 0.43511507076596534), (912, 0.0), (913, 0.0), (914, 0.0), (915, 0.5314689586174589), (916, 0.7986343033237389), (917, 0.4201513216048248), (918, 0.48910596058905365), (919, 0.3016556598097263), (920, 0.0), (921, 0.1714559154117276), (922, 0.4201513216048248), (923, 0.5788306023645081), (924, 0.13665113058974965), (925, 0.17429648287248758), (926, 0.0), (927, 0.3065591246793501), (928, 0.7617629619652846), (929, 0.18171255986797127), (930, 0.518199417059322), (931, 0.7986343033237389), (932, 0.21917041055208134), (933, 0.2736199937911261), (934, 0.11366692118716612), (935, 0.22101774921932255), (936, 0.2779604876852872), (937, 0.7514869502857859), (938, 0.0), (939, 0.7089370216032753), (940, 0.14262873701395096), (941, 0.2736199937911261), (942, 1.0000000000000002), (943, 0.0), (944, 0.2281555701130624), (945, 0.0), (946, 0.0), (947, 0.8622265148955368), (948, 0.40953546252894824), (949, 0.4201513216048248), (950, 0.0), (951, 0.10861920486002513), (952, 0.326757023211668), (953, 0.3702609337097313), (954, 0.0), (955, 0.0), (956, 0.0), (957, 0.16757343279053877), (958, 0.0), (959, 0.2281555701130624), (960, 0.0), (961, 0.0), (962, 0.1581017841542247), (963, 0.3047899439765176), (964, 0.0), (965, 0.0), (966, 0.148919646107351), (967, 0.7047857921491699), (968, 0.472265187178681), (969, 0.14662368428624792), (970, 0.2960935094772184), (971, 0.0), (972, 0.0), (973, 0.1927986161492257), (974, 0.3925596102177653), (975, 0.2281555701130624), (976, 0.6521910775661488), (977, 0.0), (978, 0.0), (979, 0.24554429453440887), (980, 0.44120966393682026), (981, 0.34722636712465005), (982, 0.0), (983, 0.0), (984, 0.2736199937911261), (985, 0.1927986161492257), (986, 0.6484254888663106), (987, 0.4201513216048248), (988, 0.5971864594526515), (989, 1.0000000000000002), (990, 0.0), (991, 0.3702609337097313), (992, 0.23415464727412472), (993, 0.4201513216048248), (994, 0.6714913379551536), (995, 0.0), (996, 0.3365822133770827), (997, 0.23415464727412472), (998, 0.1927986161492257), (999, 0.1927986161492257), (1000, 0.8622265148955368), (1001, 0.43511507076596534), (1002, 0.1927986161492257), (1003, 0.21917041055208134), (1004, 0.4201513216048248), (1005, 0.6714913379551536), (1006, 0.2736199937911261), (1007, 0.12502754718283376), (1008, 0.0), (1009, 0.38110295614581474), (1010, 0.0), (1011, 0.0), (1012, 0.3016556598097263), (1013, 0.0), (1014, 0.0), (1015, 0.8622265148955368), (1016, 0.0), (1017, 0.687474775506141), (1018, 0.907454057764755), (1019, 0.4201513216048248), (1020, 0.10831265549259102), (1021, 0.2736199937911261), (1022, 0.0), (1023, 0.18171255986797127), (1024, 0.6939130705053973), (1025, 0.0), (1026, 0.2281555701130624), (1027, 0.2281555701130624), (1028, 0.0), (1029, 0.0), (1030, 0.7047857921491699), (1031, 0.0), (1032, 0.4201513216048248), (1033, 0.4201513216048248), (1034, 0.2281555701130624), (1035, 0.8622265148955368), (1036, 0.4201513216048248), (1037, 0.4201513216048248), (1038, 0.0), (1039, 0.0), (1040, 0.1927986161492257), (1041, 0.472265187178681), (1042, 0.4201513216048248), (1043, 0.18925467779751348), (1044, 0.3474424522383497), (1045, 0.0), (1046, 0.0), (1047, 0.7986343033237389), (1048, 0.4201513216048248), (1049, 0.1927986161492257), (1050, 0.3672210219431665), (1051, 0.0), (1052, 0.2281555701130624), (1053, 0.6476057520027616), (1054, 0.7617629619652846), (1055, 0.0), (1056, 0.0), (1057, 0.0), (1058, 0.907454057764755), (1059, 0.4201513216048248), (1060, 0.13818632521419028), (1061, 0.6756872467525066), (1062, 0.0), (1063, 0.6449981645934193), (1064, 0.7514869502857859), (1065, 0.4418262409172802), (1066, 0.0), (1067, 0.0), (1068, 0.6521910775661488), (1069, 0.0), (1070, 0.0), (1071, 0.44120966393682026), (1072, 0.4201513216048248), (1073, 0.0), (1074, 0.50943333990462), (1075, 0.2281555701130624), (1076, 0.5463997708973266), (1077, 0.2281555701130624), (1078, 0.7089370216032753), (1079, 0.14450415896146168), (1080, 0.13665113058974965), (1081, 0.0), (1082, 0.2033463939392786), (1083, 0.3159229682943087), (1084, 0.1927986161492257), (1085, 0.0), (1086, 0.0), (1087, 0.22101774921932255), (1088, 0.17385933927873132), (1089, 0.0), (1090, 0.0), (1091, 0.0), (1092, 0.7617629619652846), (1093, 0.0), (1094, 0.0), (1095, 0.0), (1096, 0.2444150400336092), (1097, 0.0), (1098, 0.4201513216048248), (1099, 0.2739221754888949), (1100, 0.2736199937911261), (1101, 0.0), (1102, 0.2444150400336092), (1103, 0.0), (1104, 0.6878993572639702), (1105, 0.0), (1106, 0.0), (1107, 1.0000000000000002), (1108, 0.0), (1109, 0.1927986161492257), (1110, 0.4201513216048248), (1111, 0.0), (1112, 0.2736199937911261), (1113, 0.0), (1114, 0.1338655541211392), (1115, 0.6022353998973401), (1116, 0.47708530755340484), (1117, 0.2736199937911261), (1118, 0.0), (1119, 0.7882240754812562), (1120, 0.2593019961667207), (1121, 0.4201513216048248), (1122, 0.18171255986797127), (1123, 0.4015784547713934), (1124, 0.2736199937911261), (1125, 0.0), (1126, 0.0), (1127, 0.3925596102177653), (1128, 0.445879857755355), (1129, 0.19998864075911046), (1130, 0.0), (1131, 0.11366692118716612), (1132, 1.0000000000000002), (1133, 0.0), (1134, 0.20970750355439477), (1135, 0.0), (1136, 0.11690979674299005), (1137, 0.5345412954993455), (1138, 0.3911591963692266), (1139, 0.0), (1140, 0.3159229682943087), (1141, 0.8622265148955368), (1142, 0.0), (1143, 0.0), (1144, 0.4201513216048248), (1145, 0.2281555701130624), (1146, 0.21917041055208134), (1147, 0.0), (1148, 1.0000000000000002), (1149, 0.0), (1150, 0.18410508450060364), (1151, 0.0), (1152, 0.0), (1153, 0.26018114039202106), (1154, 0.23415464727412472), (1155, 0.0), (1156, 0.0), (1157, 0.0), (1158, 0.3320755897612702), (1159, 0.0), (1160, 0.39815595293420003), (1161, 0.11573806106335305), (1162, 0.7617629619652846), (1163, 0.19910530997925002), (1164, 0.23415464727412472), (1165, 0.0), (1166, 0.0), (1167, 0.3320755897612702), (1168, 0.4201513216048248), (1169, 0.2736199937911261), (1170, 0.1927986161492257), (1171, 0.0), (1172, 0.0), (1173, 0.6022353998973401), (1174, 0.5413794213254587), (1175, 0.1333078392052627), (1176, 0.18925467779751348), (1177, 0.3625610983349477), (1178, 0.0), (1179, 0.43511507076596534), (1180, 0.0), (1181, 0.5658585333535687), (1182, 0.19845441739269654), (1183, 0.8622265148955368), (1184, 0.6752972701297861), (1185, 0.6449981645934193), (1186, 0.15034557489536654), (1187, 0.1927986161492257), (1188, 0.7047857921491699), (1189, 0.0), (1190, 0.0), (1191, 0.7047857921491699), (1192, 0.472265187178681), (1193, 0.0), (1194, 0.4585925889834702), (1195, 0.0), (1196, 0.0), (1197, 0.24554429453440887), (1198, 0.0), (1199, 0.12903443334413556), (1200, 0.0), (1201, 0.0), (1202, 0.472265187178681), (1203, 0.2736199937911261), (1204, 0.2736199937911261), (1205, 0.0), (1206, 0.15772520913358157), (1207, 0.2430028275095051), (1208, 0.1927986161492257), (1209, 0.16049306226978435), (1210, 0.3016556598097263), (1211, 0.2960935094772184), (1212, 0.0), (1213, 0.583875513314773), (1214, 0.4824765370565067), (1215, 0.38110295614581474), (1216, 0.1927986161492257), (1217, 0.1927986161492257), (1218, 0.0), (1219, 0.1173692441370813), (1220, 0.40179152906452087), (1221, 0.0), (1222, 0.0), (1223, 0.3702609337097313), (1224, 0.6399509443424654), (1225, 0.43511507076596534), (1226, 0.7617629619652846), (1227, 0.0), (1228, 0.0), (1229, 0.3911591963692266), (1230, 0.5345412954993455), (1231, 0.4585925889834702), (1232, 0.8981362414824391), (1233, 0.0), (1234, 0.7089370216032753), (1235, 0.0), (1236, 0.7378425053514843), (1237, 0.8385597416532798), (1238, 0.0), (1239, 0.0), (1240, 0.0), (1241, 0.10631497067989275), (1242, 0.0), (1243, 0.2736199937911261), (1244, 0.0), (1245, 0.11171808564219352), (1246, 0.0), (1247, 0.2281555701130624), (1248, 0.8385597416532798), (1249, 0.0), (1250, 0.0), (1251, 0.17385933927873132), (1252, 0.687474775506141), (1253, 0.0), (1254, 0.1780441361005807), (1255, 0.44120966393682026), (1256, 0.0), (1257, 0.5413794213254587), (1258, 0.0), (1259, 0.7617629619652846), (1260, 0.583875513314773), (1261, 0.14262873701395096), (1262, 0.20970750355439477), (1263, 0.0), (1264, 0.8245023470136082), (1265, 0.0), (1266, 0.3016556598097263), (1267, 0.0), (1268, 0.0), (1269, 0.0), (1270, 0.3320755897612702), (1271, 0.0), (1272, 0.27147647258945606), (1273, 0.11304694279603858), (1274, 0.0), (1275, 1.0000000000000002), (1276, 0.7617629619652846), (1277, 0.13348253865385418), (1278, 0.0), (1279, 0.3320755897612702), (1280, 0.20970750355439477), (1281, 0.23415464727412472), (1282, 0.583875513314773), (1283, 0.0), (1284, 0.2736199937911261), (1285, 0.0), (1286, 0.1927986161492257), (1287, 0.0), (1288, 0.0), (1289, 0.0), (1290, 0.6714913379551536), (1291, 0.0), (1292, 0.6939130705053973), (1293, 0.0), (1294, 0.4201513216048248), (1295, 0.0), (1296, 0.0), (1297, 0.0), (1298, 0.2736199937911261), (1299, 0.0), (1300, 0.7986343033237389), (1301, 0.1780441361005807), (1302, 0.2779474725213635), (1303, 0.7514869502857859), (1304, 0.2736199937911261), (1305, 0.2281555701130624), (1306, 0.16049306226978435), (1307, 0.0), (1308, 0.11940012785481195), (1309, 0.2739221754888949), (1310, 0.0), (1311, 0.0), (1312, 0.2736199937911261), (1313, 0.1927986161492257), (1314, 0.5913210892731544), (1315, 0.0), (1316, 0.0), (1317, 0.5869094529580564), (1318, 0.2736199937911261), (1319, 0.4201513216048248), (1320, 0.3770551573834563), (1321, 0.0), (1322, 0.0), (1323, 0.0), (1324, 0.148919646107351), (1325, 0.7514869502857859), (1326, 0.0), (1327, 0.0), (1328, 0.0), (1329, 0.0), (1330, 0.583875513314773), (1331, 0.0), (1332, 0.2746871206041339), (1333, 0.0), (1334, 0.5644388622118346), (1335, 0.8622265148955368), (1336, 0.0), (1337, 0.7943502562614067), (1338, 0.6714913379551536), (1339, 0.8245023470136082), (1340, 0.14479358612098284), (1341, 0.0), (1342, 0.0), (1343, 0.6878993572639702), (1344, 0.583875513314773), (1345, 0.0), (1346, 0.0), (1347, 0.3320755897612702), (1348, 0.5578506272984584), (1349, 0.16049306226978435), (1350, 0.148919646107351), (1351, 0.472265187178681), (1352, 0.12431809226829804), (1353, 0.0), (1354, 0.0), (1355, 0.4201513216048248), (1356, 0.44120966393682026), (1357, 0.13445539640916665), (1358, 0.0), (1359, 0.2736199937911261), (1360, 0.7514869502857859), (1361, 0.0), (1362, 0.0), (1363, 0.0), (1364, 0.1927986161492257), (1365, 0.2281555701130624), (1366, 0.10330158869141345), (1367, 0.2736199937911261), (1368, 0.0), (1369, 0.8622265148955368), (1370, 0.13442812828072123), (1371, 0.583875513314773), (1372, 0.1927986161492257), (1373, 0.0), (1374, 0.0), (1375, 0.44120966393682026), (1376, 0.0), (1377, 0.8622265148955368), (1378, 0.10798408562494355), (1379, 0.0), (1380, 0.3016556598097263), (1381, 0.18179810923000367), (1382, 0.1927986161492257), (1383, 0.7047857921491699), (1384, 0.3925596102177653), (1385, 0.7440128746229138), (1386, 0.0), (1387, 0.4524935642292442), (1388, 0.0), (1389, 0.0), (1390, 0.0), (1391, 0.24554429453440887), (1392, 0.16757343279053877), (1393, 0.5463997708973266), (1394, 0.14644484434565747), (1395, 0.3320755897612702), (1396, 0.20970750355439477), (1397, 0.13065923123530565), (1398, 0.11304694279603858), (1399, 0.0), (1400, 0.35471473012789956), (1401, 0.0), (1402, 0.4201513216048248), (1403, 0.1927986161492257), (1404, 0.4201513216048248), (1405, 0.0), (1406, 0.7617629619652846), (1407, 0.3320755897612702), (1408, 0.15484081990728352), (1409, 0.2736199937911261), (1410, 0.1927986161492257), (1411, 0.2736199937911261), (1412, 0.6449981645934193), (1413, 0.34722636712465005), (1414, 0.35471473012789956), (1415, 0.2281555701130624), (1416, 0.4201513216048248), (1417, 0.8622265148955368), (1418, 0.0), (1419, 0.7617629619652846), (1420, 0.1973035560295714), (1421, 0.518199417059322), (1422, 0.2736199937911261), (1423, 0.2281555701130624), (1424, 0.0), (1425, 0.0), (1426, 0.3320755897612702), (1427, 0.1927986161492257), (1428, 0.3320755897612702), (1429, 0.44120966393682026), (1430, 0.3320755897612702), (1431, 0.3320755897612702), (1432, 0.6939130705053973), (1433, 0.38081784061305546), (1434, 0.4201513216048248), (1435, 0.5658585333535687), (1436, 0.6449981645934193), (1437, 0.0), (1438, 0.4612636028487691), (1439, 0.4201513216048248), (1440, 0.5576083433167471), (1441, 0.0), (1442, 0.5413794213254587), (1443, 0.3925596102177653), (1444, 0.0), (1445, 0.0), (1446, 0.2736199937911261), (1447, 0.0), (1448, 0.7047857921491699), (1449, 0.3320755897612702), (1450, 0.4201513216048248), (1451, 0.3320755897612702), (1452, 0.3320755897612702), (1453, 0.0), (1454, 0.5413794213254587), (1455, 0.7617629619652846), (1456, 0.4201513216048248), (1457, 0.0), (1458, 0.3016556598097263), (1459, 0.0), (1460, 0.0), (1461, 0.583875513314773), (1462, 0.7047857921491699), (1463, 0.11681907857618115), (1464, 0.4201513216048248), (1465, 0.2736199937911261), (1466, 0.0), (1467, 0.0), (1468, 0.0), (1469, 0.19417707176814952), (1470, 0.0), (1471, 0.6484254888663106), (1472, 0.518199417059322), (1473, 0.0), (1474, 0.09761262567337899), (1475, 0.1173692441370813), (1476, 0.1927986161492257), (1477, 0.11806440977322519), (1478, 0.8622265148955368), (1479, 0.1927986161492257), (1480, 0.3320755897612702), (1481, 1.0000000000000002), (1482, 0.0), (1483, 0.8622265148955368), (1484, 0.5413794213254587), (1485, 0.0), (1486, 0.0), (1487, 0.0), (1488, 0.5788306023645081), (1489, 0.46148902130833924), (1490, 0.0), (1491, 0.0), (1492, 0.0), (1493, 0.3320755897612702), (1494, 0.2736199937911261), (1495, 0.0), (1496, 0.0), (1497, 0.4201513216048248), (1498, 0.3625610983349477), (1499, 0.4201513216048248), (1500, 0.4201513216048248), (1501, 0.0), (1502, 0.23415464727412472), (1503, 0.22101774921932255), (1504, 0.5463997708973266), (1505, 0.0), (1506, 0.775729347400482), (1507, 0.583875513314773), (1508, 0.0), (1509, 0.7514869502857859), (1510, 0.33916788895940364), (1511, 0.0), (1512, 0.0), (1513, 0.6045129139943931), (1514, 0.13013727856108082), (1515, 0.0), (1516, 0.20231323614354313), (1517, 0.0), (1518, 0.1927986161492257), (1519, 0.44120966393682026), (1520, 0.0), (1521, 0.0), (1522, 0.0), (1523, 0.0), (1524, 0.0), (1525, 0.0), (1526, 0.0), (1527, 0.6714913379551536), (1528, 0.2736199937911261), (1529, 0.0), (1530, 0.19296490640730368), (1531, 0.3320755897612702), (1532, 0.0), (1533, 0.14262873701395096), (1534, 0.0), (1535, 0.0), (1536, 0.28655220483069926), (1537, 0.38139243326495975), (1538, 0.4201513216048248), (1539, 0.12048793323174492), (1540, 0.5463997708973266), (1541, 0.0), (1542, 0.7986343033237389), (1543, 0.1927986161492257), (1544, 0.4824765370565067), (1545, 0.0), (1546, 0.23415464727412472), (1547, 0.09839948991327892), (1548, 0.0), (1549, 0.0), (1550, 0.4201513216048248), (1551, 0.3320755897612702), (1552, 0.0), (1553, 0.4201513216048248), (1554, 0.20970750355439477), (1555, 0.472265187178681), (1556, 0.0), (1557, 0.0), (1558, 0.2281555701130624), (1559, 0.3320755897612702), (1560, 0.0), (1561, 0.0), (1562, 0.3320755897612702), (1563, 0.0), (1564, 0.0), (1565, 0.12801024572367506), (1566, 0.20970750355439477), (1567, 0.40430979647489823), (1568, 0.3320755897612702), (1569, 0.0), (1570, 0.09839948991327892), (1571, 0.2736199937911261), (1572, 0.5174431721179534), (1573, 0.3320755897612702), (1574, 0.4201513216048248), (1575, 0.2113343685071608), (1576, 0.3925596102177653), (1577, 0.0), (1578, 0.0), (1579, 0.0), (1580, 0.16049306226978435), (1581, 0.0), (1582, 0.7089370216032753), (1583, 0.0), (1584, 0.0), (1585, 0.46626110518344044), (1586, 0.0), (1587, 0.2739221754888949), (1588, 0.3320755897612702), (1589, 0.0), (1590, 0.21917041055208134), (1591, 0.7617629619652846), (1592, 0.0), (1593, 0.4201513216048248), (1594, 0.1927986161492257), (1595, 0.6481649001832882), (1596, 0.0), (1597, 0.2736199937911261), (1598, 0.14450415896146168), (1599, 0.0), (1600, 0.0), (1601, 0.0), (1602, 0.0), (1603, 0.0), (1604, 0.0), (1605, 0.13665113058974965), (1606, 0.0), (1607, 0.0), (1608, 0.38081784061305546), (1609, 0.0), (1610, 0.0), (1611, 0.0), (1612, 0.2281555701130624), (1613, 0.0), (1614, 0.1954279966102383), (1615, 0.0), (1616, 0.14262873701395096), (1617, 0.4201513216048248), (1618, 0.0), (1619, 0.2281555701130624), (1620, 0.8245023470136082), (1621, 1.0000000000000002), (1622, 0.24554429453440887), (1623, 0.24554429453440887), (1624, 0.2281555701130624), (1625, 0.4201513216048248), (1626, 0.0), (1627, 0.33916788895940364), (1628, 0.13665113058974965), (1629, 0.8385597416532798), (1630, 0.3320755897612702), (1631, 0.3320755897612702), (1632, 0.3320755897612702), (1633, 0.25131958437136165), (1634, 0.14670580582033668), (1635, 0.3320755897612702), (1636, 0.0), (1637, 0.2736199937911261), (1638, 0.0), (1639, 0.0), (1640, 0.0), (1641, 0.4201513216048248), (1642, 0.2736199937911261), (1643, 0.472265187178681), (1644, 0.0), (1645, 0.10263188857241692), (1646, 0.0), (1647, 0.0), (1648, 0.2281555701130624), (1649, 0.0), (1650, 0.22101774921932255), (1651, 0.0), (1652, 0.0), (1653, 0.34722636712465005), (1654, 0.0), (1655, 0.2281555701130624), (1656, 0.1387653127678244), (1657, 0.0), (1658, 0.1387653127678244), (1659, 0.3925596102177653), (1660, 0.2736199937911261), (1661, 0.3320755897612702), (1662, 0.21917041055208134), (1663, 0.2736199937911261), (1664, 0.0), (1665, 0.687474775506141), (1666, 0.2281555701130624), (1667, 0.7882240754812562), (1668, 0.0), (1669, 0.0), (1670, 0.4201513216048248), (1671, 0.7514869502857859), (1672, 0.4201513216048248), (1673, 0.0), (1674, 0.406008375817084), (1675, 0.43511507076596534), (1676, 0.0), (1677, 0.12350419240019636), (1678, 0.8622265148955368), (1679, 0.0), (1680, 0.8622265148955368), (1681, 0.7617629619652846), (1682, 0.2281555701130624), (1683, 0.13442812828072123), (1684, 0.0), (1685, 0.2281555701130624), (1686, 0.0), (1687, 0.8622265148955368), (1688, 0.2736199937911261), (1689, 0.0), (1690, 0.14644484434565747), (1691, 0.4201513216048248), (1692, 0.0), (1693, 0.1927986161492257), (1694, 0.7986343033237389), (1695, 0.0), (1696, 0.23415464727412472), (1697, 0.0), (1698, 0.0), (1699, 0.3320755897612702), (1700, 0.0), (1701, 0.2593019961667207), (1702, 0.0), (1703, 0.16049306226978435), (1704, 0.0), (1705, 0.3489152586309752), (1706, 0.11900539903422186), (1707, 0.13818632521419028), (1708, 0.2444150400336092), (1709, 0.0), (1710, 0.1581017841542247), (1711, 0.1338655541211392), (1712, 0.4201513216048248), (1713, 0.3016556598097263), (1714, 0.0), (1715, 0.0), (1716, 0.6734918042287732), (1717, 0.1581017841542247), (1718, 0.0), (1719, 0.1927986161492257), (1720, 0.0), (1721, 0.4824765370565067), (1722, 0.1927986161492257), (1723, 0.3320755897612702), (1724, 0.3320755897612702), (1725, 0.0), (1726, 0.0), (1727, 0.6045129139943931), (1728, 0.0), (1729, 0.0), (1730, 0.15034557489536654), (1731, 0.0), (1732, 0.25325620892110945), (1733, 0.2736199937911261), (1734, 0.0), (1735, 0.4824765370565067), (1736, 0.6714913379551536), (1737, 0.0), (1738, 0.4585925889834702), (1739, 1.0000000000000002), (1740, 0.8622265148955368), (1741, 0.0), (1742, 0.4201513216048248), (1743, 0.2281555701130624), (1744, 0.14644484434565747), (1745, 0.0), (1746, 0.0), (1747, 0.2281555701130624), (1748, 0.11366692118716612), (1749, 0.3925596102177653), (1750, 0.0), (1751, 0.0), (1752, 0.0), (1753, 0.3320755897612702), (1754, 0.8245023470136082), (1755, 0.0), (1756, 0.0), (1757, 0.0), (1758, 0.0), (1759, 0.2736199937911261), (1760, 0.31608569564499), (1761, 0.3065591246793501), (1762, 0.2281555701130624), (1763, 0.2281555701130624), (1764, 0.09900568240325977), (1765, 0.2736199937911261), (1766, 0.0), (1767, 0.0), (1768, 0.2281555701130624), (1769, 0.0), (1770, 0.0), (1771, 0.0), (1772, 0.20970750355439477), (1773, 0.3320755897612702), (1774, 0.7514869502857859), (1775, 0.0), (1776, 0.8245023470136082), (1777, 0.0), (1778, 0.0), (1779, 0.44120966393682026), (1780, 0.16049306226978435), (1781, 0.6939130705053973), (1782, 0.2281555701130624), (1783, 0.0), (1784, 0.19711038032437866), (1785, 0.0), (1786, 0.0), (1787, 0.0), (1788, 0.2739221754888949), (1789, 0.6449981645934193), (1790, 0.0), (1791, 0.22045129216630696), (1792, 0.2736199937911261), (1793, 0.4201513216048248), (1794, 0.0), (1795, 0.0), (1796, 0.687474775506141), (1797, 0.35842586794401166), (1798, 0.148919646107351), (1799, 0.23415464727412472), (1800, 0.0), (1801, 0.4201513216048248), (1802, 0.0), (1803, 0.0), (1804, 0.0), (1805, 0.4201513216048248), (1806, 0.46626110518344044), (1807, 0.4201513216048248), (1808, 0.16049306226978435), (1809, 0.3016556598097263), (1810, 0.0), (1811, 0.44120966393682026), (1812, 0.23245054316693553), (1813, 0.19910530997925002), (1814, 0.4201513216048248), (1815, 0.7617629619652846), (1816, 0.46626110518344044), (1817, 0.24554429453440887), (1818, 0.0), (1819, 0.40179152906452087), (1820, 0.0), (1821, 0.5869094529580564), (1822, 0.11700112756088753), (1823, 0.0), (1824, 0.0), (1825, 0.0), (1826, 0.4201513216048248), (1827, 0.1927986161492257), (1828, 0.10075039092157555), (1829, 0.3065591246793501), (1830, 0.06118589468231789), (1831, 0.4201513216048248), (1832, 0.907454057764755), (1833, 0.12268073297396537), (1834, 0.0), (1835, 0.0), (1836, 0.0), (1837, 0.0), (1838, 0.3320755897612702), (1839, 0.0), (1840, 0.3320755897612702), (1841, 0.0), (1842, 0.0), (1843, 0.4201513216048248), (1844, 0.0), (1845, 0.518199417059322), (1846, 0.3016556598097263), (1847, 0.4824765370565067), (1848, 0.2736199937911261), (1849, 0.0), (1850, 0.0), (1851, 0.1927986161492257), (1852, 0.24554429453440887), (1853, 0.8622265148955368), (1854, 0.8245023470136082), (1855, 0.0), (1856, 0.0), (1857, 0.24554429453440887), (1858, 0.6476057520027616), (1859, 0.24554429453440887), (1860, 0.2281555701130624), (1861, 0.7089370216032753), (1862, 0.4201513216048248), (1863, 0.0), (1864, 0.326757023211668), (1865, 0.7047857921491699), (1866, 0.518199417059322), (1867, 0.0), (1868, 0.0), (1869, 0.2281555701130624), (1870, 0.0), (1871, 0.1927986161492257), (1872, 0.4201513216048248), (1873, 0.24554429453440887), (1874, 0.8245023470136082), (1875, 0.11681907857618115), (1876, 0.5413794213254587), (1877, 0.2736199937911261), (1878, 0.14644484434565747), (1879, 0.0), (1880, 0.0), (1881, 0.2779474725213635), (1882, 0.19910530997925002), (1883, 0.0), (1884, 0.16049306226978435), (1885, 0.2281555701130624), (1886, 0.09839948991327892), (1887, 0.4201513216048248), (1888, 0.0), (1889, 0.0), (1890, 0.4201513216048248), (1891, 0.19910530997925002), (1892, 0.44120966393682026), (1893, 0.1927986161492257), (1894, 0.0), (1895, 0.0), (1896, 0.11366692118716612), (1897, 0.38214228299382375), (1898, 0.0), (1899, 0.0), (1900, 0.2775780177195584), (1901, 0.3016556598097263), (1902, 0.5788306023645081), (1903, 0.0), (1904, 0.1867145789548604), (1905, 0.1927986161492257), (1906, 0.0), (1907, 0.17429648287248758), (1908, 0.0), (1909, 0.2281555701130624), (1910, 0.5658585333535687), (1911, 0.0), (1912, 0.0), (1913, 0.0), (1914, 0.2960935094772184), (1915, 0.0), (1916, 0.19910530997925002), (1917, 0.0), (1918, 0.7047857921491699), (1919, 0.2736199937911261), (1920, 0.1813731807713378), (1921, 0.4201513216048248), (1922, 0.519393454044119), (1923, 0.7089370216032753), (1924, 0.44120966393682026), (1925, 0.21917041055208134), (1926, 0.0), (1927, 0.3320755897612702), (1928, 0.0), (1929, 0.2736199937911261), (1930, 0.3320755897612702), (1931, 0.43511507076596534), (1932, 0.0), (1933, 0.3320755897612702), (1934, 0.43511507076596534), (1935, 0.0), (1936, 0.1780441361005807), (1937, 0.7617629619652846), (1938, 0.0), (1939, 0.2739221754888949), (1940, 0.24554429453440887), (1941, 0.3365822133770827), (1942, 0.8385597416532798), (1943, 0.13442812828072123), (1944, 0.0), (1945, 0.4397517875495551), (1946, 0.13818632521419028), (1947, 0.2736199937911261), (1948, 0.0), (1949, 0.5913210892731544), (1950, 0.13154936915041948), (1951, 0.1927986161492257), (1952, 0.3065591246793501), (1953, 0.3320755897612702), (1954, 0.2736199937911261), (1955, 0.0), (1956, 0.0), (1957, 0.0), (1958, 0.6521910775661488), (1959, 0.4201513216048248), (1960, 0.7047857921491699), (1961, 0.0), (1962, 0.3320755897612702), (1963, 0.0), (1964, 0.44120966393682026), (1965, 0.0), (1966, 0.0), (1967, 1.0000000000000002), (1968, 0.33916788895940364), (1969, 0.16049306226978435), (1970, 0.5547117231974954), (1971, 0.42655124794235644), (1972, 0.0), (1973, 0.4824765370565067), (1974, 0.0), (1975, 0.24554429453440887), (1976, 0.23415464727412472), (1977, 0.18171255986797127), (1978, 0.0), (1979, 0.0), (1980, 0.2736199937911261), (1981, 0.583875513314773), (1982, 0.0), (1983, 0.7514869502857859), (1984, 0.0), (1985, 0.7152636706032325), (1986, 0.583875513314773), (1987, 0.40430979647489823), (1988, 0.0), (1989, 0.8272103917127089), (1990, 0.25131958437136165), (1991, 0.2113343685071608), (1992, 0.6367068801855543), (1993, 0.20694548422128373), (1994, 0.0), (1995, 0.15034557489536654), (1996, 0.24554429453440887), (1997, 1.0000000000000002), (1998, 0.20694548422128373), (1999, 0.0), (2000, 0.13818632521419028), (2001, 0.0), (2002, 0.0), (2003, 0.0), (2004, 0.2281555701130624), (2005, 0.0), (2006, 0.0), (2007, 0.0), (2008, 0.44120966393682026), (2009, 0.0), (2010, 0.09839948991327892), (2011, 0.08934083875735961), (2012, 0.3365822133770827), (2013, 0.3016556598097263), (2014, 0.0), (2015, 0.3016556598097263), (2016, 0.4524935642292442), (2017, 0.0), (2018, 0.0), (2019, 0.0), (2020, 0.0), (2021, 0.0), (2022, 0.0), (2023, 0.8245023470136082), (2024, 0.8622265148955368), (2025, 0.0), (2026, 0.46626110518344044), (2027, 0.15034557489536654), (2028, 0.0), (2029, 0.8245023470136082), (2030, 0.0), (2031, 0.472265187178681), (2032, 0.0), (2033, 0.0), (2034, 0.1780441361005807), (2035, 0.2281555701130624), (2036, 0.0), (2037, 1.0000000000000002), (2038, 0.0), (2039, 0.12543524791822488), (2040, 0.8622265148955368), (2041, 0.0), (2042, 0.0), (2043, 0.0), (2044, 0.23489524471301787), (2045, 0.43511507076596534), (2046, 0.0), (2047, 0.4201513216048248), (2048, 0.1173692441370813), (2049, 0.1111318221531309), (2050, 0.0), (2051, 0.2281555701130624), (2052, 0.0), (2053, 1.0000000000000002), (2054, 0.0), (2055, 0.46899672651354574), (2056, 0.0), (2057, 0.6878993572639702), (2058, 0.0), (2059, 0.0), (2060, 0.2736199937911261), (2061, 0.34722636712465005), (2062, 0.19040891514575922), (2063, 0.0), (2064, 0.0), (2065, 0.39239705318759177), (2066, 0.6449981645934193), (2067, 0.09393817297199718), (2068, 0.1927986161492257), (2069, 0.7047857921491699), (2070, 1.0000000000000002), (2071, 0.0), (2072, 0.4201513216048248), (2073, 0.14512615118177657), (2074, 0.25131958437136165), (2075, 0.3781618549354756), (2076, 0.7089370216032753), (2077, 0.4824765370565067), (2078, 0.23415464727412472), (2079, 0.0), (2080, 0.8245023470136082), (2081, 0.0), (2082, 0.31999875767145725), (2083, 0.10631497067989275), (2084, 0.5658585333535687), (2085, 0.0), (2086, 0.0), (2087, 0.14479358612098284), (2088, 0.5413794213254587), (2089, 0.44120966393682026), (2090, 0.0), (2091, 0.34722636712465005), (2092, 0.0), (2093, 0.6022353998973401), (2094, 0.228226664079399), (2095, 0.0), (2096, 1.0000000000000002), (2097, 0.5644388622118346), (2098, 0.0), (2099, 0.17385933927873132), (2100, 0.0), (2101, 0.0), (2102, 0.15529550115732185), (2103, 0.12369462369294491), (2104, 0.38110295614581474), (2105, 0.2281555701130624), (2106, 0.0), (2107, 0.0), (2108, 0.1927986161492257), (2109, 0.4201513216048248), (2110, 0.6878993572639702), (2111, 0.1927986161492257), (2112, 0.7514869502857859), (2113, 0.0), (2114, 0.0), (2115, 0.0), (2116, 0.1927986161492257), (2117, 0.1396559576042235), (2118, 0.0), (2119, 0.6521910775661488), (2120, 0.0), (2121, 0.7047857921491699), (2122, 0.1927986161492257), (2123, 0.4201513216048248), (2124, 0.0), (2125, 0.0), (2126, 0.8245023470136082), (2127, 0.1780441361005807), (2128, 0.0), (2129, 0.4201513216048248), (2130, 0.25699346067073875), (2131, 0.1927986161492257), (2132, 0.2281555701130624), (2133, 0.4201513216048248), (2134, 0.15034557489536654), (2135, 0.0), (2136, 0.18410508450060364), (2137, 0.2736199937911261), (2138, 0.0), (2139, 0.2430028275095051), (2140, 0.0), (2141, 0.4201513216048248), (2142, 0.4201513216048248), (2143, 0.14479358612098284), (2144, 0.2281555701130624), (2145, 0.0), (2146, 0.2736199937911261), (2147, 0.0), (2148, 0.2736199937911261), (2149, 0.2281555701130624), (2150, 0.0), (2151, 0.2736199937911261), (2152, 0.0), (2153, 0.0), (2154, 1.0000000000000002), (2155, 0.2281555701130624), (2156, 0.0), (2157, 0.0), (2158, 0.583875513314773), (2159, 0.13665113058974965), (2160, 0.0), (2161, 0.0), (2162, 0.45886211264945076), (2163, 0.4201513216048248), (2164, 0.0), (2165, 0.0), (2166, 0.20231323614354313), (2167, 0.0), (2168, 0.0), (2169, 0.13818632521419028), (2170, 0.0), (2171, 0.0), (2172, 0.0), (2173, 0.4201513216048248), (2174, 1.0000000000000002), (2175, 0.0), (2176, 0.19845441739269654), (2177, 0.0), (2178, 0.4768054636227623), (2179, 0.0), (2180, 0.0), (2181, 0.26719628240100146), (2182, 0.0), (2183, 0.0), (2184, 0.5463997708973266), (2185, 0.0), (2186, 0.0), (2187, 0.1927986161492257), (2188, 0.5413794213254587), (2189, 0.4201513216048248), (2190, 0.4201513216048248), (2191, 0.44120966393682026), (2192, 0.2736199937911261), (2193, 0.1927986161492257), (2194, 0.0), (2195, 0.2281555701130624), (2196, 1.0000000000000002), (2197, 0.3925596102177653), (2198, 0.0), (2199, 0.17385933927873132), (2200, 0.0), (2201, 0.1927986161492257), (2202, 0.0), (2203, 0.0), (2204, 0.0), (2205, 0.0), (2206, 0.7617629619652846), (2207, 0.0), (2208, 0.2739221754888949), (2209, 0.2736199937911261), (2210, 0.687474775506141), (2211, 0.14262873701395096), (2212, 0.5651279094889916), (2213, 0.4201513216048248), (2214, 1.0000000000000002), (2215, 0.0), (2216, 1.0000000000000002), (2217, 0.0), (2218, 0.0), (2219, 0.0), (2220, 0.0), (2221, 0.15020700836181497), (2222, 0.0), (2223, 0.17385933927873132), (2224, 0.8622265148955368), (2225, 0.0), (2226, 0.15034557489536654), (2227, 0.0), (2228, 0.583875513314773), (2229, 0.7882240754812562), (2230, 0.2281555701130624), (2231, 0.3065591246793501), (2232, 0.23415464727412472), (2233, 0.0), (2234, 0.0), (2235, 0.6521910775661488), (2236, 0.2736199937911261), (2237, 0.148919646107351), (2238, 0.0), (2239, 0.0), (2240, 0.1277818410228055), (2241, 0.0), (2242, 0.10943622294514664), (2243, 0.0), (2244, 0.0), (2245, 0.3320755897612702), (2246, 0.24554429453440887), (2247, 0.0), (2248, 0.14369193776914435), (2249, 0.0), (2250, 0.5644388622118346), (2251, 0.16049306226978435), (2252, 0.5658585333535687), (2253, 0.0), (2254, 0.7514869502857859), (2255, 0.472265187178681), (2256, 0.0), (2257, 0.19845441739269654), (2258, 0.0), (2259, 0.0), (2260, 0.12178452324346005), (2261, 0.0), (2262, 0.0), (2263, 0.0), (2264, 0.7089370216032753), (2265, 0.10314503503243909), (2266, 0.2281555701130624), (2267, 0.0), (2268, 0.4201513216048248), (2269, 0.10007593639921422), (2270, 0.2736199937911261), (2271, 0.0), (2272, 0.0), (2273, 0.24554429453440887), (2274, 0.0), (2275, 0.7617629619652846), (2276, 0.7617629619652846), (2277, 0.10263188857241692), (2278, 0.21917041055208134), (2279, 0.5138922871093842), (2280, 0.5468234065062065), (2281, 0.0), (2282, 0.0), (2283, 0.17641138245765603), (2284, 0.6367068801855543), (2285, 0.22101774921932255), (2286, 0.12255728594359948), (2287, 0.1714559154117276), (2288, 0.4201513216048248), (2289, 0.11810234427434102), (2290, 0.0), (2291, 0.0), (2292, 0.2736199937911261), (2293, 0.4201513216048248), (2294, 0.0), (2295, 0.7882240754812562), (2296, 0.0), (2297, 0.0), (2298, 0.0), (2299, 0.4201513216048248), (2300, 0.0), (2301, 0.16025860505997272), (2302, 0.1927986161492257), (2303, 0.2736199937911261), (2304, 0.583875513314773), (2305, 0.0), (2306, 0.4201513216048248), (2307, 0.0), (2308, 0.0), (2309, 0.2736199937911261), (2310, 0.4201513216048248), (2311, 0.0), (2312, 0.0), (2313, 0.13665113058974965), (2314, 0.24554429453440887), (2315, 0.0), (2316, 0.30655544313365507), (2317, 0.4201513216048248), (2318, 0.4610961032113065), (2319, 0.2281555701130624), (2320, 0.1927986161492257), (2321, 0.8245023470136082), (2322, 0.0), (2323, 0.4201513216048248), (2324, 0.22101774921932255), (2325, 0.0), (2326, 0.2593019961667207), (2327, 0.0), (2328, 0.37164256214129804), (2329, 0.0), (2330, 0.18410508450060364), (2331, 0.0), (2332, 0.0), (2333, 0.0), (2334, 1.0000000000000002), (2335, 0.0), (2336, 0.7986343033237389), (2337, 0.0), (2338, 0.2281555701130624), (2339, 0.0), (2340, 0.2736199937911261), (2341, 0.0), (2342, 0.0), (2343, 0.0), (2344, 0.29900754045887595), (2345, 0.0), (2346, 0.8245023470136082), (2347, 0.16049306226978435), (2348, 0.5788306023645081), (2349, 0.2281555701130624), (2350, 0.11690979674299005), (2351, 0.0), (2352, 0.0), (2353, 0.0), (2354, 0.4201513216048248), (2355, 0.38081784061305546), (2356, 0.1780441361005807), (2357, 0.0), (2358, 0.0), (2359, 0.1813731807713378), (2360, 0.0), (2361, 0.1415664400575078), (2362, 0.2281555701130624), (2363, 0.4824765370565067), (2364, 0.0), (2365, 0.0), (2366, 0.0), (2367, 0.14644484434565747), (2368, 0.0), (2369, 0.0), (2370, 0.4201513216048248), (2371, 0.0), (2372, 0.0), (2373, 0.0), (2374, 0.44120966393682026), (2375, 0.1927986161492257), (2376, 0.0), (2377, 0.0), (2378, 0.1415664400575078), (2379, 0.17385933927873132), (2380, 0.0), (2381, 0.0), (2382, 0.15034557489536654), (2383, 0.7617629619652846), (2384, 0.0), (2385, 0.1927986161492257), (2386, 0.1048607645897889), (2387, 0.2736199937911261), (2388, 0.10831265549259102), (2389, 0.0), (2390, 0.16025860505997272), (2391, 0.1927986161492257), (2392, 0.4201513216048248), (2393, 0.19845441739269654), (2394, 0.11223490696952573), (2395, 0.0), (2396, 0.2736199937911261), (2397, 0.1927986161492257), (2398, 0.0), (2399, 0.16227014395547223), (2400, 0.19910530997925002), (2401, 0.4201513216048248), (2402, 0.1927986161492257), (2403, 0.2736199937911261), (2404, 0.2736199937911261), (2405, 0.2281555701130624), (2406, 1.0000000000000002), (2407, 0.2281555701130624), (2408, 0.0), (2409, 0.0), (2410, 0.1927986161492257), (2411, 0.16757343279053877), (2412, 0.752238203565335), (2413, 0.20970750355439477), (2414, 0.0), (2415, 0.09446516267123713), (2416, 0.4201513216048248), (2417, 0.4201513216048248), (2418, 0.4201513216048248), (2419, 0.4201513216048248), (2420, 0.0), (2421, 0.1985418947274872), (2422, 0.1927986161492257), (2423, 0.17385933927873132), (2424, 0.4824765370565067), (2425, 0.4201513216048248), (2426, 0.0), (2427, 0.43511507076596534), (2428, 0.43511507076596534), (2429, 0.7617629619652846), (2430, 0.11681907857618115), (2431, 0.0), (2432, 0.2033463939392786), (2433, 0.0), (2434, 0.1927986161492257), (2435, 0.0), (2436, 0.2736199937911261), (2437, 0.18925467779751348), (2438, 0.1581017841542247), (2439, 0.0), (2440, 0.2736199937911261), (2441, 0.1927986161492257), (2442, 0.20970750355439477), (2443, 0.28657400773094377), (2444, 0.40430979647489823), (2445, 0.0), (2446, 0.2736199937911261), (2447, 1.0000000000000002), (2448, 0.19845441739269654), (2449, 0.0), (2450, 0.0), (2451, 0.0), (2452, 0.0), (2453, 0.2281555701130624), (2454, 0.4201513216048248), (2455, 0.0), (2456, 0.0), (2457, 0.2281555701130624), (2458, 0.0), (2459, 0.5413794213254587), (2460, 0.0), (2461, 0.14644484434565747), (2462, 0.0), (2463, 0.4201513216048248), (2464, 0.7089370216032753), (2465, 0.0), (2466, 0.10458735170186292), (2467, 0.1927986161492257), (2468, 0.3365822133770827), (2469, 0.1581017841542247), (2470, 0.0), (2471, 0.0), (2472, 0.0), (2473, 0.15772520913358157), (2474, 0.13655225253436953), (2475, 0.2281555701130624), (2476, 0.3925596102177653), (2477, 0.44120966393682026), (2478, 0.14662368428624792), (2479, 0.0), (2480, 0.3320755897612702), (2481, 0.4201513216048248), (2482, 0.11366692118716612), (2483, 0.0), (2484, 0.10289024893101374), (2485, 0.0), (2486, 0.6080778446609398), (2487, 0.583875513314773), (2488, 0.1927986161492257), (2489, 0.6476057520027616), (2490, 0.2736199937911261), (2491, 0.0), (2492, 0.1927986161492257), (2493, 0.0), (2494, 0.1927986161492257), (2495, 0.2736199937911261), (2496, 0.326757023211668), (2497, 0.0), (2498, 0.0), (2499, 0.0), (2500, 0.0), (2501, 0.20970750355439477), (2502, 0.13665113058974965), (2503, 0.0), (2504, 0.0), (2505, 0.15034557489536654), (2506, 0.3016556598097263), (2507, 0.2736199937911261), (2508, 0.0), (2509, 0.1927986161492257), (2510, 0.0), (2511, 0.0), (2512, 0.5784995992789239), (2513, 0.0), (2514, 0.0), (2515, 0.0), (2516, 0.0), (2517, 0.0), (2518, 0.0), (2519, 0.46626110518344044), (2520, 0.11366692118716612), (2521, 0.0), (2522, 0.7440128746229138), (2523, 0.0), (2524, 0.6521910775661488), (2525, 0.4201513216048248), (2526, 0.1581017841542247), (2527, 0.11171808564219352), (2528, 0.2281555701130624), (2529, 0.1927986161492257), (2530, 0.1396559576042235), (2531, 0.14644484434565747), (2532, 0.0), (2533, 0.4201513216048248), (2534, 0.1581017841542247), (2535, 0.1927986161492257), (2536, 0.0), (2537, 0.2736199937911261), (2538, 0.1581017841542247), (2539, 0.0), (2540, 0.3474424522383497), (2541, 0.3320755897612702), (2542, 0.0), (2543, 0.0), (2544, 0.19998864075911046), (2545, 0.4201513216048248), (2546, 0.7089370216032753), (2547, 0.0), (2548, 0.0), (2549, 0.0), (2550, 0.13154936915041948), (2551, 0.0), (2552, 0.4201513216048248), (2553, 0.1927986161492257), (2554, 0.13022853428135153), (2555, 0.43511507076596534), (2556, 0.09765884438690048), (2557, 0.4201513216048248), (2558, 0.7047857921491699), (2559, 0.148919646107351), (2560, 0.2281555701130624), (2561, 0.2736199937911261), (2562, 0.0), (2563, 0.16049306226978435), (2564, 0.0), (2565, 0.4201513216048248), (2566, 0.0), (2567, 0.2098220485737594), (2568, 0.19845441739269654), (2569, 0.18843348142492838), (2570, 0.1927986161492257), (2571, 0.15020700836181497), (2572, 0.4201513216048248), (2573, 0.2033463939392786), (2574, 0.0), (2575, 0.0), (2576, 0.3925596102177653), (2577, 0.0), (2578, 0.0), (2579, 0.19845441739269654), (2580, 0.7047857921491699), (2581, 0.4824765370565067), (2582, 0.0), (2583, 0.0), (2584, 0.0), (2585, 0.4201513216048248), (2586, 0.0), (2587, 0.2736199937911261), (2588, 0.0), (2589, 0.0), (2590, 0.0), (2591, 0.17385933927873132), (2592, 0.17385933927873132), (2593, 0.12938852843760973), (2594, 0.0), (2595, 0.16648745740149773), (2596, 0.0), (2597, 0.0), (2598, 0.44120966393682026), (2599, 0.21917041055208134), (2600, 0.4824765370565067), (2601, 0.14479358612098284), (2602, 1.0000000000000002), (2603, 0.1111318221531309), (2604, 0.0), (2605, 0.0), (2606, 0.7047857921491699), (2607, 0.8385597416532798), (2608, 0.0), (2609, 0.1333078392052627), (2610, 0.1927986161492257), (2611, 0.16049306226978435), (2612, 0.19845441739269654), (2613, 0.4201513216048248), (2614, 0.13818632521419028), (2615, 0.0), (2616, 0.0), (2617, 0.7882240754812562), (2618, 0.21917041055208134), (2619, 0.2736199937911261), (2620, 0.0), (2621, 1.0000000000000002), (2622, 0.23415464727412472), (2623, 0.15034557489536654), (2624, 0.4201513216048248), (2625, 0.6714913379551536), (2626, 0.3365822133770827), (2627, 0.0), (2628, 0.4201513216048248), (2629, 0.15085130174813394), (2630, 0.3320755897612702), (2631, 0.0), (2632, 0.44120966393682026), (2633, 0.1927986161492257), (2634, 0.10631497067989275), (2635, 0.583875513314773), (2636, 0.4201513216048248), (2637, 0.0), (2638, 0.7514869502857859), (2639, 0.0), (2640, 0.1780441361005807), (2641, 0.0), (2642, 0.13764178954161627), (2643, 0.11777383605725084), (2644, 0.0), (2645, 0.8622265148955368), (2646, 0.0), (2647, 0.43511507076596534), (2648, 0.0), (2649, 0.8245023470136082), (2650, 0.2281555701130624), (2651, 0.4201513216048248), (2652, 0.10448241790147621), (2653, 0.2736199937911261), (2654, 0.0), (2655, 0.7047857921491699), (2656, 0.0), (2657, 0.0), (2658, 0.0), (2659, 0.0), (2660, 0.0), (2661, 0.1927986161492257), (2662, 0.0), (2663, 0.0), (2664, 0.2281555701130624), (2665, 0.0), (2666, 0.0), (2667, 0.0), (2668, 0.8622265148955368), (2669, 0.0), (2670, 0.0), (2671, 0.0), (2672, 0.0), (2673, 0.4201513216048248), (2674, 0.1415664400575078), (2675, 0.0), (2676, 0.0), (2677, 0.0), (2678, 0.1927986161492257), (2679, 0.4201513216048248), (2680, 0.17760677290410495), (2681, 0.0), (2682, 0.17975596508300082), (2683, 0.24554429453440887), (2684, 0.0), (2685, 0.0), (2686, 0.0), (2687, 0.1927986161492257), (2688, 0.0), (2689, 0.23415464727412472), (2690, 0.0), (2691, 0.0), (2692, 1.0000000000000002), (2693, 0.0), (2694, 0.4201513216048248), (2695, 0.7514869502857859), (2696, 0.1927986161492257), (2697, 0.8622265148955368), (2698, 0.1813731807713378), (2699, 0.0), (2700, 0.5658585333535687), (2701, 0.0), (2702, 0.1927986161492257), (2703, 0.0), (2704, 0.0), (2705, 0.10831265549259102), (2706, 0.09649740095252554), (2707, 0.1780441361005807), (2708, 0.0), (2709, 0.0), (2710, 0.0), (2711, 0.23415464727412472), (2712, 0.2736199937911261), (2713, 0.0), (2714, 0.28440586562857967), (2715, 0.0), (2716, 0.7047857921491699), (2717, 0.0), (2718, 0.0), (2719, 0.0), (2720, 0.20231323614354313), (2721, 0.17385933927873132), (2722, 0.2736199937911261), (2723, 0.4201513216048248), (2724, 0.38081784061305546), (2725, 0.22101774921932255), (2726, 0.0), (2727, 0.7986343033237389), (2728, 0.2736199937911261), (2729, 0.0), (2730, 0.0), (2731, 0.2736199937911261), (2732, 0.0), (2733, 0.25131958437136165), (2734, 0.0), (2735, 0.4201513216048248), (2736, 0.24554429453440887), (2737, 0.0), (2738, 0.2736199937911261), (2739, 0.8245023470136082), (2740, 0.1714559154117276), (2741, 0.17385933927873132), (2742, 0.7617629619652846), (2743, 0.11366692118716612), (2744, 0.1927986161492257), (2745, 0.12142072113773782), (2746, 0.1927986161492257), (2747, 0.1927986161492257), (2748, 0.1927986161492257), (2749, 0.0), (2750, 0.0), (2751, 0.7617629619652846), (2752, 0.8245023470136082), (2753, 0.4201513216048248), (2754, 0.0), (2755, 0.15484081990728352), (2756, 0.0), (2757, 0.4201513216048248), (2758, 0.13442812828072123), (2759, 0.3320755897612702), (2760, 0.4201513216048248), (2761, 0.2281555701130624), (2762, 0.0), (2763, 0.0), (2764, 0.1927986161492257), (2765, 0.4201513216048248), (2766, 0.09694385900726073), (2767, 0.1415664400575078), (2768, 0.8622265148955368), (2769, 0.1927986161492257), (2770, 0.0), (2771, 0.6950250817196322), (2772, 0.06507296884451794), (2773, 0.0), (2774, 0.0), (2775, 0.2281555701130624), (2776, 0.1927986161492257), (2777, 0.38719709815855996), (2778, 0.5413794213254587), (2779, 0.13154936915041948), (2780, 0.5913210892731544), (2781, 0.0), (2782, 0.17385933927873132), (2783, 0.4201513216048248), (2784, 1.0000000000000002), (2785, 0.0), (2786, 0.2736199937911261), (2787, 0.3365822133770827), (2788, 0.7617629619652846), (2789, 0.2113343685071608), (2790, 0.2593019961667207), (2791, 0.7617629619652846), (2792, 0.4201513216048248), (2793, 0.0), (2794, 0.0), (2795, 0.8622265148955368), (2796, 0.11223490696952573), (2797, 0.1927986161492257), (2798, 0.2281555701130624), (2799, 0.0), (2800, 0.16049306226978435), (2801, 0.3320755897612702), (2802, 0.13154936915041948), (2803, 0.31382203602664577), (2804, 0.0), (2805, 0.0), (2806, 0.0), (2807, 0.0), (2808, 1.0000000000000002), (2809, 0.2281555701130624), (2810, 0.0), (2811, 0.0), (2812, 0.12178452324346005), (2813, 0.0), (2814, 0.0), (2815, 0.5463997708973266), (2816, 0.0), (2817, 0.0), (2818, 0.0), (2819, 0.2746871206041339), (2820, 0.3365822133770827), (2821, 0.13665113058974965), (2822, 0.0), (2823, 0.0), (2824, 0.0), (2825, 0.4824765370565067), (2826, 0.1780441361005807), (2827, 0.0), (2828, 0.0), (2829, 0.0), (2830, 0.1333078392052627), (2831, 0.10532451257200191), (2832, 0.1927986161492257), (2833, 0.583875513314773), (2834, 0.1927986161492257), (2835, 0.0), (2836, 0.0), (2837, 0.0), (2838, 0.1927986161492257), (2839, 0.0), (2840, 0.5413794213254587), (2841, 0.4201513216048248), (2842, 0.0), (2843, 0.0), (2844, 0.10069231289615865), (2845, 0.1581017841542247), (2846, 0.2736199937911261), (2847, 0.23733230442583222), (2848, 0.15529550115732185), (2849, 0.8245023470136082), (2850, 0.0), (2851, 0.0), (2852, 0.0), (2853, 0.4201513216048248), (2854, 0.5413794213254587), (2855, 0.0), (2856, 0.0), (2857, 0.1927986161492257), (2858, 0.2736199937911261), (2859, 0.2281555701130624), (2860, 0.0), (2861, 0.4201513216048248), (2862, 0.12369462369294491), (2863, 0.2281555701130624), (2864, 0.0), (2865, 0.0), (2866, 0.0), (2867, 0.0), (2868, 0.16049306226978435), (2869, 0.0), (2870, 0.2281555701130624), (2871, 0.6878993572639702), (2872, 0.1927986161492257), (2873, 0.0), (2874, 0.4090569757433808), (2875, 0.0), (2876, 0.1927986161492257), (2877, 0.0), (2878, 0.13665113058974965), (2879, 0.44120966393682026), (2880, 0.0), (2881, 0.3911591963692266), (2882, 0.2736199937911261), (2883, 0.2281555701130624), (2884, 0.2736199937911261), (2885, 0.0), (2886, 0.49676886776484397), (2887, 0.15772520913358157), (2888, 0.11941923392448542), (2889, 0.1813731807713378), (2890, 0.2281555701130624), (2891, 0.0), (2892, 0.2281555701130624), (2893, 0.1927986161492257), (2894, 0.2281555701130624), (2895, 0.1780441361005807), (2896, 0.0), (2897, 0.46626110518344044), (2898, 0.0), (2899, 0.3047899439765176), (2900, 0.4201513216048248), (2901, 0.19845441739269654), (2902, 0.4201513216048248), (2903, 0.8622265148955368), (2904, 0.2281555701130624), (2905, 0.0), (2906, 0.0), (2907, 0.2281555701130624), (2908, 0.8622265148955368), (2909, 0.4201513216048248), (2910, 0.687474775506141), (2911, 0.2281555701130624), (2912, 0.14479358612098284), (2913, 0.4824765370565067), (2914, 0.2736199937911261), (2915, 0.2281555701130624), (2916, 0.10458735170186292), (2917, 0.44120966393682026), (2918, 0.7617629619652846), (2919, 1.0000000000000002), (2920, 0.13655225253436953), (2921, 0.0), (2922, 0.0), (2923, 0.4201513216048248), (2924, 0.1927986161492257), (2925, 0.8981362414824391), (2926, 0.11223490696952573), (2927, 0.0), (2928, 0.0), (2929, 0.24554429453440887), (2930, 0.0), (2931, 0.15085130174813394), (2932, 0.7514869502857859), (2933, 0.1927986161492257), (2934, 0.5138922871093842), (2935, 0.0), (2936, 0.4201513216048248), (2937, 0.1780441361005807), (2938, 0.0), (2939, 0.7986343033237389), (2940, 0.12752298922666486), (2941, 0.0), (2942, 0.4201513216048248), (2943, 0.18171255986797127), (2944, 0.18179810923000367), (2945, 0.1927986161492257), (2946, 0.08349947059030238), (2947, 0.3925596102177653), (2948, 0.583875513314773), (2949, 0.3320755897612702), (2950, 0.0), (2951, 0.0), (2952, 0.0), (2953, 0.4201513216048248), (2954, 0.2736199937911261), (2955, 0.0), (2956, 0.0), (2957, 0.4201513216048248), (2958, 0.0), (2959, 0.26719628240100146), (2960, 0.3016556598097263), (2961, 1.0000000000000002), (2962, 0.4824765370565067), (2963, 0.7617629619652846), (2964, 0.4201513216048248), (2965, 0.1581017841542247), (2966, 0.1606007796473543), (2967, 0.0), (2968, 0.0), (2969, 0.1415664400575078), (2970, 0.2736199937911261), (2971, 0.4824765370565067), (2972, 0.17385933927873132), (2973, 0.0), (2974, 0.13818632521419028), (2975, 0.2281555701130624), (2976, 0.2736199937911261), (2977, 0.16049306226978435), (2978, 0.6756872467525066), (2979, 0.0), (2980, 0.19845441739269654), (2981, 0.44120966393682026), (2982, 0.0), (2983, 0.0), (2984, 0.24554429453440887), (2985, 0.4201513216048248), (2986, 0.1277818410228055), (2987, 0.4201513216048248), (2988, 0.7047857921491699), (2989, 0.2444150400336092), (2990, 0.0), (2991, 0.3320755897612702), (2992, 0.2779474725213635), (2993, 0.4201513216048248), (2994, 0.583875513314773), (2995, 0.13145651668559796), (2996, 0.7514869502857859), (2997, 0.4201513216048248), (2998, 0.1396559576042235), (2999, 0.1927986161492257), (3000, 0.4201513216048248), (3001, 0.0), (3002, 0.0), (3003, 0.2736199937911261), (3004, 0.13665113058974965), (3005, 0.3320755897612702), (3006, 0.0), (3007, 0.4201513216048248), (3008, 0.0), (3009, 0.0), (3010, 0.4201513216048248), (3011, 0.3065591246793501), (3012, 1.0000000000000002), (3013, 0.2281555701130624), (3014, 0.1048607645897889), (3015, 0.2281555701130624), (3016, 0.2736199937911261), (3017, 0.0), (3018, 0.31309242643915886), (3019, 1.0000000000000002), (3020, 0.2736199937911261), (3021, 0.0), (3022, 0.23415464727412472), (3023, 0.0), (3024, 0.1415664400575078), (3025, 0.0), (3026, 0.2736199937911261), (3027, 0.1813731807713378), (3028, 0.16049306226978435), (3029, 0.0), (3030, 0.2281555701130624), (3031, 0.4201513216048248), (3032, 0.7047857921491699), (3033, 0.0), (3034, 0.0), (3035, 0.7047857921491699), (3036, 0.15034557489536654), (3037, 0.2736199937911261), (3038, 0.0), (3039, 0.0), (3040, 0.2736199937911261), (3041, 0.0), (3042, 0.2736199937911261), (3043, 1.0000000000000002), (3044, 0.131773494064408), (3045, 0.5345412954993455), (3046, 0.16049306226978435), (3047, 0.0), (3048, 0.0), (3049, 0.5658585333535687), (3050, 0.1927986161492257), (3051, 0.12255728594359948), (3052, 0.4201513216048248), (3053, 0.0), (3054, 0.0), (3055, 0.4201513216048248), (3056, 0.2281555701130624), (3057, 0.4201513216048248), (3058, 0.0), (3059, 0.0), (3060, 0.0), (3061, 0.0), (3062, 0.09746606905916931), (3063, 0.0), (3064, 0.1415664400575078), (3065, 0.43511507076596534), (3066, 0.0), (3067, 0.2281555701130624), (3068, 0.0), (3069, 0.4201513216048248), (3070, 0.6939130705053973), (3071, 0.1927986161492257), (3072, 0.2281555701130624), (3073, 0.0), (3074, 0.2736199937911261), (3075, 0.2281555701130624), (3076, 0.8245023470136082), (3077, 0.0), (3078, 0.0), (3079, 0.2113343685071608), (3080, 0.0), (3081, 0.12938852843760973), (3082, 0.0), (3083, 0.0), (3084, 0.2736199937911261), (3085, 0.7617629619652846), (3086, 0.7882240754812562), (3087, 0.0), (3088, 0.0), (3089, 0.0), (3090, 0.0), (3091, 0.1265397328856081), (3092, 0.0), (3093, 0.18925467779751348), (3094, 0.2281555701130624), (3095, 0.8245023470136082), (3096, 0.1396559576042235), (3097, 0.6045129139943931), (3098, 0.0), (3099, 0.5314689586174589), (3100, 0.20970750355439477), (3101, 0.4201513216048248), (3102, 0.0), (3103, 0.0), (3104, 0.0), (3105, 0.0), (3106, 0.0), (3107, 0.0), (3108, 0.4046068549130616), (3109, 0.0), (3110, 0.6521910775661488), (3111, 0.16025860505997272), (3112, 0.4115800425588567), (3113, 0.2736199937911261), (3114, 0.0), (3115, 0.0), (3116, 0.2281555701130624), (3117, 0.5658585333535687), (3118, 0.5547117231974954), (3119, 0.8245023470136082), (3120, 0.8245023470136082), (3121, 0.0), (3122, 0.3625610983349477), (3123, 0.3159229682943087), (3124, 0.3016556598097263), (3125, 0.7047857921491699), (3126, 0.228226664079399), (3127, 0.583875513314773), (3128, 0.4201513216048248), (3129, 0.3016556598097263), (3130, 0.0), (3131, 0.1867145789548604), (3132, 0.0), (3133, 0.20970750355439477), (3134, 0.20970750355439477), (3135, 0.3016556598097263), (3136, 0.3016556598097263), (3137, 0.1927986161492257), (3138, 0.0), (3139, 0.2736199937911261), (3140, 0.2281555701130624), (3141, 0.0), (3142, 0.4319259085371167), (3143, 0.3925596102177653), (3144, 0.0), (3145, 0.0), (3146, 0.14479358612098284), (3147, 0.1927986161492257), (3148, 0.2281555701130624), (3149, 0.583875513314773), (3150, 0.2736199937911261), (3151, 0.19845441739269654), (3152, 0.10752036378008059), (3153, 0.44120966393682026), (3154, 1.0000000000000002), (3155, 0.7089370216032753), (3156, 0.3016556598097263), (3157, 0.4201513216048248), (3158, 0.2113343685071608), (3159, 0.4201513216048248), (3160, 0.21917041055208134), (3161, 0.3070570216574944), (3162, 0.0), (3163, 0.3016556598097263), (3164, 0.0), (3165, 0.18171255986797127), (3166, 0.1927986161492257), (3167, 0.4201513216048248), (3168, 0.2779474725213635), (3169, 0.0), (3170, 0.2281555701130624), (3171, 0.5644388622118346), (3172, 0.0), (3173, 0.4201513216048248), (3174, 0.1601401525434569), (3175, 0.0), (3176, 0.0), (3177, 0.0), (3178, 0.1927986161492257), (3179, 0.3320755897612702), (3180, 0.22947773258347848), (3181, 0.0), (3182, 0.1927986161492257), (3183, 0.1927986161492257), (3184, 0.15529550115732185), (3185, 0.3925596102177653), (3186, 0.4201513216048248), (3187, 0.17385933927873132), (3188, 0.0), (3189, 0.0), (3190, 0.0), (3191, 0.17975596508300082), (3192, 0.4824765370565067), (3193, 0.0), (3194, 0.1927986161492257), (3195, 0.472265187178681), (3196, 0.7047857921491699), (3197, 0.0), (3198, 0.10373329859342385), (3199, 0.09765884438690048), (3200, 0.2281555701130624), (3201, 0.0), (3202, 0.0), (3203, 0.0), (3204, 0.0), (3205, 0.0), (3206, 0.1780441361005807), (3207, 0.0), (3208, 0.0), (3209, 0.0), (3210, 0.8622265148955368), (3211, 0.4201513216048248), (3212, 0.0), (3213, 0.3925596102177653), (3214, 0.1927986161492257), (3215, 0.3016556598097263), (3216, 0.4201513216048248), (3217, 0.0), (3218, 0.1927986161492257), (3219, 0.19845441739269654), (3220, 0.1927986161492257), (3221, 0.0), (3222, 0.0), (3223, 0.0), (3224, 0.2736199937911261), (3225, 0.13435625814607735), (3226, 0.4201513216048248), (3227, 0.5413794213254587), (3228, 0.7047857921491699), (3229, 0.0), (3230, 0.4201513216048248), (3231, 0.0), (3232, 0.6022353998973401), (3233, 0.38081784061305546), (3234, 0.17385933927873132), (3235, 0.1606007796473543), (3236, 0.0), (3237, 0.2281555701130624), (3238, 0.2736199937911261), (3239, 0.2736199937911261), (3240, 0.4201513216048248), (3241, 0.09397034520380947), (3242, 0.4201513216048248), (3243, 0.4201513216048248), (3244, 0.0), (3245, 0.4090569757433808), (3246, 0.1927986161492257), (3247, 0.23415464727412472), (3248, 0.2281555701130624), (3249, 0.2736199937911261), (3250, 0.0), (3251, 0.0), (3252, 0.4201513216048248), (3253, 0.0), (3254, 0.2281555701130624), (3255, 0.0), (3256, 0.0), (3257, 0.2736199937911261), (3258, 0.1927986161492257), (3259, 0.4824765370565067), (3260, 0.2736199937911261), (3261, 0.0), (3262, 0.11810234427434102), (3263, 0.3925596102177653), (3264, 0.1581017841542247), (3265, 0.0), (3266, 0.0), (3267, 0.6045129139943931), (3268, 0.2281555701130624), (3269, 0.4201513216048248), (3270, 0.0), (3271, 0.1927986161492257), (3272, 0.0), (3273, 0.2281555701130624), (3274, 0.2281555701130624), (3275, 0.8622265148955368), (3276, 0.148919646107351), (3277, 0.0), (3278, 0.14147944497382994), (3279, 0.3320755897612702), (3280, 0.47708530755340484), (3281, 0.0), (3282, 0.1927986161492257), (3283, 0.2736199937911261), (3284, 0.7047857921491699), (3285, 0.15034557489536654), (3286, 0.0), (3287, 0.0), (3288, 0.0), (3289, 0.2736199937911261), (3290, 0.2736199937911261), (3291, 0.2281555701130624), (3292, 0.4201513216048248), (3293, 0.8245023470136082), (3294, 0.0), (3295, 0.0), (3296, 0.2281555701130624), (3297, 0.20231323614354313), (3298, 0.13145651668559796), (3299, 0.4201513216048248), (3300, 0.2281555701130624), (3301, 0.16049306226978435), (3302, 0.2281555701130624), (3303, 0.3327301007881456), (3304, 0.1277818410228055), (3305, 0.0), (3306, 0.6714913379551536), (3307, 0.4201513216048248), (3308, 0.1927986161492257), (3309, 0.0), (3310, 0.0), (3311, 0.11700112756088753), (3312, 0.7617629619652846), (3313, 0.4201513216048248), (3314, 0.13154936915041948), (3315, 0.1927986161492257), (3316, 0.11366692118716612), (3317, 0.7012988244541298), (3318, 0.8385597416532798), (3319, 0.0), (3320, 0.0), (3321, 0.0), (3322, 0.4201513216048248), (3323, 0.0), (3324, 0.0), (3325, 0.44120966393682026), (3326, 0.13665113058974965), (3327, 0.1714559154117276), (3328, 0.11941923392448542), (3329, 0.2736199937911261), (3330, 0.3625610983349477), (3331, 0.38081784061305546), (3332, 0.0), (3333, 0.0), (3334, 0.6878993572639702), (3335, 0.2281555701130624), (3336, 0.2444150400336092), (3337, 0.2736199937911261), (3338, 0.24554429453440887), (3339, 0.3925596102177653), (3340, 0.0), (3341, 0.4201513216048248), (3342, 0.5074630885099912), (3343, 0.0), (3344, 0.7047857921491699), (3345, 0.0), (3346, 0.12030768867965337), (3347, 0.11810234427434102), (3348, 0.2736199937911261), (3349, 0.5788306023645081), (3350, 0.0), (3351, 0.2736199937911261), (3352, 0.1927986161492257), (3353, 0.18925467779751348), (3354, 0.4201513216048248), (3355, 0.18925467779751348), (3356, 0.0), (3357, 0.16202832381146182), (3358, 0.4201513216048248), (3359, 0.2281555701130624), (3360, 0.15772520913358157), (3361, 0.20970750355439477), (3362, 0.4201513216048248), (3363, 0.12142072113773782), (3364, 0.1927986161492257), (3365, 0.1415664400575078), (3366, 0.0), (3367, 0.20970750355439477), (3368, 0.0), (3369, 0.4201513216048248), (3370, 1.0000000000000002), (3371, 0.0), (3372, 0.4201513216048248), (3373, 0.20231323614354313), (3374, 0.5421110891372223), (3375, 0.0), (3376, 0.4201513216048248), (3377, 0.7264735740642287), (3378, 0.0), (3379, 0.16049306226978435), (3380, 0.2281555701130624), (3381, 0.4201513216048248), (3382, 0.7089370216032753), (3383, 0.0), (3384, 0.7617629619652846), (3385, 0.2113343685071608), (3386, 0.11186945657301746), (3387, 0.26363742335802387), (3388, 0.1927986161492257), (3389, 0.11806440977322519), (3390, 0.4201513216048248), (3391, 0.2281555701130624), (3392, 0.4201513216048248), (3393, 0.14662368428624792), (3394, 0.0), (3395, 0.0), (3396, 0.4201513216048248), (3397, 0.0), (3398, 0.25131958437136165), (3399, 0.16049306226978435), (3400, 0.0), (3401, 0.0), (3402, 0.14479358612098284), (3403, 0.6752972701297861), (3404, 0.1753285835437738), (3405, 0.20970750355439477), (3406, 0.2281555701130624), (3407, 0.6476057520027616), (3408, 0.10671304981739947), (3409, 0.1204084249717946), (3410, 0.2736199937911261), (3411, 0.0), (3412, 0.4201513216048248), (3413, 0.1927986161492257), (3414, 0.4201513216048248), (3415, 0.0), (3416, 0.6034630952836406), (3417, 0.10831265549259102), (3418, 0.7089370216032753), (3419, 0.1780441361005807), (3420, 0.0), (3421, 0.1927986161492257), (3422, 0.0), (3423, 0.4201513216048248), (3424, 0.0), (3425, 0.2281555701130624), (3426, 0.25699346067073875), (3427, 0.0), (3428, 0.0), (3429, 0.3925596102177653), (3430, 0.2736199937911261), (3431, 0.4201513216048248), (3432, 0.26719628240100146), (3433, 0.472265187178681), (3434, 0.2281555701130624), (3435, 0.7047857921491699), (3436, 0.7047857921491699), (3437, 0.7882240754812562), (3438, 0.3925596102177653), (3439, 0.0), (3440, 0.2835880475550035), (3441, 0.2444150400336092), (3442, 0.0), (3443, 0.3365822133770827), (3444, 0.0), (3445, 0.10146664610365849), (3446, 0.3320755897612702), (3447, 0.1927986161492257), (3448, 0.3016556598097263), (3449, 0.1927986161492257), (3450, 0.8622265148955368), (3451, 0.3925596102177653), (3452, 0.38081784061305546), (3453, 0.0), (3454, 0.0), (3455, 0.4201513216048248), (3456, 0.3320755897612702), (3457, 0.0), (3458, 0.4201513216048248), (3459, 0.0), (3460, 0.44120966393682026), (3461, 0.0), (3462, 0.0), (3463, 0.0), (3464, 0.3770551573834563), (3465, 0.7617629619652846), (3466, 0.7617629619652846), (3467, 0.0), (3468, 0.23415464727412472), (3469, 0.0), (3470, 0.25131958437136165), (3471, 0.472265187178681), (3472, 0.0), (3473, 0.0), (3474, 0.472265187178681), (3475, 0.0), (3476, 0.0), (3477, 0.1927986161492257), (3478, 0.4201513216048248), (3479, 0.1927986161492257), (3480, 0.0), (3481, 0.0), (3482, 0.0), (3483, 1.0000000000000002), (3484, 0.21917041055208134), (3485, 0.0), (3486, 0.3016556598097263), (3487, 0.472265187178681), (3488, 0.24554429453440887), (3489, 0.0), (3490, 0.0), (3491, 0.15034557489536654), (3492, 0.1333078392052627), (3493, 0.1927986161492257), (3494, 0.0), (3495, 0.3320755897612702), (3496, 0.1927986161492257), (3497, 0.4201513216048248), (3498, 0.7047857921491699), (3499, 0.7047857921491699), (3500, 0.1927986161492257), (3501, 0.7047857921491699), (3502, 0.21917041055208134), (3503, 0.12549548850010306), (3504, 0.6521910775661488), (3505, 0.0), (3506, 0.2281555701130624), (3507, 0.7617629619652846), (3508, 0.583875513314773), (3509, 0.0), (3510, 0.0), (3511, 0.2281555701130624), (3512, 0.15115201964992972), (3513, 0.201236415677024), (3514, 0.4776341062173869), (3515, 0.0), (3516, 0.3047899439765176), (3517, 0.15115201964992972), (3518, 0.0), (3519, 0.0), (3520, 0.3016556598097263), (3521, 0.7047857921491699), (3522, 0.0), (3523, 0.4201513216048248), (3524, 0.2281555701130624), (3525, 0.0), (3526, 0.1927986161492257), (3527, 0.15034557489536654), (3528, 0.0), (3529, 0.0), (3530, 0.0), (3531, 0.4824765370565067), (3532, 0.0), (3533, 0.0), (3534, 0.4201513216048248), (3535, 0.6878993572639702), (3536, 0.4201513216048248), (3537, 0.2736199937911261), (3538, 0.2736199937911261), (3539, 0.0), (3540, 0.4201513216048248), (3541, 0.1927986161492257), (3542, 0.15020700836181497), (3543, 0.0), (3544, 0.2736199937911261), (3545, 0.0), (3546, 0.1714559154117276), (3547, 0.0), (3548, 0.4201513216048248), (3549, 0.0), (3550, 0.0), (3551, 0.2281555701130624), (3552, 0.1927986161492257), (3553, 0.5718872178669434), (3554, 0.0), (3555, 0.3016556598097263), (3556, 0.5413794213254587), (3557, 0.19845441739269654), (3558, 0.10831265549259102), (3559, 0.0), (3560, 0.18171255986797127), (3561, 0.4201513216048248), (3562, 0.0), (3563, 0.0), (3564, 0.13572728802261472), (3565, 0.2736199937911261), (3566, 0.0), (3567, 0.0), (3568, 0.0), (3569, 0.15034557489536654), (3570, 0.583875513314773), (3571, 0.5788306023645081), (3572, 0.0), (3573, 0.0), (3574, 0.0), (3575, 0.1277818410228055), (3576, 0.21917041055208134), (3577, 0.14262873701395096), (3578, 0.0), (3579, 0.10373329859342385), (3580, 0.0), (3581, 0.0), (3582, 0.6022353998973401), (3583, 0.3320755897612702), (3584, 0.25380939468784386), (3585, 0.0), (3586, 0.3489152586309752), (3587, 0.15298694294248064), (3588, 0.3925596102177653), (3589, 0.0), (3590, 0.16049306226978435), (3591, 0.0), (3592, 0.0), (3593, 0.2444150400336092), (3594, 0.0), (3595, 0.0), (3596, 0.4201513216048248), (3597, 0.4397517875495551), (3598, 0.0), (3599, 0.1927986161492257), (3600, 0.0), (3601, 0.1927986161492257), (3602, 0.3925596102177653), (3603, 0.0), (3604, 0.26719628240100146), (3605, 0.23415464727412472), (3606, 0.2736199937911261), (3607, 0.0), (3608, 0.4201513216048248), (3609, 0.0), (3610, 0.0), (3611, 0.4201513216048248), (3612, 0.519393454044119), (3613, 0.14487351454350908), (3614, 0.2281555701130624), (3615, 0.4201513216048248), (3616, 0.2736199937911261), (3617, 0.0), (3618, 0.7047857921491699), (3619, 0.24554429453440887), (3620, 0.19845441739269654), (3621, 0.2736199937911261), (3622, 0.0), (3623, 0.34722636712465005), (3624, 0.4015784547713934), (3625, 0.0), (3626, 0.1927986161492257), (3627, 0.4201513216048248), (3628, 0.0), (3629, 0.22101774921932255), (3630, 0.0), (3631, 0.0), (3632, 0.0), (3633, 0.0), (3634, 0.15020700836181497), (3635, 0.43511507076596534), (3636, 0.4201513216048248), (3637, 0.6265693879790029), (3638, 0.5074630885099912), (3639, 0.1581017841542247), (3640, 1.0000000000000002), (3641, 0.10595510167129836), (3642, 0.8622265148955368), (3643, 0.19845441739269654), (3644, 0.0), (3645, 0.38719709815855996), (3646, 0.1927986161492257), (3647, 0.4201513216048248), (3648, 0.0), (3649, 0.0), (3650, 0.0), (3651, 0.4201513216048248), (3652, 0.7986343033237389), (3653, 0.7047857921491699), (3654, 0.2281555701130624), (3655, 0.2281555701130624), (3656, 0.4201513216048248), (3657, 0.1363346886223104), (3658, 0.4824765370565067), (3659, 0.907454057764755), (3660, 0.8622265148955368), (3661, 0.7047857921491699), (3662, 0.0), (3663, 0.0), (3664, 0.3320755897612702), (3665, 0.2736199937911261), (3666, 0.472265187178681), (3667, 0.13665113058974965), (3668, 0.2444150400336092), (3669, 0.10831265549259102), (3670, 0.7514869502857859), (3671, 0.0), (3672, 0.4201513216048248), (3673, 0.17385933927873132), (3674, 0.7986343033237389), (3675, 1.0000000000000002), (3676, 0.0), (3677, 0.1581017841542247), (3678, 0.1927986161492257), (3679, 0.20764878101672113), (3680, 0.5413794213254587), (3681, 0.0), (3682, 0.0), (3683, 0.0), (3684, 0.6939130705053973), (3685, 0.0), (3686, 0.0), (3687, 0.4201513216048248), (3688, 0.0), (3689, 0.13572728802261472), (3690, 0.0), (3691, 0.4201513216048248), (3692, 0.34722636712465005), (3693, 0.0), (3694, 0.7514869502857859), (3695, 0.0), (3696, 0.7047857921491699), (3697, 0.0), (3698, 0.0), (3699, 1.0000000000000002), (3700, 0.0), (3701, 0.4201513216048248), (3702, 0.0), (3703, 0.0), (3704, 0.44120966393682026), (3705, 0.44120966393682026), (3706, 0.10075039092157555), (3707, 0.2444150400336092), (3708, 0.7617629619652846), (3709, 0.0), (3710, 0.3925596102177653), (3711, 0.6521910775661488), (3712, 0.0), (3713, 0.907454057764755), (3714, 0.15020700836181497), (3715, 0.3365822133770827), (3716, 0.0), (3717, 0.0), (3718, 0.0), (3719, 0.4201513216048248), (3720, 0.2033463939392786), (3721, 0.37164256214129804), (3722, 0.0), (3723, 0.2746871206041339), (3724, 0.0), (3725, 0.16049306226978435), (3726, 0.0), (3727, 0.7047857921491699), (3728, 0.13442812828072123), (3729, 0.4201513216048248), (3730, 0.0), (3731, 0.47708530755340484), (3732, 0.0), (3733, 0.2736199937911261), (3734, 0.3047899439765176), (3735, 0.0), (3736, 0.0), (3737, 0.4201513216048248), (3738, 0.0), (3739, 0.2736199937911261), (3740, 0.0), (3741, 0.7617629619652846), (3742, 0.09839948991327892), (3743, 0.0), (3744, 0.20970750355439477), (3745, 0.2281555701130624), (3746, 0.0), (3747, 0.19296490640730368), (3748, 0.0), (3749, 0.11366692118716612), (3750, 0.0), (3751, 0.16049306226978435), (3752, 0.0), (3753, 0.0), (3754, 0.2736199937911261), (3755, 0.2736199937911261), (3756, 1.0000000000000002), (3757, 0.4201513216048248), (3758, 0.0), (3759, 0.0), (3760, 0.0), (3761, 0.0), (3762, 0.4201513216048248), (3763, 0.17385933927873132), (3764, 0.0), (3765, 0.2736199937911261), (3766, 1.0000000000000002), (3767, 0.1927986161492257), (3768, 0.6878993572639702), (3769, 0.24554429453440887), (3770, 0.4201513216048248), (3771, 0.5413794213254587), (3772, 0.2736199937911261), (3773, 0.0), (3774, 0.5658585333535687), (3775, 0.907454057764755), (3776, 0.23431413617655686), (3777, 1.0000000000000002), (3778, 0.1581017841542247), (3779, 0.4201513216048248), (3780, 0.7047857921491699), (3781, 0.4201513216048248), (3782, 0.3016556598097263), (3783, 0.0), (3784, 0.16049306226978435), (3785, 0.0), (3786, 0.0), (3787, 0.20970750355439477), (3788, 0.3320755897612702), (3789, 0.0), (3790, 0.0), (3791, 0.0), (3792, 0.1927986161492257), (3793, 0.3320755897612702), (3794, 0.7617629619652846), (3795, 0.11304694279603858), (3796, 0.0), (3797, 0.38081784061305546), (3798, 0.0), (3799, 0.11366692118716612), (3800, 0.0), (3801, 1.0000000000000002), (3802, 0.2033463939392786), (3803, 0.0), (3804, 0.2281555701130624), (3805, 0.0), (3806, 0.5658585333535687), (3807, 0.8622265148955368), (3808, 0.0), (3809, 0.2281555701130624), (3810, 0.3320755897612702), (3811, 0.2736199937911261), (3812, 0.0), (3813, 0.19845441739269654), (3814, 0.3925596102177653), (3815, 0.3320755897612702), (3816, 0.0), (3817, 0.0), (3818, 0.0), (3819, 1.0000000000000002), (3820, 0.0), (3821, 0.4201513216048248), (3822, 0.17385933927873132), (3823, 0.3320755897612702), (3824, 0.3320755897612702), (3825, 0.0), (3826, 0.1714559154117276), (3827, 0.11810234427434102), (3828, 0.3720915577582824), (3829, 0.2281555701130624), (3830, 0.0), (3831, 0.0), (3832, 0.2736199937911261), (3833, 0.3320755897612702), (3834, 0.0), (3835, 0.13154936915041948), (3836, 0.0), (3837, 0.0), (3838, 0.0), (3839, 0.1927986161492257), (3840, 0.0), (3841, 0.7047857921491699), (3842, 0.0), (3843, 0.0), (3844, 0.2960935094772184), (3845, 0.1277818410228055), (3846, 0.0), (3847, 0.0), (3848, 0.4201513216048248), (3849, 0.6449981645934193), (3850, 0.23415464727412472), (3851, 0.0), (3852, 0.3320755897612702), (3853, 0.24554429453440887), (3854, 1.0000000000000002), (3855, 0.2736199937911261), (3856, 0.0), (3857, 0.4201513216048248), (3858, 0.0), (3859, 0.0), (3860, 0.7617629619652846), (3861, 0.0), (3862, 0.8622265148955368), (3863, 0.4201513216048248), (3864, 0.0), (3865, 0.0), (3866, 0.1927986161492257), (3867, 0.13665113058974965), (3868, 0.1927986161492257), (3869, 0.0), (3870, 0.0), (3871, 0.0), (3872, 0.0), (3873, 0.15020700836181497), (3874, 0.4201513216048248), (3875, 0.1927986161492257), (3876, 0.7047857921491699), (3877, 0.22101774921932255), (3878, 0.4201513216048248), (3879, 0.0), (3880, 0.18925467779751348), (3881, 0.3320755897612702), (3882, 0.1927986161492257), (3883, 1.0000000000000002), (3884, 0.4201513216048248), (3885, 0.0), (3886, 0.2078117899350173), (3887, 0.0), (3888, 0.4664373374369646), (3889, 0.12350419240019636), (3890, 0.2736199937911261), (3891, 0.0), (3892, 0.17385933927873132), (3893, 0.2281555701130624), (3894, 0.4201513216048248), (3895, 0.13665113058974965), (3896, 0.0), (3897, 0.2593019961667207), (3898, 0.2281555701130624), (3899, 0.4201513216048248), (3900, 0.12033720983224261), (3901, 0.472265187178681), (3902, 0.1581017841542247), (3903, 0.22101774921932255), (3904, 0.2281555701130624), (3905, 0.583875513314773), (3906, 0.4201513216048248), (3907, 0.20970750355439477), (3908, 0.23415464727412472), (3909, 0.0), (3910, 0.7047857921491699), (3911, 0.4201513216048248), (3912, 0.0), (3913, 0.2281555701130624), (3914, 0.0), (3915, 0.2281555701130624), (3916, 0.0), (3917, 0.1780441361005807), (3918, 0.0), (3919, 0.12350419240019636), (3920, 0.1581017841542247), (3921, 0.0), (3922, 0.2736199937911261), (3923, 0.0), (3924, 0.519393454044119), (3925, 0.2281555701130624), (3926, 0.0), (3927, 0.11810234427434102), (3928, 0.14369193776914435), (3929, 0.0), (3930, 0.0), (3931, 0.0), (3932, 0.2281555701130624), (3933, 0.0), (3934, 0.0), (3935, 0.4201513216048248), (3936, 0.0), (3937, 0.0), (3938, 0.3320755897612702), (3939, 0.4201513216048248), (3940, 0.0), (3941, 0.7089370216032753), (3942, 0.3320755897612702), (3943, 0.0), (3944, 0.3320755897612702), (3945, 0.4201513216048248), (3946, 0.7617629619652846), (3947, 0.5913210892731544), (3948, 0.0), (3949, 0.583875513314773), (3950, 0.0), (3951, 0.16049306226978435), (3952, 0.1927986161492257), (3953, 0.2444150400336092), (3954, 0.2281555701130624), (3955, 0.0), (3956, 0.8245023470136082), (3957, 0.38081784061305546), (3958, 0.0), (3959, 1.0000000000000002), (3960, 0.4015784547713934), (3961, 1.0000000000000002), (3962, 0.2736199937911261), (3963, 0.0), (3964, 0.0), (3965, 0.0), (3966, 0.2113343685071608), (3967, 0.2736199937911261), (3968, 0.0), (3969, 0.0), (3970, 0.3320755897612702), (3971, 0.0), (3972, 0.0), (3973, 0.2736199937911261), (3974, 0.7047857921491699), (3975, 0.24554429453440887), (3976, 0.0), (3977, 0.0), (3978, 0.8622265148955368), (3979, 0.0), (3980, 0.0), (3981, 0.0), (3982, 0.0), (3983, 0.18925467779751348), (3984, 0.7089370216032753), (3985, 0.0), (3986, 0.4201513216048248), (3987, 0.4201513216048248), (3988, 0.0), (3989, 0.3320755897612702), (3990, 0.19845441739269654), (3991, 0.0), (3992, 0.7089370216032753), (3993, 0.7617629619652846), (3994, 0.0), (3995, 0.3320755897612702), (3996, 0.0), (3997, 0.3925596102177653), (3998, 0.0), (3999, 0.2281555701130624), (4000, 1.0000000000000002), (4001, 0.0), (4002, 0.1581017841542247), (4003, 0.0), (4004, 1.0000000000000002), (4005, 0.5413794213254587), (4006, 0.0), (4007, 0.583875513314773), (4008, 0.0), (4009, 0.0), (4010, 0.0), (4011, 0.15529550115732185), (4012, 0.0), (4013, 0.7047857921491699), (4014, 0.15020700836181497), (4015, 0.13435625814607735), (4016, 0.22101774921932255), (4017, 0.4201513216048248), (4018, 0.0), (4019, 0.4201513216048248), (4020, 0.2444150400336092), (4021, 0.0), (4022, 0.0), (4023, 0.2736199937911261), (4024, 0.11366692118716612), (4025, 0.1927986161492257), (4026, 0.0), (4027, 0.0), (4028, 0.0), (4029, 0.0), (4030, 0.4201513216048248), (4031, 0.0), (4032, 0.4201513216048248), (4033, 0.6714913379551536), (4034, 0.0), (4035, 0.0), (4036, 0.14083401845751503), (4037, 0.0), (4038, 0.5413794213254587), (4039, 0.3925596102177653), (4040, 0.0), (4041, 0.0), (4042, 0.4201513216048248), (4043, 0.3065591246793501), (4044, 0.2835880475550035), (4045, 0.5463997708973266), (4046, 0.34722636712465005), (4047, 0.5658585333535687), (4048, 0.8245023470136082), (4049, 0.2736199937911261), (4050, 0.37164256214129804), (4051, 0.1927986161492257), (4052, 0.2736199937911261), (4053, 0.8245023470136082), (4054, 0.1386563399773457), (4055, 0.0), (4056, 0.11967219758401901), (4057, 0.0), (4058, 0.0), (4059, 0.4201513216048248), (4060, 0.6476057520027616), (4061, 0.0), (4062, 0.4201513216048248), (4063, 0.0), (4064, 0.0), (4065, 0.0), (4066, 0.12549548850010306), (4067, 0.0), (4068, 0.8622265148955368), (4069, 0.16049306226978435), (4070, 0.0), (4071, 0.28600472117340914), (4072, 0.0), (4073, 0.0), (4074, 0.22101774921932255), (4075, 0.4201513216048248), (4076, 0.22719669197542222), (4077, 0.0), (4078, 0.0), (4079, 0.2281555701130624), (4080, 0.2281555701130624), (4081, 0.4201513216048248), (4082, 0.2281555701130624), (4083, 0.4201513216048248), (4084, 0.0), (4085, 0.19910530997925002), (4086, 0.0), (4087, 0.12033720983224261), (4088, 0.7617629619652846), (4089, 0.7047857921491699), (4090, 0.3320755897612702), (4091, 0.20970750355439477), (4092, 0.7047857921491699), (4093, 0.4824765370565067), (4094, 0.4824765370565067), (4095, 0.8622265148955368), (4096, 0.907454057764755), (4097, 0.0), (4098, 0.5413794213254587), (4099, 0.0), (4100, 0.0), (4101, 0.12290650371746988), (4102, 0.2736199937911261), (4103, 0.3016556598097263), (4104, 0.1927986161492257), (4105, 0.583875513314773), (4106, 0.3320755897612702), (4107, 0.4201513216048248), (4108, 0.0), (4109, 0.0), (4110, 0.0), (4111, 0.2736199937911261), (4112, 0.0), (4113, 0.14662368428624792), (4114, 0.0), (4115, 0.0), (4116, 0.8622265148955368), (4117, 0.1927986161492257), (4118, 0.3731489877297615), (4119, 0.3925596102177653), (4120, 0.3320755897612702), (4121, 0.6939130705053973), (4122, 0.5463997708973266), (4123, 1.0000000000000002), (4124, 1.0000000000000002), (4125, 0.0), (4126, 0.4201513216048248), (4127, 0.0), (4128, 0.0), (4129, 0.4201513216048248), (4130, 0.1780441361005807), (4131, 0.0), (4132, 0.2736199937911261), (4133, 0.472265187178681), (4134, 0.3320755897612702), (4135, 0.12549548850010306), (4136, 0.12783676742458597), (4137, 0.16049306226978435), (4138, 0.2281555701130624), (4139, 0.13145651668559796), (4140, 0.2736199937911261), (4141, 0.49676886776484397), (4142, 0.1780441361005807), (4143, 0.10631497067989275), (4144, 0.0), (4145, 0.06758906182659956), (4146, 0.0), (4147, 0.2736199937911261), (4148, 0.7617629619652846), (4149, 0.0), (4150, 0.0), (4151, 0.1581017841542247), (4152, 0.13004738220141465), (4153, 0.0), (4154, 0.3159229682943087), (4155, 0.4201513216048248), (4156, 0.1927986161492257), (4157, 0.0), (4158, 0.3320755897612702), (4159, 0.0), (4160, 0.15772520913358157), (4161, 0.4201513216048248), (4162, 0.5658585333535687), (4163, 0.7047857921491699), (4164, 0.907454057764755), (4165, 0.21917041055208134), (4166, 0.0), (4167, 0.0), (4168, 0.0), (4169, 0.4201513216048248), (4170, 0.0), (4171, 0.11070843065140333), (4172, 0.4201513216048248), (4173, 0.0), (4174, 0.2736199937911261), (4175, 0.2281555701130624), (4176, 0.7047857921491699), (4177, 0.0), (4178, 1.0000000000000002), (4179, 0.0), (4180, 0.0), (4181, 0.0), (4182, 0.2736199937911261), (4183, 0.2281555701130624), (4184, 0.0), (4185, 0.0), (4186, 0.0), (4187, 0.8245023470136082), (4188, 0.0), (4189, 0.7514869502857859), (4190, 0.0), (4191, 0.0), (4192, 0.46773532619351443), (4193, 0.2430028275095051), (4194, 0.0), (4195, 0.0), (4196, 0.0), (4197, 0.2281555701130624), (4198, 0.0), (4199, 0.0), (4200, 0.2736199937911261), (4201, 0.0), (4202, 0.12369462369294491), (4203, 0.7089370216032753), (4204, 0.0), (4205, 0.1581017841542247), (4206, 0.2736199937911261), (4207, 0.0), (4208, 0.5658585333535687), (4209, 0.4201513216048248), (4210, 0.0), (4211, 0.3016556598097263), (4212, 0.0), (4213, 0.2736199937911261), (4214, 0.0), (4215, 0.0), (4216, 0.907454057764755), (4217, 0.0), (4218, 0.0), (4219, 0.3065591246793501), (4220, 0.4201513216048248), (4221, 0.2444150400336092), (4222, 0.1927986161492257), (4223, 0.0), (4224, 0.0), (4225, 0.4201513216048248), (4226, 0.0), (4227, 0.6878993572639702), (4228, 0.11366692118716612), (4229, 0.0), (4230, 0.4201513216048248), (4231, 1.0000000000000002), (4232, 0.8245023470136082), (4233, 0.4824765370565067), (4234, 0.0), (4235, 0.907454057764755), (4236, 0.0), (4237, 0.0), (4238, 0.0), (4239, 0.0), (4240, 0.21917041055208134), (4241, 0.0), (4242, 1.0000000000000002), (4243, 0.2281555701130624), (4244, 0.8622265148955368), (4245, 0.4201513216048248), (4246, 0.7089370216032753), (4247, 0.16049306226978435), (4248, 0.3925596102177653), (4249, 0.5413794213254587), (4250, 0.0), (4251, 0.3320755897612702), (4252, 0.0), (4253, 0.0), (4254, 0.2736199937911261), (4255, 0.3474424522383497), (4256, 0.0), (4257, 0.2736199937911261), (4258, 0.0), (4259, 0.17385933927873132), (4260, 0.0), (4261, 0.3512458203998441), (4262, 0.4201513216048248), (4263, 0.1277818410228055), (4264, 0.1970414962802812), (4265, 0.907454057764755), (4266, 0.12033720983224261), (4267, 0.4201513216048248), (4268, 0.5644388622118346), (4269, 0.12575008376239172), (4270, 0.0), (4271, 0.0), (4272, 0.0), (4273, 0.4201513216048248), (4274, 0.3925596102177653), (4275, 0.3065591246793501), (4276, 0.0), (4277, 0.4201513216048248), (4278, 0.0), (4279, 0.0), (4280, 0.4201513216048248), (4281, 0.5658585333535687), (4282, 0.30051650091552534), (4283, 0.32496168240319034), (4284, 0.44120966393682026), (4285, 0.22045129216630696), (4286, 0.1581017841542247), (4287, 0.1277818410228055), (4288, 0.8272103917127089), (4289, 0.4397517875495551), (4290, 0.3320755897612702), (4291, 0.0), (4292, 0.21366174304658123), (4293, 0.6045129139943931), (4294, 0.0), (4295, 0.1927986161492257), (4296, 0.4201513216048248), (4297, 0.0), (4298, 0.1581017841542247), (4299, 0.44120966393682026), (4300, 0.0), (4301, 0.14369193776914435), (4302, 0.0), (4303, 0.0), (4304, 0.2736199937911261), (4305, 0.0), (4306, 0.2281555701130624), (4307, 0.5658585333535687), (4308, 0.2736199937911261), (4309, 0.518199417059322), (4310, 0.3925596102177653), (4311, 0.1927986161492257), (4312, 0.23415464727412472), (4313, 0.0), (4314, 0.0), (4315, 0.0), (4316, 0.0), (4317, 0.0), (4318, 0.4201513216048248), (4319, 0.0), (4320, 0.2281555701130624), (4321, 0.1927986161492257), (4322, 0.21311661379816885), (4323, 0.0), (4324, 0.0), (4325, 0.6939130705053973), (4326, 0.4201513216048248), (4327, 0.0), (4328, 0.26719628240100146), (4329, 0.0), (4330, 0.19845441739269654), (4331, 0.3320755897612702), (4332, 0.0), (4333, 0.2281555701130624), (4334, 0.15020700836181497), (4335, 0.0), (4336, 0.15034557489536654), (4337, 0.3320755897612702), (4338, 0.0), (4339, 0.2593019961667207), (4340, 0.19845441739269654), (4341, 0.0), (4342, 0.0), (4343, 0.4201513216048248), (4344, 0.38081784061305546), (4345, 0.13445539640916665), (4346, 0.0), (4347, 0.0), (4348, 0.4201513216048248), (4349, 0.4201513216048248), (4350, 0.2281555701130624), (4351, 0.0), (4352, 0.0), (4353, 0.0), (4354, 0.4201513216048248), (4355, 0.4201513216048248), (4356, 0.2736199937911261), (4357, 0.06643195438227342), (4358, 0.0), (4359, 0.4201513216048248), (4360, 0.3320755897612702), (4361, 0.4201513216048248), (4362, 0.7047857921491699), (4363, 0.4201513216048248), (4364, 0.0), (4365, 0.2113343685071608), (4366, 0.3320755897612702), (4367, 0.0), (4368, 0.1581017841542247), (4369, 0.2281555701130624), (4370, 0.0), (4371, 0.2736199937911261), (4372, 0.0), (4373, 0.0), (4374, 1.0000000000000002), (4375, 0.5658585333535687), (4376, 0.3925596102177653), (4377, 0.24554429453440887), (4378, 0.0), (4379, 0.687474775506141), (4380, 0.6521910775661488), (4381, 0.2281555701130624), (4382, 0.2736199937911261), (4383, 0.2593019961667207), (4384, 0.3925596102177653), (4385, 0.0), (4386, 0.4201513216048248), (4387, 1.0000000000000002), (4388, 0.0), (4389, 0.3320755897612702), (4390, 0.5463997708973266), (4391, 0.15020700836181497), (4392, 0.2835880475550035), (4393, 0.0), (4394, 0.14479358612098284), (4395, 0.2736199937911261), (4396, 0.4201513216048248), (4397, 0.4201513216048248), (4398, 0.4201513216048248), (4399, 0.4201513216048248), (4400, 0.16049306226978435), (4401, 0.13004738220141465), (4402, 0.7047857921491699), (4403, 0.7514869502857859), (4404, 0.0), (4405, 0.0), (4406, 0.0), (4407, 0.4201513216048248), (4408, 0.0), (4409, 0.4201513216048248), (4410, 0.0), (4411, 0.2281555701130624), (4412, 0.472265187178681), (4413, 0.0), (4414, 0.0), (4415, 0.0), (4416, 0.4201513216048248), (4417, 0.0), (4418, 0.1714559154117276), (4419, 0.1363346886223104), (4420, 0.16202832381146182), (4421, 0.0), (4422, 0.1927986161492257), (4423, 0.4201513216048248), (4424, 0.0), (4425, 0.0), (4426, 0.2960935094772184), (4427, 0.4201513216048248), (4428, 0.22101774921932255), (4429, 0.1415664400575078), (4430, 0.5413794213254587), (4431, 0.7047857921491699), (4432, 0.5413794213254587), (4433, 0.0), (4434, 0.0), (4435, 0.6714913379551536), (4436, 0.7617629619652846), (4437, 0.0), (4438, 0.37164256214129804), (4439, 0.0), (4440, 0.4824765370565067), (4441, 0.3320755897612702), (4442, 0.5869094529580564), (4443, 0.5413794213254587), (4444, 0.5413794213254587), (4445, 0.15034557489536654), (4446, 0.14479358612098284), (4447, 0.0), (4448, 0.1387653127678244), (4449, 0.0), (4450, 0.7617629619652846), (4451, 0.0), (4452, 0.0), (4453, 0.0), (4454, 0.0), (4455, 0.0), (4456, 0.0), (4457, 0.0), (4458, 0.2281555701130624), (4459, 0.0), (4460, 0.0), (4461, 0.4201513216048248), (4462, 0.3925596102177653), (4463, 0.0), (4464, 0.3065591246793501), (4465, 0.8245023470136082), (4466, 0.22719669197542222), (4467, 0.0), (4468, 0.2593019961667207), (4469, 0.8245023470136082), (4470, 0.7047857921491699), (4471, 0.13572728802261472), (4472, 0.15020700836181497), (4473, 0.14479358612098284), (4474, 1.0000000000000002), (4475, 1.0000000000000002), (4476, 0.4201513216048248), (4477, 0.6714913379551536), (4478, 0.0), (4479, 0.2281555701130624), (4480, 0.0), (4481, 0.7617629619652846), (4482, 0.0), (4483, 0.0), (4484, 0.2736199937911261), (4485, 0.0), (4486, 0.4824765370565067), (4487, 0.1127493189791886), (4488, 0.3320755897612702), (4489, 0.16202832381146182), (4490, 0.34722636712465005), (4491, 0.0), (4492, 0.0), (4493, 0.0), (4494, 0.44120966393682026), (4495, 0.4201513216048248), (4496, 0.0), (4497, 0.4201513216048248), (4498, 0.0), (4499, 0.0), (4500, 0.0), (4501, 0.15772520913358157), (4502, 0.394755474476877), (4503, 0.687474775506141), (4504, 0.16049306226978435), (4505, 0.4201513216048248), (4506, 0.0), (4507, 0.2736199937911261), (4508, 0.0), (4509, 0.0), (4510, 0.907454057764755), (4511, 0.1581017841542247), (4512, 0.907454057764755), (4513, 0.3320755897612702), (4514, 0.3231173127500522), (4515, 0.5658585333535687), (4516, 0.1265397328856081), (4517, 0.472265187178681), (4518, 0.3320755897612702), (4519, 0.0), (4520, 0.16049306226978435), (4521, 0.11366692118716612), (4522, 0.5788306023645081), (4523, 0.3158555011741572), (4524, 0.5658585333535687), (4525, 0.0), (4526, 0.0), (4527, 0.3320755897612702), (4528, 0.15034557489536654), (4529, 0.4201513216048248), (4530, 0.2736199937911261), (4531, 1.0000000000000002), (4532, 0.0), (4533, 0.5074630885099912), (4534, 0.2835880475550035), (4535, 0.13004738220141465), (4536, 0.15085130174813394), (4537, 0.2960935094772184), (4538, 0.0), (4539, 0.0), (4540, 0.4201513216048248), (4541, 0.0), (4542, 0.0), (4543, 0.7617629619652846), (4544, 0.4201513216048248), (4545, 0.4201513216048248), (4546, 0.38081784061305546), (4547, 0.0), (4548, 0.3320755897612702), (4549, 0.0), (4550, 0.1780441361005807), (4551, 0.5644388622118346), (4552, 0.2345947894913162), (4553, 0.7617629619652846), (4554, 0.7514869502857859), (4555, 0.13208856850650857), (4556, 0.0), (4557, 0.33040128349143677), (4558, 0.0), (4559, 0.0), (4560, 0.0), (4561, 0.0), (4562, 0.0), (4563, 0.16049306226978435), (4564, 0.0), (4565, 0.0), (4566, 0.15529550115732185), (4567, 0.4201513216048248), (4568, 0.0), (4569, 0.0), (4570, 0.0), (4571, 0.2736199937911261), (4572, 0.4201513216048248), (4573, 0.2444150400336092), (4574, 0.4201513216048248), (4575, 0.2281555701130624), (4576, 0.7047857921491699), (4577, 0.0), (4578, 0.0), (4579, 0.7047857921491699), (4580, 0.0), (4581, 0.2809935873667367), (4582, 0.3320755897612702), (4583, 0.0), (4584, 0.4201513216048248), (4585, 0.3320755897612702), (4586, 0.23431413617655686), (4587, 0.5658585333535687), (4588, 0.0), (4589, 0.1780441361005807), (4590, 0.2831639157827057), (4591, 0.36274597594297037), (4592, 0.0), (4593, 0.3625610983349477), (4594, 0.13665113058974965), (4595, 0.3320755897612702), (4596, 0.0), (4597, 0.0), (4598, 0.4201513216048248), (4599, 0.0), (4600, 0.0), (4601, 0.5658585333535687), (4602, 0.4201513216048248), (4603, 0.14479358612098284), (4604, 0.19845441739269654), (4605, 0.2281555701130624), (4606, 0.2444150400336092), (4607, 0.19910530997925002), (4608, 0.2444150400336092), (4609, 0.0), (4610, 0.7089370216032753), (4611, 0.18925467779751348), (4612, 0.7047857921491699), (4613, 0.0), (4614, 0.3625610983349477), (4615, 0.0), (4616, 0.4201513216048248), (4617, 0.8245023470136082), (4618, 0.0), (4619, 0.6714913379551536), (4620, 0.4201513216048248), (4621, 0.3320755897612702), (4622, 0.0), (4623, 0.6878993572639702), (4624, 0.4015784547713934), (4625, 0.2281555701130624), (4626, 0.10554800661990328), (4627, 0.2736199937911261), (4628, 0.0), (4629, 0.2831639157827057), (4630, 0.2835880475550035), (4631, 0.0), (4632, 0.2281555701130624), (4633, 0.2736199937911261), (4634, 0.4201513216048248), (4635, 0.0), (4636, 0.14662368428624792), (4637, 0.7514869502857859), (4638, 0.15020700836181497), (4639, 0.24554429453440887), (4640, 0.16049306226978435), (4641, 0.4201513216048248), (4642, 0.26719628240100146), (4643, 0.12030768867965337), (4644, 0.0), (4645, 0.0), (4646, 0.2835880475550035), (4647, 0.0), (4648, 0.0), (4649, 0.2444150400336092), (4650, 0.2736199937911261), (4651, 0.0), (4652, 0.1927986161492257), (4653, 0.3925596102177653), (4654, 0.0), (4655, 0.0), (4656, 0.5463997708973266), (4657, 0.2281555701130624), (4658, 1.0000000000000002), (4659, 0.0), (4660, 0.38081784061305546), (4661, 0.5413794213254587), (4662, 0.0), (4663, 0.382036113104973), (4664, 0.3065591246793501), (4665, 0.3320755897612702), (4666, 0.3925596102177653), (4667, 0.0), (4668, 0.14147944497382994), (4669, 1.0000000000000002), (4670, 0.38081784061305546), (4671, 0.0), (4672, 0.0), (4673, 0.8622265148955368), (4674, 0.472265187178681), (4675, 0.0), (4676, 0.0), (4677, 0.38081784061305546), (4678, 0.5658585333535687), (4679, 1.0000000000000002), (4680, 0.4201513216048248), (4681, 0.0), (4682, 0.0), (4683, 0.0), (4684, 0.7617629619652846), (4685, 0.4201513216048248), (4686, 0.4201513216048248), (4687, 0.4201513216048248), (4688, 0.0), (4689, 0.5658585333535687), (4690, 0.0), (4691, 0.3065591246793501), (4692, 0.4201513216048248), (4693, 0.4201513216048248), (4694, 0.4201513216048248), (4695, 0.3320755897612702), (4696, 0.4201513216048248), (4697, 0.21917041055208134), (4698, 0.2835880475550035), (4699, 0.3625610983349477), (4700, 0.0), (4701, 0.3625610983349477), (4702, 0.0), (4703, 0.3016556598097263), (4704, 0.13572728802261472), (4705, 0.2444150400336092), (4706, 0.2736199937911261), (4707, 0.7094201767532887), (4708, 0.2835880475550035), (4709, 0.7617629619652846), (4710, 0.7047857921491699), (4711, 0.0), (4712, 0.2281555701130624), (4713, 0.13818632521419028), (4714, 0.0), (4715, 0.7047857921491699), (4716, 0.0), (4717, 0.14479358612098284), (4718, 0.16025860505997272), (4719, 0.1927986161492257), (4720, 0.0), (4721, 0.2775780177195584), (4722, 0.8245023470136082), (4723, 0.1415664400575078), (4724, 1.0000000000000002), (4725, 0.0), (4726, 0.0), (4727, 0.5463997708973266), (4728, 0.0), (4729, 0.4201513216048248), (4730, 0.0), (4731, 0.7047857921491699), (4732, 0.4201513216048248), (4733, 0.36274597594297037), (4734, 0.2736199937911261), (4735, 1.0000000000000002), (4736, 0.0), (4737, 0.0), (4738, 0.0), (4739, 0.6714913379551536), (4740, 0.0), (4741, 0.0), (4742, 0.0), (4743, 0.2444150400336092), (4744, 0.2736199937911261), (4745, 0.0), (4746, 0.2960935094772184), (4747, 0.7617629619652846), (4748, 0.4201513216048248), (4749, 0.4201513216048248), (4750, 0.0), (4751, 0.0), (4752, 0.10631497067989275), (4753, 0.4201513216048248), (4754, 0.0), (4755, 0.0), (4756, 0.17385933927873132), (4757, 0.7047857921491699), (4758, 0.0), (4759, 0.0)]\n"
     ]
    }
   ],
   "source": [
    "print(Recommendation_Score)"
   ]
  },
  {
   "cell_type": "code",
   "execution_count": 40,
   "id": "65952699",
   "metadata": {},
   "outputs": [
    {
     "data": {
      "text/plain": [
       "4760"
      ]
     },
     "execution_count": 40,
     "metadata": {},
     "output_type": "execute_result"
    }
   ],
   "source": [
    "len(Recommendation_Score)"
   ]
  },
  {
   "cell_type": "markdown",
   "id": "c2405566",
   "metadata": {},
   "source": [
    "# Get All Movies Sort Based on Recommendation Score wrt Favourite Movie"
   ]
  },
  {
   "cell_type": "code",
   "execution_count": 41,
   "id": "ca7a4fd7",
   "metadata": {},
   "outputs": [],
   "source": [
    "Sorted_Simillar_Movies = sorted(Recommendation_Score,key = lambda x:x[1],reverse = True)"
   ]
  },
  {
   "cell_type": "code",
   "execution_count": 46,
   "id": "e27b1132",
   "metadata": {},
   "outputs": [
    {
     "name": "stdout",
     "output_type": "stream",
     "text": [
      "Top 30 Movie suggested for you...\n",
      "\n",
      "1 , A History of Violence\n",
      "2 , Absolute Power\n",
      "3 , The Godfather: Part III\n",
      "4 , The Silence of the Lambs\n",
      "5 , Brother\n",
      "6 , Inside Man\n",
      "7 , Maria Full of Grace\n",
      "8 , 21 Grams\n",
      "9 , The Usual Suspects\n",
      "10 , Sleepers\n",
      "11 , The Talented Mr. Ripley\n",
      "12 , Hannibal Rising\n",
      "13 , American Psycho\n",
      "14 , The Departed\n",
      "15 , Collateral\n",
      "16 , A Time to Kill\n",
      "17 , Lord of War\n",
      "18 , Traffic\n",
      "19 , We Own the Night\n",
      "20 , Out of Time\n",
      "21 , Dirty Pretty Things\n",
      "22 , Road to Perdition\n",
      "23 , The Devil's Own\n",
      "24 , Panic Room\n",
      "25 , Layer Cake\n",
      "26 , The International\n",
      "27 , The Good Thief\n",
      "28 , No Country for Old Men\n",
      "29 , John Q\n",
      "30 , Albino Alligator\n"
     ]
    }
   ],
   "source": [
    "#print the name of simillar movie based on index\n",
    "print('Top 30 Movie suggested for you...\\n')\n",
    "i = 1\n",
    "for movie in Sorted_Simillar_Movies:\n",
    "    index = movie[0]\n",
    "    title_from_index = df[df.index==index]['Movie_Title'].values[0]\n",
    "    if (i<31):\n",
    "        print(i,',',title_from_index)\n",
    "        i+=1"
   ]
  },
  {
   "cell_type": "code",
   "execution_count": null,
   "id": "3ab3786d",
   "metadata": {},
   "outputs": [],
   "source": []
  }
 ],
 "metadata": {
  "kernelspec": {
   "display_name": "Python 3",
   "language": "python",
   "name": "python3"
  },
  "language_info": {
   "codemirror_mode": {
    "name": "ipython",
    "version": 3
   },
   "file_extension": ".py",
   "mimetype": "text/x-python",
   "name": "python",
   "nbconvert_exporter": "python",
   "pygments_lexer": "ipython3",
   "version": "3.8.8"
  }
 },
 "nbformat": 4,
 "nbformat_minor": 5
}
