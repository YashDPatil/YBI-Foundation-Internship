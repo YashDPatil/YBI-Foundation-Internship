{
 "cells": [
  {
   "cell_type": "code",
   "execution_count": 1,
   "id": "ea7db905",
   "metadata": {},
   "outputs": [],
   "source": [
    "import pandas as pd\n",
    "import numpy as np\n",
    "import matplotlib.pyplot as plt"
   ]
  },
  {
   "cell_type": "code",
   "execution_count": 2,
   "id": "aace3ccd",
   "metadata": {},
   "outputs": [
    {
     "data": {
      "text/html": [
       "<div>\n",
       "<style scoped>\n",
       "    .dataframe tbody tr th:only-of-type {\n",
       "        vertical-align: middle;\n",
       "    }\n",
       "\n",
       "    .dataframe tbody tr th {\n",
       "        vertical-align: top;\n",
       "    }\n",
       "\n",
       "    .dataframe thead th {\n",
       "        text-align: right;\n",
       "    }\n",
       "</style>\n",
       "<table border=\"1\" class=\"dataframe\">\n",
       "  <thead>\n",
       "    <tr style=\"text-align: right;\">\n",
       "      <th></th>\n",
       "      <th>Brand</th>\n",
       "      <th>Model</th>\n",
       "      <th>Selling_Price</th>\n",
       "      <th>Year</th>\n",
       "      <th>Seller_Type</th>\n",
       "      <th>Owner</th>\n",
       "      <th>KM_Driven</th>\n",
       "      <th>Ex_Showroom_Price</th>\n",
       "    </tr>\n",
       "  </thead>\n",
       "  <tbody>\n",
       "    <tr>\n",
       "      <th>0</th>\n",
       "      <td>TVS</td>\n",
       "      <td>TVS XL 100</td>\n",
       "      <td>30000</td>\n",
       "      <td>2017</td>\n",
       "      <td>Individual</td>\n",
       "      <td>1st owner</td>\n",
       "      <td>8000</td>\n",
       "      <td>30490.0</td>\n",
       "    </tr>\n",
       "    <tr>\n",
       "      <th>1</th>\n",
       "      <td>Bajaj</td>\n",
       "      <td>Bajaj  ct 100</td>\n",
       "      <td>18000</td>\n",
       "      <td>2017</td>\n",
       "      <td>Individual</td>\n",
       "      <td>1st owner</td>\n",
       "      <td>35000</td>\n",
       "      <td>32000.0</td>\n",
       "    </tr>\n",
       "    <tr>\n",
       "      <th>2</th>\n",
       "      <td>Yo</td>\n",
       "      <td>Yo Style</td>\n",
       "      <td>20000</td>\n",
       "      <td>2011</td>\n",
       "      <td>Individual</td>\n",
       "      <td>1st owner</td>\n",
       "      <td>10000</td>\n",
       "      <td>37675.0</td>\n",
       "    </tr>\n",
       "    <tr>\n",
       "      <th>3</th>\n",
       "      <td>Bajaj</td>\n",
       "      <td>Bajaj Discover 100</td>\n",
       "      <td>25000</td>\n",
       "      <td>2010</td>\n",
       "      <td>Individual</td>\n",
       "      <td>1st owner</td>\n",
       "      <td>43000</td>\n",
       "      <td>42859.0</td>\n",
       "    </tr>\n",
       "    <tr>\n",
       "      <th>4</th>\n",
       "      <td>Bajaj</td>\n",
       "      <td>Bajaj Discover 100</td>\n",
       "      <td>24999</td>\n",
       "      <td>2012</td>\n",
       "      <td>Individual</td>\n",
       "      <td>2nd owner</td>\n",
       "      <td>35000</td>\n",
       "      <td>42859.0</td>\n",
       "    </tr>\n",
       "  </tbody>\n",
       "</table>\n",
       "</div>"
      ],
      "text/plain": [
       "   Brand               Model  Selling_Price  Year Seller_Type      Owner  \\\n",
       "0    TVS          TVS XL 100          30000  2017  Individual  1st owner   \n",
       "1  Bajaj       Bajaj  ct 100          18000  2017  Individual  1st owner   \n",
       "2     Yo            Yo Style          20000  2011  Individual  1st owner   \n",
       "3  Bajaj  Bajaj Discover 100          25000  2010  Individual  1st owner   \n",
       "4  Bajaj  Bajaj Discover 100          24999  2012  Individual  2nd owner   \n",
       "\n",
       "   KM_Driven  Ex_Showroom_Price  \n",
       "0       8000            30490.0  \n",
       "1      35000            32000.0  \n",
       "2      10000            37675.0  \n",
       "3      43000            42859.0  \n",
       "4      35000            42859.0  "
      ]
     },
     "execution_count": 2,
     "metadata": {},
     "output_type": "execute_result"
    }
   ],
   "source": [
    "df=pd.read_csv('Bike Prices.csv')\n",
    "df.head()"
   ]
  },
  {
   "cell_type": "code",
   "execution_count": 3,
   "id": "17d69efd",
   "metadata": {},
   "outputs": [
    {
     "name": "stdout",
     "output_type": "stream",
     "text": [
      "<class 'pandas.core.frame.DataFrame'>\n",
      "RangeIndex: 1061 entries, 0 to 1060\n",
      "Data columns (total 8 columns):\n",
      " #   Column             Non-Null Count  Dtype  \n",
      "---  ------             --------------  -----  \n",
      " 0   Brand              1061 non-null   object \n",
      " 1   Model              1061 non-null   object \n",
      " 2   Selling_Price      1061 non-null   int64  \n",
      " 3   Year               1061 non-null   int64  \n",
      " 4   Seller_Type        1061 non-null   object \n",
      " 5   Owner              1061 non-null   object \n",
      " 6   KM_Driven          1061 non-null   int64  \n",
      " 7   Ex_Showroom_Price  626 non-null    float64\n",
      "dtypes: float64(1), int64(3), object(4)\n",
      "memory usage: 66.4+ KB\n"
     ]
    }
   ],
   "source": [
    "df.info()"
   ]
  },
  {
   "cell_type": "code",
   "execution_count": 4,
   "id": "c7d1b08e",
   "metadata": {},
   "outputs": [],
   "source": [
    "df=df.dropna()"
   ]
  },
  {
   "cell_type": "code",
   "execution_count": 5,
   "id": "1e8e595c",
   "metadata": {},
   "outputs": [
    {
     "data": {
      "text/html": [
       "<div>\n",
       "<style scoped>\n",
       "    .dataframe tbody tr th:only-of-type {\n",
       "        vertical-align: middle;\n",
       "    }\n",
       "\n",
       "    .dataframe tbody tr th {\n",
       "        vertical-align: top;\n",
       "    }\n",
       "\n",
       "    .dataframe thead th {\n",
       "        text-align: right;\n",
       "    }\n",
       "</style>\n",
       "<table border=\"1\" class=\"dataframe\">\n",
       "  <thead>\n",
       "    <tr style=\"text-align: right;\">\n",
       "      <th></th>\n",
       "      <th>Brand</th>\n",
       "      <th>Model</th>\n",
       "      <th>Selling_Price</th>\n",
       "      <th>Year</th>\n",
       "      <th>Seller_Type</th>\n",
       "      <th>Owner</th>\n",
       "      <th>KM_Driven</th>\n",
       "      <th>Ex_Showroom_Price</th>\n",
       "    </tr>\n",
       "  </thead>\n",
       "  <tbody>\n",
       "    <tr>\n",
       "      <th>0</th>\n",
       "      <td>TVS</td>\n",
       "      <td>TVS XL 100</td>\n",
       "      <td>30000</td>\n",
       "      <td>2017</td>\n",
       "      <td>Individual</td>\n",
       "      <td>1st owner</td>\n",
       "      <td>8000</td>\n",
       "      <td>30490.0</td>\n",
       "    </tr>\n",
       "    <tr>\n",
       "      <th>1</th>\n",
       "      <td>Bajaj</td>\n",
       "      <td>Bajaj  ct 100</td>\n",
       "      <td>18000</td>\n",
       "      <td>2017</td>\n",
       "      <td>Individual</td>\n",
       "      <td>1st owner</td>\n",
       "      <td>35000</td>\n",
       "      <td>32000.0</td>\n",
       "    </tr>\n",
       "    <tr>\n",
       "      <th>2</th>\n",
       "      <td>Yo</td>\n",
       "      <td>Yo Style</td>\n",
       "      <td>20000</td>\n",
       "      <td>2011</td>\n",
       "      <td>Individual</td>\n",
       "      <td>1st owner</td>\n",
       "      <td>10000</td>\n",
       "      <td>37675.0</td>\n",
       "    </tr>\n",
       "    <tr>\n",
       "      <th>3</th>\n",
       "      <td>Bajaj</td>\n",
       "      <td>Bajaj Discover 100</td>\n",
       "      <td>25000</td>\n",
       "      <td>2010</td>\n",
       "      <td>Individual</td>\n",
       "      <td>1st owner</td>\n",
       "      <td>43000</td>\n",
       "      <td>42859.0</td>\n",
       "    </tr>\n",
       "    <tr>\n",
       "      <th>4</th>\n",
       "      <td>Bajaj</td>\n",
       "      <td>Bajaj Discover 100</td>\n",
       "      <td>24999</td>\n",
       "      <td>2012</td>\n",
       "      <td>Individual</td>\n",
       "      <td>2nd owner</td>\n",
       "      <td>35000</td>\n",
       "      <td>42859.0</td>\n",
       "    </tr>\n",
       "    <tr>\n",
       "      <th>...</th>\n",
       "      <td>...</td>\n",
       "      <td>...</td>\n",
       "      <td>...</td>\n",
       "      <td>...</td>\n",
       "      <td>...</td>\n",
       "      <td>...</td>\n",
       "      <td>...</td>\n",
       "      <td>...</td>\n",
       "    </tr>\n",
       "    <tr>\n",
       "      <th>621</th>\n",
       "      <td>Harley</td>\n",
       "      <td>Harley-Davidson Street 750</td>\n",
       "      <td>330000</td>\n",
       "      <td>2014</td>\n",
       "      <td>Individual</td>\n",
       "      <td>4th owner</td>\n",
       "      <td>6500</td>\n",
       "      <td>534000.0</td>\n",
       "    </tr>\n",
       "    <tr>\n",
       "      <th>622</th>\n",
       "      <td>Kawasaki</td>\n",
       "      <td>Kawasaki Ninja 650 [2018-2019]</td>\n",
       "      <td>300000</td>\n",
       "      <td>2011</td>\n",
       "      <td>Individual</td>\n",
       "      <td>1st owner</td>\n",
       "      <td>12000</td>\n",
       "      <td>589000.0</td>\n",
       "    </tr>\n",
       "    <tr>\n",
       "      <th>623</th>\n",
       "      <td>Kawasaki</td>\n",
       "      <td>Kawasaki Ninja 650 [2018-2019]</td>\n",
       "      <td>425000</td>\n",
       "      <td>2017</td>\n",
       "      <td>Individual</td>\n",
       "      <td>2nd owner</td>\n",
       "      <td>13600</td>\n",
       "      <td>599000.0</td>\n",
       "    </tr>\n",
       "    <tr>\n",
       "      <th>624</th>\n",
       "      <td>Suzuki</td>\n",
       "      <td>Suzuki GSX S750</td>\n",
       "      <td>760000</td>\n",
       "      <td>2019</td>\n",
       "      <td>Individual</td>\n",
       "      <td>1st owner</td>\n",
       "      <td>2800</td>\n",
       "      <td>752020.0</td>\n",
       "    </tr>\n",
       "    <tr>\n",
       "      <th>625</th>\n",
       "      <td>Harley</td>\n",
       "      <td>Harley-Davidson Street Bob</td>\n",
       "      <td>750000</td>\n",
       "      <td>2013</td>\n",
       "      <td>Individual</td>\n",
       "      <td>2nd owner</td>\n",
       "      <td>12000</td>\n",
       "      <td>1278000.0</td>\n",
       "    </tr>\n",
       "  </tbody>\n",
       "</table>\n",
       "<p>626 rows × 8 columns</p>\n",
       "</div>"
      ],
      "text/plain": [
       "        Brand                           Model  Selling_Price  Year  \\\n",
       "0         TVS                      TVS XL 100          30000  2017   \n",
       "1       Bajaj                   Bajaj  ct 100          18000  2017   \n",
       "2          Yo                        Yo Style          20000  2011   \n",
       "3       Bajaj              Bajaj Discover 100          25000  2010   \n",
       "4       Bajaj              Bajaj Discover 100          24999  2012   \n",
       "..        ...                             ...            ...   ...   \n",
       "621    Harley      Harley-Davidson Street 750         330000  2014   \n",
       "622  Kawasaki  Kawasaki Ninja 650 [2018-2019]         300000  2011   \n",
       "623  Kawasaki  Kawasaki Ninja 650 [2018-2019]         425000  2017   \n",
       "624    Suzuki                 Suzuki GSX S750         760000  2019   \n",
       "625    Harley      Harley-Davidson Street Bob         750000  2013   \n",
       "\n",
       "    Seller_Type      Owner  KM_Driven  Ex_Showroom_Price  \n",
       "0    Individual  1st owner       8000            30490.0  \n",
       "1    Individual  1st owner      35000            32000.0  \n",
       "2    Individual  1st owner      10000            37675.0  \n",
       "3    Individual  1st owner      43000            42859.0  \n",
       "4    Individual  2nd owner      35000            42859.0  \n",
       "..          ...        ...        ...                ...  \n",
       "621  Individual  4th owner       6500           534000.0  \n",
       "622  Individual  1st owner      12000           589000.0  \n",
       "623  Individual  2nd owner      13600           599000.0  \n",
       "624  Individual  1st owner       2800           752020.0  \n",
       "625  Individual  2nd owner      12000          1278000.0  \n",
       "\n",
       "[626 rows x 8 columns]"
      ]
     },
     "execution_count": 5,
     "metadata": {},
     "output_type": "execute_result"
    }
   ],
   "source": [
    "df"
   ]
  },
  {
   "cell_type": "markdown",
   "id": "87d8fd5e",
   "metadata": {},
   "source": [
    "# Some Statstics"
   ]
  },
  {
   "cell_type": "code",
   "execution_count": 6,
   "id": "b080af03",
   "metadata": {},
   "outputs": [
    {
     "data": {
      "text/html": [
       "<div>\n",
       "<style scoped>\n",
       "    .dataframe tbody tr th:only-of-type {\n",
       "        vertical-align: middle;\n",
       "    }\n",
       "\n",
       "    .dataframe tbody tr th {\n",
       "        vertical-align: top;\n",
       "    }\n",
       "\n",
       "    .dataframe thead th {\n",
       "        text-align: right;\n",
       "    }\n",
       "</style>\n",
       "<table border=\"1\" class=\"dataframe\">\n",
       "  <thead>\n",
       "    <tr style=\"text-align: right;\">\n",
       "      <th></th>\n",
       "      <th>Selling_Price</th>\n",
       "      <th>Year</th>\n",
       "      <th>KM_Driven</th>\n",
       "      <th>Ex_Showroom_Price</th>\n",
       "    </tr>\n",
       "  </thead>\n",
       "  <tbody>\n",
       "    <tr>\n",
       "      <th>count</th>\n",
       "      <td>626.000000</td>\n",
       "      <td>626.000000</td>\n",
       "      <td>626.000000</td>\n",
       "      <td>6.260000e+02</td>\n",
       "    </tr>\n",
       "    <tr>\n",
       "      <th>mean</th>\n",
       "      <td>59445.164537</td>\n",
       "      <td>2014.800319</td>\n",
       "      <td>32671.576677</td>\n",
       "      <td>8.795871e+04</td>\n",
       "    </tr>\n",
       "    <tr>\n",
       "      <th>std</th>\n",
       "      <td>59904.350888</td>\n",
       "      <td>3.018885</td>\n",
       "      <td>45479.661039</td>\n",
       "      <td>7.749659e+04</td>\n",
       "    </tr>\n",
       "    <tr>\n",
       "      <th>min</th>\n",
       "      <td>6000.000000</td>\n",
       "      <td>2001.000000</td>\n",
       "      <td>380.000000</td>\n",
       "      <td>3.049000e+04</td>\n",
       "    </tr>\n",
       "    <tr>\n",
       "      <th>25%</th>\n",
       "      <td>30000.000000</td>\n",
       "      <td>2013.000000</td>\n",
       "      <td>13031.250000</td>\n",
       "      <td>5.485200e+04</td>\n",
       "    </tr>\n",
       "    <tr>\n",
       "      <th>50%</th>\n",
       "      <td>45000.000000</td>\n",
       "      <td>2015.000000</td>\n",
       "      <td>25000.000000</td>\n",
       "      <td>7.275250e+04</td>\n",
       "    </tr>\n",
       "    <tr>\n",
       "      <th>75%</th>\n",
       "      <td>65000.000000</td>\n",
       "      <td>2017.000000</td>\n",
       "      <td>40000.000000</td>\n",
       "      <td>8.703150e+04</td>\n",
       "    </tr>\n",
       "    <tr>\n",
       "      <th>max</th>\n",
       "      <td>760000.000000</td>\n",
       "      <td>2020.000000</td>\n",
       "      <td>585659.000000</td>\n",
       "      <td>1.278000e+06</td>\n",
       "    </tr>\n",
       "  </tbody>\n",
       "</table>\n",
       "</div>"
      ],
      "text/plain": [
       "       Selling_Price         Year      KM_Driven  Ex_Showroom_Price\n",
       "count     626.000000   626.000000     626.000000       6.260000e+02\n",
       "mean    59445.164537  2014.800319   32671.576677       8.795871e+04\n",
       "std     59904.350888     3.018885   45479.661039       7.749659e+04\n",
       "min      6000.000000  2001.000000     380.000000       3.049000e+04\n",
       "25%     30000.000000  2013.000000   13031.250000       5.485200e+04\n",
       "50%     45000.000000  2015.000000   25000.000000       7.275250e+04\n",
       "75%     65000.000000  2017.000000   40000.000000       8.703150e+04\n",
       "max    760000.000000  2020.000000  585659.000000       1.278000e+06"
      ]
     },
     "execution_count": 6,
     "metadata": {},
     "output_type": "execute_result"
    }
   ],
   "source": [
    "df.describe()\n"
   ]
  },
  {
   "cell_type": "markdown",
   "id": "a93c88e2",
   "metadata": {},
   "source": [
    "# Get Categories"
   ]
  },
  {
   "cell_type": "code",
   "execution_count": 7,
   "id": "0c568094",
   "metadata": {},
   "outputs": [
    {
     "data": {
      "text/plain": [
       "Brand   \n",
       "Honda       170\n",
       "Bajaj       143\n",
       "Hero        108\n",
       "Yamaha       94\n",
       "Royal        40\n",
       "TVS          23\n",
       "Suzuki       18\n",
       "KTM           6\n",
       "Mahindra      6\n",
       "Kawasaki      4\n",
       "UM            3\n",
       "Activa        3\n",
       "Harley        2\n",
       "Vespa         2\n",
       "BMW           1\n",
       "Hyosung       1\n",
       "Benelli       1\n",
       "Yo            1\n",
       "dtype: int64"
      ]
     },
     "execution_count": 7,
     "metadata": {},
     "output_type": "execute_result"
    }
   ],
   "source": [
    "df[['Brand']].value_counts()"
   ]
  },
  {
   "cell_type": "code",
   "execution_count": 8,
   "id": "411e9dfa",
   "metadata": {},
   "outputs": [
    {
     "data": {
      "text/plain": [
       "Model                                     \n",
       "Honda Activa [2000-2015]                      23\n",
       "Honda CB Hornet 160R                          22\n",
       "Bajaj Pulsar 180                              20\n",
       "Yamaha FZ S V 2.0                             16\n",
       "Bajaj Discover 125                            16\n",
       "                                              ..\n",
       "Royal Enfield Thunderbird 500                  1\n",
       "Royal Enfield Continental GT [2013 - 2018]     1\n",
       "Royal Enfield Classic Stealth Black            1\n",
       "Royal Enfield Classic Squadron Blue            1\n",
       "Yo Style                                       1\n",
       "Length: 183, dtype: int64"
      ]
     },
     "execution_count": 8,
     "metadata": {},
     "output_type": "execute_result"
    }
   ],
   "source": [
    "df[['Model']].value_counts()"
   ]
  },
  {
   "cell_type": "code",
   "execution_count": 9,
   "id": "bb9abafd",
   "metadata": {},
   "outputs": [
    {
     "data": {
      "text/plain": [
       "Seller_Type\n",
       "Individual     623\n",
       "Dealer           3\n",
       "dtype: int64"
      ]
     },
     "execution_count": 9,
     "metadata": {},
     "output_type": "execute_result"
    }
   ],
   "source": [
    "df[['Seller_Type']].value_counts()"
   ]
  },
  {
   "cell_type": "code",
   "execution_count": 10,
   "id": "b1cb6299",
   "metadata": {},
   "outputs": [
    {
     "data": {
      "text/plain": [
       "Owner    \n",
       "1st owner    556\n",
       "2nd owner     66\n",
       "3rd owner      3\n",
       "4th owner      1\n",
       "dtype: int64"
      ]
     },
     "execution_count": 10,
     "metadata": {},
     "output_type": "execute_result"
    }
   ],
   "source": [
    "df[['Owner']].value_counts()"
   ]
  },
  {
   "cell_type": "markdown",
   "id": "b23f4338",
   "metadata": {},
   "source": [
    "# Get Column Name¶"
   ]
  },
  {
   "cell_type": "code",
   "execution_count": 11,
   "id": "224a245e",
   "metadata": {},
   "outputs": [
    {
     "data": {
      "text/plain": [
       "Index(['Brand', 'Model', 'Selling_Price', 'Year', 'Seller_Type', 'Owner',\n",
       "       'KM_Driven', 'Ex_Showroom_Price'],\n",
       "      dtype='object')"
      ]
     },
     "execution_count": 11,
     "metadata": {},
     "output_type": "execute_result"
    }
   ],
   "source": [
    "df.columns\n"
   ]
  },
  {
   "cell_type": "code",
   "execution_count": 12,
   "id": "f3b56d97",
   "metadata": {},
   "outputs": [
    {
     "data": {
      "text/plain": [
       "(626, 8)"
      ]
     },
     "execution_count": 12,
     "metadata": {},
     "output_type": "execute_result"
    }
   ],
   "source": [
    "df.shape"
   ]
  },
  {
   "cell_type": "markdown",
   "id": "69f40482",
   "metadata": {},
   "source": [
    "# Get Encoding of Categorical Features"
   ]
  },
  {
   "cell_type": "code",
   "execution_count": 13,
   "id": "d4590b05",
   "metadata": {},
   "outputs": [],
   "source": [
    "df.replace({'Seller_Type':{'Individual' : 0,'Dealer':1,}},inplace=True)"
   ]
  },
  {
   "cell_type": "code",
   "execution_count": 14,
   "id": "839f15df",
   "metadata": {},
   "outputs": [],
   "source": [
    "df.replace({'Owner':{'1st owner':0,    '2nd owner' :1,    '3rd owner':2,      '4th owner':3 }},inplace=True)"
   ]
  },
  {
   "cell_type": "code",
   "execution_count": 15,
   "id": "7ae2c845",
   "metadata": {},
   "outputs": [
    {
     "data": {
      "text/html": [
       "<div>\n",
       "<style scoped>\n",
       "    .dataframe tbody tr th:only-of-type {\n",
       "        vertical-align: middle;\n",
       "    }\n",
       "\n",
       "    .dataframe tbody tr th {\n",
       "        vertical-align: top;\n",
       "    }\n",
       "\n",
       "    .dataframe thead th {\n",
       "        text-align: right;\n",
       "    }\n",
       "</style>\n",
       "<table border=\"1\" class=\"dataframe\">\n",
       "  <thead>\n",
       "    <tr style=\"text-align: right;\">\n",
       "      <th></th>\n",
       "      <th>Brand</th>\n",
       "      <th>Model</th>\n",
       "      <th>Selling_Price</th>\n",
       "      <th>Year</th>\n",
       "      <th>Seller_Type</th>\n",
       "      <th>Owner</th>\n",
       "      <th>KM_Driven</th>\n",
       "      <th>Ex_Showroom_Price</th>\n",
       "    </tr>\n",
       "  </thead>\n",
       "  <tbody>\n",
       "    <tr>\n",
       "      <th>0</th>\n",
       "      <td>TVS</td>\n",
       "      <td>TVS XL 100</td>\n",
       "      <td>30000</td>\n",
       "      <td>2017</td>\n",
       "      <td>0</td>\n",
       "      <td>0</td>\n",
       "      <td>8000</td>\n",
       "      <td>30490.0</td>\n",
       "    </tr>\n",
       "    <tr>\n",
       "      <th>1</th>\n",
       "      <td>Bajaj</td>\n",
       "      <td>Bajaj  ct 100</td>\n",
       "      <td>18000</td>\n",
       "      <td>2017</td>\n",
       "      <td>0</td>\n",
       "      <td>0</td>\n",
       "      <td>35000</td>\n",
       "      <td>32000.0</td>\n",
       "    </tr>\n",
       "    <tr>\n",
       "      <th>2</th>\n",
       "      <td>Yo</td>\n",
       "      <td>Yo Style</td>\n",
       "      <td>20000</td>\n",
       "      <td>2011</td>\n",
       "      <td>0</td>\n",
       "      <td>0</td>\n",
       "      <td>10000</td>\n",
       "      <td>37675.0</td>\n",
       "    </tr>\n",
       "    <tr>\n",
       "      <th>3</th>\n",
       "      <td>Bajaj</td>\n",
       "      <td>Bajaj Discover 100</td>\n",
       "      <td>25000</td>\n",
       "      <td>2010</td>\n",
       "      <td>0</td>\n",
       "      <td>0</td>\n",
       "      <td>43000</td>\n",
       "      <td>42859.0</td>\n",
       "    </tr>\n",
       "    <tr>\n",
       "      <th>4</th>\n",
       "      <td>Bajaj</td>\n",
       "      <td>Bajaj Discover 100</td>\n",
       "      <td>24999</td>\n",
       "      <td>2012</td>\n",
       "      <td>0</td>\n",
       "      <td>1</td>\n",
       "      <td>35000</td>\n",
       "      <td>42859.0</td>\n",
       "    </tr>\n",
       "    <tr>\n",
       "      <th>...</th>\n",
       "      <td>...</td>\n",
       "      <td>...</td>\n",
       "      <td>...</td>\n",
       "      <td>...</td>\n",
       "      <td>...</td>\n",
       "      <td>...</td>\n",
       "      <td>...</td>\n",
       "      <td>...</td>\n",
       "    </tr>\n",
       "    <tr>\n",
       "      <th>621</th>\n",
       "      <td>Harley</td>\n",
       "      <td>Harley-Davidson Street 750</td>\n",
       "      <td>330000</td>\n",
       "      <td>2014</td>\n",
       "      <td>0</td>\n",
       "      <td>3</td>\n",
       "      <td>6500</td>\n",
       "      <td>534000.0</td>\n",
       "    </tr>\n",
       "    <tr>\n",
       "      <th>622</th>\n",
       "      <td>Kawasaki</td>\n",
       "      <td>Kawasaki Ninja 650 [2018-2019]</td>\n",
       "      <td>300000</td>\n",
       "      <td>2011</td>\n",
       "      <td>0</td>\n",
       "      <td>0</td>\n",
       "      <td>12000</td>\n",
       "      <td>589000.0</td>\n",
       "    </tr>\n",
       "    <tr>\n",
       "      <th>623</th>\n",
       "      <td>Kawasaki</td>\n",
       "      <td>Kawasaki Ninja 650 [2018-2019]</td>\n",
       "      <td>425000</td>\n",
       "      <td>2017</td>\n",
       "      <td>0</td>\n",
       "      <td>1</td>\n",
       "      <td>13600</td>\n",
       "      <td>599000.0</td>\n",
       "    </tr>\n",
       "    <tr>\n",
       "      <th>624</th>\n",
       "      <td>Suzuki</td>\n",
       "      <td>Suzuki GSX S750</td>\n",
       "      <td>760000</td>\n",
       "      <td>2019</td>\n",
       "      <td>0</td>\n",
       "      <td>0</td>\n",
       "      <td>2800</td>\n",
       "      <td>752020.0</td>\n",
       "    </tr>\n",
       "    <tr>\n",
       "      <th>625</th>\n",
       "      <td>Harley</td>\n",
       "      <td>Harley-Davidson Street Bob</td>\n",
       "      <td>750000</td>\n",
       "      <td>2013</td>\n",
       "      <td>0</td>\n",
       "      <td>1</td>\n",
       "      <td>12000</td>\n",
       "      <td>1278000.0</td>\n",
       "    </tr>\n",
       "  </tbody>\n",
       "</table>\n",
       "<p>626 rows × 8 columns</p>\n",
       "</div>"
      ],
      "text/plain": [
       "        Brand                           Model  Selling_Price  Year  \\\n",
       "0         TVS                      TVS XL 100          30000  2017   \n",
       "1       Bajaj                   Bajaj  ct 100          18000  2017   \n",
       "2          Yo                        Yo Style          20000  2011   \n",
       "3       Bajaj              Bajaj Discover 100          25000  2010   \n",
       "4       Bajaj              Bajaj Discover 100          24999  2012   \n",
       "..        ...                             ...            ...   ...   \n",
       "621    Harley      Harley-Davidson Street 750         330000  2014   \n",
       "622  Kawasaki  Kawasaki Ninja 650 [2018-2019]         300000  2011   \n",
       "623  Kawasaki  Kawasaki Ninja 650 [2018-2019]         425000  2017   \n",
       "624    Suzuki                 Suzuki GSX S750         760000  2019   \n",
       "625    Harley      Harley-Davidson Street Bob         750000  2013   \n",
       "\n",
       "     Seller_Type  Owner  KM_Driven  Ex_Showroom_Price  \n",
       "0              0      0       8000            30490.0  \n",
       "1              0      0      35000            32000.0  \n",
       "2              0      0      10000            37675.0  \n",
       "3              0      0      43000            42859.0  \n",
       "4              0      1      35000            42859.0  \n",
       "..           ...    ...        ...                ...  \n",
       "621            0      3       6500           534000.0  \n",
       "622            0      0      12000           589000.0  \n",
       "623            0      1      13600           599000.0  \n",
       "624            0      0       2800           752020.0  \n",
       "625            0      1      12000          1278000.0  \n",
       "\n",
       "[626 rows x 8 columns]"
      ]
     },
     "execution_count": 15,
     "metadata": {},
     "output_type": "execute_result"
    }
   ],
   "source": [
    "df"
   ]
  },
  {
   "cell_type": "code",
   "execution_count": 16,
   "id": "259110b1",
   "metadata": {},
   "outputs": [],
   "source": [
    "#X= pd.get_dummies(X, columns = ['Seller_Type','Owner'],drop_first=True)"
   ]
  },
  {
   "cell_type": "markdown",
   "id": "8a9b5101",
   "metadata": {},
   "source": [
    "# Define Y & X"
   ]
  },
  {
   "cell_type": "code",
   "execution_count": 17,
   "id": "f123df33",
   "metadata": {},
   "outputs": [],
   "source": [
    "y= df['Selling_Price']"
   ]
  },
  {
   "cell_type": "code",
   "execution_count": 18,
   "id": "521f0ad5",
   "metadata": {},
   "outputs": [
    {
     "data": {
      "text/plain": [
       "(626,)"
      ]
     },
     "execution_count": 18,
     "metadata": {},
     "output_type": "execute_result"
    }
   ],
   "source": [
    "y.shape"
   ]
  },
  {
   "cell_type": "code",
   "execution_count": 19,
   "id": "03b8a02a",
   "metadata": {},
   "outputs": [
    {
     "data": {
      "text/plain": [
       "0       30000\n",
       "1       18000\n",
       "2       20000\n",
       "3       25000\n",
       "4       24999\n",
       "        ...  \n",
       "621    330000\n",
       "622    300000\n",
       "623    425000\n",
       "624    760000\n",
       "625    750000\n",
       "Name: Selling_Price, Length: 626, dtype: int64"
      ]
     },
     "execution_count": 19,
     "metadata": {},
     "output_type": "execute_result"
    }
   ],
   "source": [
    "y"
   ]
  },
  {
   "cell_type": "code",
   "execution_count": 20,
   "id": "c8727e9c",
   "metadata": {},
   "outputs": [],
   "source": [
    "X= df[['Year','Seller_Type','Owner','KM_Driven','Ex_Showroom_Price']]"
   ]
  },
  {
   "cell_type": "code",
   "execution_count": 21,
   "id": "97ea5eaf",
   "metadata": {},
   "outputs": [],
   "source": [
    "#X = df.drop(['Brand','Model','Selling_Price'],axis=1)"
   ]
  },
  {
   "cell_type": "code",
   "execution_count": 22,
   "id": "ca264d0e",
   "metadata": {},
   "outputs": [
    {
     "data": {
      "text/plain": [
       "(626, 5)"
      ]
     },
     "execution_count": 22,
     "metadata": {},
     "output_type": "execute_result"
    }
   ],
   "source": [
    "X.shape"
   ]
  },
  {
   "cell_type": "code",
   "execution_count": 23,
   "id": "7eb228dc",
   "metadata": {},
   "outputs": [
    {
     "data": {
      "text/html": [
       "<div>\n",
       "<style scoped>\n",
       "    .dataframe tbody tr th:only-of-type {\n",
       "        vertical-align: middle;\n",
       "    }\n",
       "\n",
       "    .dataframe tbody tr th {\n",
       "        vertical-align: top;\n",
       "    }\n",
       "\n",
       "    .dataframe thead th {\n",
       "        text-align: right;\n",
       "    }\n",
       "</style>\n",
       "<table border=\"1\" class=\"dataframe\">\n",
       "  <thead>\n",
       "    <tr style=\"text-align: right;\">\n",
       "      <th></th>\n",
       "      <th>Year</th>\n",
       "      <th>Seller_Type</th>\n",
       "      <th>Owner</th>\n",
       "      <th>KM_Driven</th>\n",
       "      <th>Ex_Showroom_Price</th>\n",
       "    </tr>\n",
       "  </thead>\n",
       "  <tbody>\n",
       "    <tr>\n",
       "      <th>0</th>\n",
       "      <td>2017</td>\n",
       "      <td>0</td>\n",
       "      <td>0</td>\n",
       "      <td>8000</td>\n",
       "      <td>30490.0</td>\n",
       "    </tr>\n",
       "    <tr>\n",
       "      <th>1</th>\n",
       "      <td>2017</td>\n",
       "      <td>0</td>\n",
       "      <td>0</td>\n",
       "      <td>35000</td>\n",
       "      <td>32000.0</td>\n",
       "    </tr>\n",
       "    <tr>\n",
       "      <th>2</th>\n",
       "      <td>2011</td>\n",
       "      <td>0</td>\n",
       "      <td>0</td>\n",
       "      <td>10000</td>\n",
       "      <td>37675.0</td>\n",
       "    </tr>\n",
       "    <tr>\n",
       "      <th>3</th>\n",
       "      <td>2010</td>\n",
       "      <td>0</td>\n",
       "      <td>0</td>\n",
       "      <td>43000</td>\n",
       "      <td>42859.0</td>\n",
       "    </tr>\n",
       "    <tr>\n",
       "      <th>4</th>\n",
       "      <td>2012</td>\n",
       "      <td>0</td>\n",
       "      <td>1</td>\n",
       "      <td>35000</td>\n",
       "      <td>42859.0</td>\n",
       "    </tr>\n",
       "    <tr>\n",
       "      <th>...</th>\n",
       "      <td>...</td>\n",
       "      <td>...</td>\n",
       "      <td>...</td>\n",
       "      <td>...</td>\n",
       "      <td>...</td>\n",
       "    </tr>\n",
       "    <tr>\n",
       "      <th>621</th>\n",
       "      <td>2014</td>\n",
       "      <td>0</td>\n",
       "      <td>3</td>\n",
       "      <td>6500</td>\n",
       "      <td>534000.0</td>\n",
       "    </tr>\n",
       "    <tr>\n",
       "      <th>622</th>\n",
       "      <td>2011</td>\n",
       "      <td>0</td>\n",
       "      <td>0</td>\n",
       "      <td>12000</td>\n",
       "      <td>589000.0</td>\n",
       "    </tr>\n",
       "    <tr>\n",
       "      <th>623</th>\n",
       "      <td>2017</td>\n",
       "      <td>0</td>\n",
       "      <td>1</td>\n",
       "      <td>13600</td>\n",
       "      <td>599000.0</td>\n",
       "    </tr>\n",
       "    <tr>\n",
       "      <th>624</th>\n",
       "      <td>2019</td>\n",
       "      <td>0</td>\n",
       "      <td>0</td>\n",
       "      <td>2800</td>\n",
       "      <td>752020.0</td>\n",
       "    </tr>\n",
       "    <tr>\n",
       "      <th>625</th>\n",
       "      <td>2013</td>\n",
       "      <td>0</td>\n",
       "      <td>1</td>\n",
       "      <td>12000</td>\n",
       "      <td>1278000.0</td>\n",
       "    </tr>\n",
       "  </tbody>\n",
       "</table>\n",
       "<p>626 rows × 5 columns</p>\n",
       "</div>"
      ],
      "text/plain": [
       "     Year  Seller_Type  Owner  KM_Driven  Ex_Showroom_Price\n",
       "0    2017            0      0       8000            30490.0\n",
       "1    2017            0      0      35000            32000.0\n",
       "2    2011            0      0      10000            37675.0\n",
       "3    2010            0      0      43000            42859.0\n",
       "4    2012            0      1      35000            42859.0\n",
       "..    ...          ...    ...        ...                ...\n",
       "621  2014            0      3       6500           534000.0\n",
       "622  2011            0      0      12000           589000.0\n",
       "623  2017            0      1      13600           599000.0\n",
       "624  2019            0      0       2800           752020.0\n",
       "625  2013            0      1      12000          1278000.0\n",
       "\n",
       "[626 rows x 5 columns]"
      ]
     },
     "execution_count": 23,
     "metadata": {},
     "output_type": "execute_result"
    }
   ],
   "source": [
    "X"
   ]
  },
  {
   "cell_type": "markdown",
   "id": "829b70b3",
   "metadata": {},
   "source": [
    "# Splitting & Training"
   ]
  },
  {
   "cell_type": "code",
   "execution_count": 24,
   "id": "092cb784",
   "metadata": {},
   "outputs": [],
   "source": [
    "from sklearn.model_selection import train_test_split"
   ]
  },
  {
   "cell_type": "code",
   "execution_count": 25,
   "id": "13c25eff",
   "metadata": {},
   "outputs": [],
   "source": [
    "X_train,X_test,y_train,y_test = train_test_split(X,y, train_size = 0.3,random_state=2529)"
   ]
  },
  {
   "cell_type": "code",
   "execution_count": 26,
   "id": "42f39577",
   "metadata": {},
   "outputs": [
    {
     "data": {
      "text/plain": [
       "((187, 5), (439, 5), (187,), (439,))"
      ]
     },
     "execution_count": 26,
     "metadata": {},
     "output_type": "execute_result"
    }
   ],
   "source": [
    "X_train.shape,X_test.shape,y_train.shape,y_test.shape"
   ]
  },
  {
   "cell_type": "markdown",
   "id": "1f1579fb",
   "metadata": {},
   "source": [
    "# Model train"
   ]
  },
  {
   "cell_type": "code",
   "execution_count": 27,
   "id": "5394c04d",
   "metadata": {},
   "outputs": [],
   "source": [
    "from sklearn.linear_model import LinearRegression"
   ]
  },
  {
   "cell_type": "code",
   "execution_count": 28,
   "id": "5421cdd2",
   "metadata": {},
   "outputs": [],
   "source": [
    "lr = LinearRegression()"
   ]
  },
  {
   "cell_type": "code",
   "execution_count": 29,
   "id": "e5ddf605",
   "metadata": {},
   "outputs": [
    {
     "data": {
      "text/plain": [
       "LinearRegression()"
      ]
     },
     "execution_count": 29,
     "metadata": {},
     "output_type": "execute_result"
    }
   ],
   "source": [
    "lr.fit(X_train,y_train)"
   ]
  },
  {
   "cell_type": "markdown",
   "id": "0f4d3026",
   "metadata": {},
   "source": [
    "# Prediction"
   ]
  },
  {
   "cell_type": "code",
   "execution_count": 30,
   "id": "366e8ea6",
   "metadata": {},
   "outputs": [],
   "source": [
    "y_pred = lr.predict(X_test)"
   ]
  },
  {
   "cell_type": "code",
   "execution_count": 31,
   "id": "4a42885e",
   "metadata": {},
   "outputs": [
    {
     "data": {
      "text/plain": [
       "array([ 28423.53484756,  58440.76260258,  65112.26808082,  55154.53526619,\n",
       "        57197.97280983,  55633.01001291,  35342.35797494,  73924.50256566,\n",
       "       116556.63734929,  79387.37935432,  28979.8796868 ,  47886.10618085,\n",
       "        67711.81317712,  27855.71801825,  49804.96003831, 131250.97364758,\n",
       "        71713.82672896,  41343.35663264,  37554.32826574,  47597.39526577,\n",
       "        49720.45090149,  46528.27347126,  56854.45189445,  73170.42707841,\n",
       "        94815.47630994,  50205.32625045,  58219.62598942, 110849.80931558,\n",
       "        30625.56339719,  25733.45634189,  14919.87151709, 181041.36601081,\n",
       "        46818.06011366,  33526.86518737,  66363.3650654 ,  43091.42501331,\n",
       "        58497.01489919,  49073.64434028,  76655.74066895,  25913.78375917,\n",
       "        57306.47763181,  42760.06312948,  69833.40728364,  23860.93688464,\n",
       "        92254.90620984,  47486.88041811, 137730.81959946, 110462.96584051,\n",
       "        73452.08814877,  26504.10751126,  81635.76990842,  66036.1163916 ,\n",
       "        30125.62106777,  55383.53344075, -10991.51218783,  72403.60894208,\n",
       "        35028.15611859,  52138.83393437,  68827.4748895 ,  61339.87756851,\n",
       "        23171.25497442,  15711.61114375,  38691.56101159,  32029.25279531,\n",
       "       110659.32080651,  20566.32172728,  55097.03466451,  61062.8445138 ,\n",
       "        61507.03710071,  47180.4324798 ,  27260.31826003,  64788.53245644,\n",
       "       247949.72763271,  63100.67345924,  58111.19252887,  49705.94470231,\n",
       "        53167.33704785,  92551.27787393,  16489.22317865, 115347.67498626,\n",
       "        36480.97607658,  28481.15339391,  32556.15466451, 128639.41361559,\n",
       "        29097.86663013, -10121.36279102,  16658.05119371,  77067.35067876,\n",
       "       515515.60619201, 126729.56868739,  76812.47658378,  52549.64241718,\n",
       "        45215.56043783,  26541.79512136,  31608.04713747,  48551.58782049,\n",
       "        29337.03624213,  30123.13326343,  33153.59549869,  30212.71720303,\n",
       "        49969.86342867,  67855.51780486,  14548.95927894,  13143.3606495 ,\n",
       "        33593.79519127, 113241.30025827,  69440.5960762 ,  24678.28543882,\n",
       "        54932.62085034,  32571.24371049,  57420.02137672,  64284.87748832,\n",
       "       397073.83078146,   1375.02843324,  37307.96696869,  72825.53597185,\n",
       "        74927.06104962, 140977.48703971,  28856.74663531, 139248.87291055,\n",
       "        40925.31341149,  59944.87439705,  44328.51796966,  63645.350423  ,\n",
       "        43961.55411535,  66001.74138053,  12172.73283169,  39975.79678576,\n",
       "       115628.97158556, 115053.58253666,  14927.08643776,  37796.12567237,\n",
       "        55728.80131932,  99946.22714198,  57132.04606979,  24218.43063007,\n",
       "       104209.29711298,  43398.95652276,  33383.15613589,  26143.43589349,\n",
       "        46340.48675874,  48994.95435861,  27663.44706426,  55778.53646599,\n",
       "        34240.67524018,  33402.48411924,  70121.35039054,  74470.58015106,\n",
       "        33115.91451846,  41918.47315073,  41471.39099688,  65054.78622973,\n",
       "        46079.1960408 , 124138.45283486,  62613.71419474,  64792.54320939,\n",
       "        62383.78679037,  28294.98884162,  27905.30213707,  50402.62163622,\n",
       "        63729.29137796,  28403.13132017, 104268.51956971, 136284.86705571,\n",
       "        38774.5163596 ,  70928.43157045,  42107.35924006,  -5724.77434015,\n",
       "        24305.16456611,  90737.87069002,  53775.88063814,  58248.16709474,\n",
       "        82584.40797195,  33490.94753416,  50987.00932603,  25466.83979255,\n",
       "        26951.55071045, 120551.1994646 ,  24852.30745436,  65543.38196402,\n",
       "        71945.07772915,  35048.16845615,  62527.4914181 ,  59962.10020179,\n",
       "        32700.76229466,  60676.75554434,  35562.5401446 ,  40236.04586658,\n",
       "        37716.08089378,  61555.977453  ,  58552.59256346,  63399.21323542,\n",
       "       128888.28557184, 120761.66219036, 117672.14270089,  35082.00716492,\n",
       "        98609.32420769, 137903.49323559,  62236.14465583,  94852.3584461 ,\n",
       "        66171.13757747,  14004.57552364,  35353.38698419,  19040.39278411,\n",
       "       131883.54330926,  10940.12302745,  71914.87588602,  94849.48435354,\n",
       "        28457.22065471,  46508.90208744,  36031.12902538,  57554.12358235,\n",
       "        63470.81345083,  53585.66183083,  17105.846165  ,  35884.82399885,\n",
       "        49158.95865988,  22930.83846526, 133351.24724957,  64244.75183997,\n",
       "        41528.87284797, 167436.05205693,   8682.07811831,  63826.51778339,\n",
       "       821574.22000102, 125597.52569721,  33201.29764041,  27212.22665115,\n",
       "       106653.84406197,  18685.96065995,  69947.03181015,  11027.10608046,\n",
       "        72785.22640636,  23529.48807164,  41528.87284797,  44529.97938045,\n",
       "       116326.70994491,  51651.72829535,  58573.84801046,  52006.83343053,\n",
       "        42728.10481243,  39328.75420412,  60450.16222887,  38166.37029929,\n",
       "        86904.01040992,  53730.03037538,  75477.20621655,  65512.97730896,\n",
       "        53596.78734574,  52916.24897257,  62034.29742156,  40353.08901116,\n",
       "        61834.48113392,  55362.15524203,  51201.62535119,  59006.41618138,\n",
       "        51086.96874919,  58996.03395969,  52881.91593152,  58818.19011689,\n",
       "       226639.99949811, 111094.10718273,  30452.22256399,  36277.10461654,\n",
       "        55068.29373896,  58751.54396018,  44562.11476159,  55435.69508325,\n",
       "        33334.63231139,  56824.39385875,  24075.56565703,  20129.82816093,\n",
       "        77468.31406755, 100990.34407607,  71914.87588602,  74411.06356545,\n",
       "        -2585.161807  ,  58257.12950336,  46532.88233694,  53855.45567567,\n",
       "        87763.47270467,  47209.61955689,  55362.84531277,  83791.67686424,\n",
       "        40478.93368529,  54575.19451853,  40067.28680083,  28652.38228415,\n",
       "        68953.01611742,  25181.0633953 ,  69660.96173036,  80579.03250255,\n",
       "        28968.50419307,  51782.45298743,  56180.58991431,  62176.4000569 ,\n",
       "        50057.49476292,  45085.17876175,  51452.30349286,  35998.69464434,\n",
       "        54085.68873908,  55318.3621479 ,  54981.53725511,  55762.86778785,\n",
       "        82268.25779094,  46828.72014961,  75376.61297713,  61970.35669026,\n",
       "        46937.00686822,  58197.41530551,  65958.62999221,  55765.34015654,\n",
       "        70564.85886229,  45054.52730793,  40196.67563217, 153842.16057948,\n",
       "        44956.89210791,  24178.55755974,  43054.87391117,  48027.20678911,\n",
       "        62874.4084534 ,  86517.6766918 ,  31929.3757391 ,  41183.98174141,\n",
       "        40520.31330973,  13166.21698036,  59911.76066903,  69259.10372934,\n",
       "        68239.07349798, 111889.6711449 , 116791.91056581,  50813.9299565 ,\n",
       "        33546.37266411,  55808.32965874,  70105.10690066,  29733.59628979,\n",
       "        82320.62375728,  59736.393569  ,  10444.11822022,  55542.53776107,\n",
       "        51708.68793342,  45549.42902081,  35902.58316365,  41825.70912702,\n",
       "        52417.10743814,  28792.03491021,  58691.97069019,  75041.92190469,\n",
       "        41959.98673118,  46192.64165871,  86840.78037372,  71125.29998394,\n",
       "        16111.85474871,  78710.61428685,  27857.05373478,  -5427.21031267,\n",
       "        62480.93226999,  47657.92284947,  51721.21941111, 101995.71318863,\n",
       "        51575.25738329,  60533.05091661,  23085.03219778, 254372.8196673 ,\n",
       "        51830.81333104,   9680.71586933,  24840.36103534,  66354.96453862,\n",
       "        34293.45281119,  81405.84250404,  29041.35107784, 116297.96901936,\n",
       "       120749.51185087,  24775.8554371 ,  43522.48581549,  52865.76489762,\n",
       "        21738.62232113,  33858.0739757 ,  36816.92742236,   8674.78347519,\n",
       "        44518.01738157,  46002.97785098, 103852.95107882, 130225.76860444,\n",
       "        76566.16490862,  27836.85372572,  45003.35143542,  47877.1508844 ,\n",
       "        68672.26667936,  62225.30434643,  54222.40769768,  14603.2632577 ,\n",
       "        55239.98114021,  44062.05979909,  22693.7646555 ,  52996.87963371,\n",
       "        52312.76958292,  -3937.28927392,  57366.24288721,  39514.66904478,\n",
       "       133595.54511672,  24477.09896   , 131854.80238371,  54897.81570142,\n",
       "       169691.43073627,  53276.83697035,  50868.05882391,  66147.21950319,\n",
       "        28526.28643718,  37969.00825627,   1716.89879896, 245646.29138651,\n",
       "       126427.07044601,  22503.39246321, 116614.11920038,  -6058.62431676,\n",
       "        14985.80370247,  54329.68094719,  49107.3607303 ,  87836.65885306,\n",
       "        51636.30383579, 123292.51611254, 129314.35454308,  63642.54048097,\n",
       "        36232.59029195,  20188.6802032 ,  62680.13447368,  65559.9515931 ,\n",
       "        53702.63242275,  33488.70689588,  54237.50385583, 113097.59563053,\n",
       "        61359.75792677,  85805.52646577,  53193.04059355,  42540.91764717,\n",
       "        32948.48207504,  23365.62022961,  39514.66904478])"
      ]
     },
     "execution_count": 31,
     "metadata": {},
     "output_type": "execute_result"
    }
   ],
   "source": [
    "y_pred"
   ]
  },
  {
   "cell_type": "markdown",
   "id": "961cb208",
   "metadata": {},
   "source": [
    "# Model Evaluation"
   ]
  },
  {
   "cell_type": "code",
   "execution_count": 32,
   "id": "63604228",
   "metadata": {},
   "outputs": [],
   "source": [
    "from sklearn.metrics import mean_absolute_error,mean_absolute_percentage_error,r2_score"
   ]
  },
  {
   "cell_type": "code",
   "execution_count": 33,
   "id": "581d7dcd",
   "metadata": {},
   "outputs": [
    {
     "data": {
      "text/plain": [
       "12156.05157097535"
      ]
     },
     "execution_count": 33,
     "metadata": {},
     "output_type": "execute_result"
    }
   ],
   "source": [
    "mean_absolute_error(y_test,y_pred)"
   ]
  },
  {
   "cell_type": "code",
   "execution_count": 34,
   "id": "a9432cb3",
   "metadata": {},
   "outputs": [
    {
     "data": {
      "text/plain": [
       "0.2606552272287737"
      ]
     },
     "execution_count": 34,
     "metadata": {},
     "output_type": "execute_result"
    }
   ],
   "source": [
    "mean_absolute_percentage_error(y_test,y_pred)"
   ]
  },
  {
   "cell_type": "code",
   "execution_count": 35,
   "id": "a6a29c19",
   "metadata": {},
   "outputs": [
    {
     "data": {
      "text/plain": [
       "0.9008159508780813"
      ]
     },
     "execution_count": 35,
     "metadata": {},
     "output_type": "execute_result"
    }
   ],
   "source": [
    "r2_score(y_test,y_pred)"
   ]
  },
  {
   "cell_type": "markdown",
   "id": "6c2622bf",
   "metadata": {},
   "source": [
    "# Visualize Actual vs Predicted"
   ]
  },
  {
   "cell_type": "code",
   "execution_count": 36,
   "id": "b9624457",
   "metadata": {},
   "outputs": [
    {
     "data": {
      "image/png": "[encoded data removed]",
      "text/plain": [
       "<Figure size 432x288 with 1 Axes>"
      ]
     },
     "metadata": {
      "needs_background": "light"
     },
     "output_type": "display_data"
    }
   ],
   "source": [
    "plt.scatter(y_test,y_pred)\n",
    "plt.xlabel(\"Actual Prices\")\n",
    "plt.ylabel(\"Predicted Prices\")\n",
    "plt.title(\"actual vs predicted\")\n",
    "plt.show()"
   ]
  },
  {
   "cell_type": "markdown",
   "id": "c29c71c3",
   "metadata": {},
   "source": [
    "# Future Prediction"
   ]
  },
  {
   "cell_type": "code",
   "execution_count": 37,
   "id": "e71af2db",
   "metadata": {},
   "outputs": [],
   "source": [
    "df_new =df.sample(1)"
   ]
  },
  {
   "cell_type": "code",
   "execution_count": 38,
   "id": "b82495f3",
   "metadata": {},
   "outputs": [
    {
     "data": {
      "text/html": [
       "<div>\n",
       "<style scoped>\n",
       "    .dataframe tbody tr th:only-of-type {\n",
       "        vertical-align: middle;\n",
       "    }\n",
       "\n",
       "    .dataframe tbody tr th {\n",
       "        vertical-align: top;\n",
       "    }\n",
       "\n",
       "    .dataframe thead th {\n",
       "        text-align: right;\n",
       "    }\n",
       "</style>\n",
       "<table border=\"1\" class=\"dataframe\">\n",
       "  <thead>\n",
       "    <tr style=\"text-align: right;\">\n",
       "      <th></th>\n",
       "      <th>Brand</th>\n",
       "      <th>Model</th>\n",
       "      <th>Selling_Price</th>\n",
       "      <th>Year</th>\n",
       "      <th>Seller_Type</th>\n",
       "      <th>Owner</th>\n",
       "      <th>KM_Driven</th>\n",
       "      <th>Ex_Showroom_Price</th>\n",
       "    </tr>\n",
       "  </thead>\n",
       "  <tbody>\n",
       "    <tr>\n",
       "      <th>292</th>\n",
       "      <td>Honda</td>\n",
       "      <td>Honda CB Shine SP</td>\n",
       "      <td>48000</td>\n",
       "      <td>2015</td>\n",
       "      <td>0</td>\n",
       "      <td>0</td>\n",
       "      <td>25000</td>\n",
       "      <td>67469.0</td>\n",
       "    </tr>\n",
       "  </tbody>\n",
       "</table>\n",
       "</div>"
      ],
      "text/plain": [
       "     Brand              Model  Selling_Price  Year  Seller_Type  Owner  \\\n",
       "292  Honda  Honda CB Shine SP          48000  2015            0      0   \n",
       "\n",
       "     KM_Driven  Ex_Showroom_Price  \n",
       "292      25000            67469.0  "
      ]
     },
     "execution_count": 38,
     "metadata": {},
     "output_type": "execute_result"
    }
   ],
   "source": [
    "df_new"
   ]
  },
  {
   "cell_type": "code",
   "execution_count": 39,
   "id": "65dcec0d",
   "metadata": {},
   "outputs": [
    {
     "data": {
      "text/plain": [
       "(1, 8)"
      ]
     },
     "execution_count": 39,
     "metadata": {},
     "output_type": "execute_result"
    }
   ],
   "source": [
    "df_new.shape"
   ]
  },
  {
   "cell_type": "code",
   "execution_count": 40,
   "id": "d5d2c1d2",
   "metadata": {},
   "outputs": [],
   "source": [
    "X_new = df_new.drop(['Brand','Model','Selling_Price'],axis=1)"
   ]
  },
  {
   "cell_type": "code",
   "execution_count": 41,
   "id": "c6762653",
   "metadata": {},
   "outputs": [],
   "source": [
    "y_pred_new = lr.predict(X_new)"
   ]
  },
  {
   "cell_type": "code",
   "execution_count": 42,
   "id": "081b0454",
   "metadata": {},
   "outputs": [
    {
     "data": {
      "text/plain": [
       "array([49720.45090149])"
      ]
     },
     "execution_count": 42,
     "metadata": {},
     "output_type": "execute_result"
    }
   ],
   "source": [
    "y_pred_new"
   ]
  }
 ],
 "metadata": {
  "kernelspec": {
   "display_name": "Python 3",
   "language": "python",
   "name": "python3"
  },
  "language_info": {
   "codemirror_mode": {
    "name": "ipython",
    "version": 3
   },
   "file_extension": ".py",
   "mimetype": "text/x-python",
   "name": "python",
   "nbconvert_exporter": "python",
   "pygments_lexer": "ipython3",
   "version": "3.8.8"
  }
 },
 "nbformat": 4,
 "nbformat_minor": 5
}
