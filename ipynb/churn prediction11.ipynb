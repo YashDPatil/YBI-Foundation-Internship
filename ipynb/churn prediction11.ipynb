{
 "cells": [
  {
   "cell_type": "markdown",
   "metadata": {},
   "source": [
    "# The problem statement is given in the word file."
   ]
  },
  {
   "cell_type": "code",
   "execution_count": 1,
   "metadata": {},
   "outputs": [],
   "source": [
    "import pandas as pd\n",
    "import numpy as np\n",
    "import matplotlib.pyplot as plt\n",
    "%matplotlib inline"
   ]
  },
  {
   "cell_type": "markdown",
   "metadata": {},
   "source": [
    "<b> Importing the dataset </b>"
   ]
  },
  {
   "cell_type": "code",
   "execution_count": 2,
   "metadata": {},
   "outputs": [
    {
     "data": {
      "text/html": [
       "<div>\n",
       "<style scoped>\n",
       "    .dataframe tbody tr th:only-of-type {\n",
       "        vertical-align: middle;\n",
       "    }\n",
       "\n",
       "    .dataframe tbody tr th {\n",
       "        vertical-align: top;\n",
       "    }\n",
       "\n",
       "    .dataframe thead th {\n",
       "        text-align: right;\n",
       "    }\n",
       "</style>\n",
       "<table border=\"1\" class=\"dataframe\">\n",
       "  <thead>\n",
       "    <tr style=\"text-align: right;\">\n",
       "      <th></th>\n",
       "      <th>customer_id</th>\n",
       "      <th>vintage</th>\n",
       "      <th>age</th>\n",
       "      <th>gender</th>\n",
       "      <th>dependents</th>\n",
       "      <th>occupation</th>\n",
       "      <th>city</th>\n",
       "      <th>customer_nw_category</th>\n",
       "      <th>branch_code</th>\n",
       "      <th>days_since_last_transaction</th>\n",
       "      <th>...</th>\n",
       "      <th>previous_month_end_balance</th>\n",
       "      <th>average_monthly_balance_prevQ</th>\n",
       "      <th>average_monthly_balance_prevQ2</th>\n",
       "      <th>current_month_credit</th>\n",
       "      <th>previous_month_credit</th>\n",
       "      <th>current_month_debit</th>\n",
       "      <th>previous_month_debit</th>\n",
       "      <th>current_month_balance</th>\n",
       "      <th>previous_month_balance</th>\n",
       "      <th>churn</th>\n",
       "    </tr>\n",
       "  </thead>\n",
       "  <tbody>\n",
       "    <tr>\n",
       "      <th>0</th>\n",
       "      <td>1</td>\n",
       "      <td>3135</td>\n",
       "      <td>66</td>\n",
       "      <td>Male</td>\n",
       "      <td>0.0</td>\n",
       "      <td>self_employed</td>\n",
       "      <td>187.0</td>\n",
       "      <td>2</td>\n",
       "      <td>755</td>\n",
       "      <td>224.0</td>\n",
       "      <td>...</td>\n",
       "      <td>1458.71</td>\n",
       "      <td>1458.71</td>\n",
       "      <td>1449.07</td>\n",
       "      <td>0.20</td>\n",
       "      <td>0.20</td>\n",
       "      <td>0.20</td>\n",
       "      <td>0.20</td>\n",
       "      <td>1458.71</td>\n",
       "      <td>1458.71</td>\n",
       "      <td>0</td>\n",
       "    </tr>\n",
       "    <tr>\n",
       "      <th>1</th>\n",
       "      <td>2</td>\n",
       "      <td>310</td>\n",
       "      <td>35</td>\n",
       "      <td>Male</td>\n",
       "      <td>0.0</td>\n",
       "      <td>self_employed</td>\n",
       "      <td>NaN</td>\n",
       "      <td>2</td>\n",
       "      <td>3214</td>\n",
       "      <td>60.0</td>\n",
       "      <td>...</td>\n",
       "      <td>8704.66</td>\n",
       "      <td>7799.26</td>\n",
       "      <td>12419.41</td>\n",
       "      <td>0.56</td>\n",
       "      <td>0.56</td>\n",
       "      <td>5486.27</td>\n",
       "      <td>100.56</td>\n",
       "      <td>6496.78</td>\n",
       "      <td>8787.61</td>\n",
       "      <td>0</td>\n",
       "    </tr>\n",
       "    <tr>\n",
       "      <th>2</th>\n",
       "      <td>4</td>\n",
       "      <td>2356</td>\n",
       "      <td>31</td>\n",
       "      <td>Male</td>\n",
       "      <td>0.0</td>\n",
       "      <td>salaried</td>\n",
       "      <td>146.0</td>\n",
       "      <td>2</td>\n",
       "      <td>41</td>\n",
       "      <td>NaN</td>\n",
       "      <td>...</td>\n",
       "      <td>5815.29</td>\n",
       "      <td>4910.17</td>\n",
       "      <td>2815.94</td>\n",
       "      <td>0.61</td>\n",
       "      <td>0.61</td>\n",
       "      <td>6046.73</td>\n",
       "      <td>259.23</td>\n",
       "      <td>5006.28</td>\n",
       "      <td>5070.14</td>\n",
       "      <td>0</td>\n",
       "    </tr>\n",
       "    <tr>\n",
       "      <th>3</th>\n",
       "      <td>5</td>\n",
       "      <td>478</td>\n",
       "      <td>90</td>\n",
       "      <td>NaN</td>\n",
       "      <td>NaN</td>\n",
       "      <td>self_employed</td>\n",
       "      <td>1020.0</td>\n",
       "      <td>2</td>\n",
       "      <td>582</td>\n",
       "      <td>147.0</td>\n",
       "      <td>...</td>\n",
       "      <td>2291.91</td>\n",
       "      <td>2084.54</td>\n",
       "      <td>1006.54</td>\n",
       "      <td>0.47</td>\n",
       "      <td>0.47</td>\n",
       "      <td>0.47</td>\n",
       "      <td>2143.33</td>\n",
       "      <td>2291.91</td>\n",
       "      <td>1669.79</td>\n",
       "      <td>1</td>\n",
       "    </tr>\n",
       "    <tr>\n",
       "      <th>4</th>\n",
       "      <td>6</td>\n",
       "      <td>2531</td>\n",
       "      <td>42</td>\n",
       "      <td>Male</td>\n",
       "      <td>2.0</td>\n",
       "      <td>self_employed</td>\n",
       "      <td>1494.0</td>\n",
       "      <td>3</td>\n",
       "      <td>388</td>\n",
       "      <td>58.0</td>\n",
       "      <td>...</td>\n",
       "      <td>1401.72</td>\n",
       "      <td>1643.31</td>\n",
       "      <td>1871.12</td>\n",
       "      <td>0.33</td>\n",
       "      <td>714.61</td>\n",
       "      <td>588.62</td>\n",
       "      <td>1538.06</td>\n",
       "      <td>1157.15</td>\n",
       "      <td>1677.16</td>\n",
       "      <td>1</td>\n",
       "    </tr>\n",
       "  </tbody>\n",
       "</table>\n",
       "<p>5 rows × 21 columns</p>\n",
       "</div>"
      ],
      "text/plain": [
       "   customer_id  vintage  age gender  dependents     occupation    city  \\\n",
       "0            1     3135   66   Male         0.0  self_employed   187.0   \n",
       "1            2      310   35   Male         0.0  self_employed     NaN   \n",
       "2            4     2356   31   Male         0.0       salaried   146.0   \n",
       "3            5      478   90    NaN         NaN  self_employed  1020.0   \n",
       "4            6     2531   42   Male         2.0  self_employed  1494.0   \n",
       "\n",
       "   customer_nw_category  branch_code  days_since_last_transaction  ...  \\\n",
       "0                     2          755                        224.0  ...   \n",
       "1                     2         3214                         60.0  ...   \n",
       "2                     2           41                          NaN  ...   \n",
       "3                     2          582                        147.0  ...   \n",
       "4                     3          388                         58.0  ...   \n",
       "\n",
       "   previous_month_end_balance  average_monthly_balance_prevQ  \\\n",
       "0                     1458.71                        1458.71   \n",
       "1                     8704.66                        7799.26   \n",
       "2                     5815.29                        4910.17   \n",
       "3                     2291.91                        2084.54   \n",
       "4                     1401.72                        1643.31   \n",
       "\n",
       "   average_monthly_balance_prevQ2  current_month_credit  \\\n",
       "0                         1449.07                  0.20   \n",
       "1                        12419.41                  0.56   \n",
       "2                         2815.94                  0.61   \n",
       "3                         1006.54                  0.47   \n",
       "4                         1871.12                  0.33   \n",
       "\n",
       "   previous_month_credit  current_month_debit  previous_month_debit  \\\n",
       "0                   0.20                 0.20                  0.20   \n",
       "1                   0.56              5486.27                100.56   \n",
       "2                   0.61              6046.73                259.23   \n",
       "3                   0.47                 0.47               2143.33   \n",
       "4                 714.61               588.62               1538.06   \n",
       "\n",
       "   current_month_balance  previous_month_balance  churn  \n",
       "0                1458.71                 1458.71      0  \n",
       "1                6496.78                 8787.61      0  \n",
       "2                5006.28                 5070.14      0  \n",
       "3                2291.91                 1669.79      1  \n",
       "4                1157.15                 1677.16      1  \n",
       "\n",
       "[5 rows x 21 columns]"
      ]
     },
     "execution_count": 2,
     "metadata": {},
     "output_type": "execute_result"
    }
   ],
   "source": [
    "data=pd.read_csv('churn_prediction.csv')\n",
    "data.head()"
   ]
  },
  {
   "cell_type": "markdown",
   "metadata": {},
   "source": [
    "## Exploring the data and cleaning it"
   ]
  },
  {
   "cell_type": "code",
   "execution_count": 3,
   "metadata": {
    "scrolled": true
   },
   "outputs": [
    {
     "data": {
      "text/plain": [
       "(28382, 21)"
      ]
     },
     "execution_count": 3,
     "metadata": {},
     "output_type": "execute_result"
    }
   ],
   "source": [
    "data.shape"
   ]
  },
  {
   "cell_type": "code",
   "execution_count": 4,
   "metadata": {},
   "outputs": [
    {
     "data": {
      "text/html": [
       "<div>\n",
       "<style scoped>\n",
       "    .dataframe tbody tr th:only-of-type {\n",
       "        vertical-align: middle;\n",
       "    }\n",
       "\n",
       "    .dataframe tbody tr th {\n",
       "        vertical-align: top;\n",
       "    }\n",
       "\n",
       "    .dataframe thead th {\n",
       "        text-align: right;\n",
       "    }\n",
       "</style>\n",
       "<table border=\"1\" class=\"dataframe\">\n",
       "  <thead>\n",
       "    <tr style=\"text-align: right;\">\n",
       "      <th></th>\n",
       "      <th>customer_id</th>\n",
       "      <th>vintage</th>\n",
       "      <th>age</th>\n",
       "      <th>gender</th>\n",
       "      <th>dependents</th>\n",
       "      <th>occupation</th>\n",
       "      <th>city</th>\n",
       "      <th>customer_nw_category</th>\n",
       "      <th>branch_code</th>\n",
       "      <th>days_since_last_transaction</th>\n",
       "      <th>...</th>\n",
       "      <th>previous_month_end_balance</th>\n",
       "      <th>average_monthly_balance_prevQ</th>\n",
       "      <th>average_monthly_balance_prevQ2</th>\n",
       "      <th>current_month_credit</th>\n",
       "      <th>previous_month_credit</th>\n",
       "      <th>current_month_debit</th>\n",
       "      <th>previous_month_debit</th>\n",
       "      <th>current_month_balance</th>\n",
       "      <th>previous_month_balance</th>\n",
       "      <th>churn</th>\n",
       "    </tr>\n",
       "  </thead>\n",
       "  <tbody>\n",
       "    <tr>\n",
       "      <th>count</th>\n",
       "      <td>28382.000000</td>\n",
       "      <td>28382.000000</td>\n",
       "      <td>28382.000000</td>\n",
       "      <td>27857</td>\n",
       "      <td>25919.000000</td>\n",
       "      <td>28302</td>\n",
       "      <td>27579.000000</td>\n",
       "      <td>28382.000000</td>\n",
       "      <td>28382.000000</td>\n",
       "      <td>25159.000000</td>\n",
       "      <td>...</td>\n",
       "      <td>2.838200e+04</td>\n",
       "      <td>2.838200e+04</td>\n",
       "      <td>2.838200e+04</td>\n",
       "      <td>2.838200e+04</td>\n",
       "      <td>2.838200e+04</td>\n",
       "      <td>2.838200e+04</td>\n",
       "      <td>2.838200e+04</td>\n",
       "      <td>2.838200e+04</td>\n",
       "      <td>2.838200e+04</td>\n",
       "      <td>28382.000000</td>\n",
       "    </tr>\n",
       "    <tr>\n",
       "      <th>unique</th>\n",
       "      <td>NaN</td>\n",
       "      <td>NaN</td>\n",
       "      <td>NaN</td>\n",
       "      <td>2</td>\n",
       "      <td>NaN</td>\n",
       "      <td>5</td>\n",
       "      <td>NaN</td>\n",
       "      <td>NaN</td>\n",
       "      <td>NaN</td>\n",
       "      <td>NaN</td>\n",
       "      <td>...</td>\n",
       "      <td>NaN</td>\n",
       "      <td>NaN</td>\n",
       "      <td>NaN</td>\n",
       "      <td>NaN</td>\n",
       "      <td>NaN</td>\n",
       "      <td>NaN</td>\n",
       "      <td>NaN</td>\n",
       "      <td>NaN</td>\n",
       "      <td>NaN</td>\n",
       "      <td>NaN</td>\n",
       "    </tr>\n",
       "    <tr>\n",
       "      <th>top</th>\n",
       "      <td>NaN</td>\n",
       "      <td>NaN</td>\n",
       "      <td>NaN</td>\n",
       "      <td>Male</td>\n",
       "      <td>NaN</td>\n",
       "      <td>self_employed</td>\n",
       "      <td>NaN</td>\n",
       "      <td>NaN</td>\n",
       "      <td>NaN</td>\n",
       "      <td>NaN</td>\n",
       "      <td>...</td>\n",
       "      <td>NaN</td>\n",
       "      <td>NaN</td>\n",
       "      <td>NaN</td>\n",
       "      <td>NaN</td>\n",
       "      <td>NaN</td>\n",
       "      <td>NaN</td>\n",
       "      <td>NaN</td>\n",
       "      <td>NaN</td>\n",
       "      <td>NaN</td>\n",
       "      <td>NaN</td>\n",
       "    </tr>\n",
       "    <tr>\n",
       "      <th>freq</th>\n",
       "      <td>NaN</td>\n",
       "      <td>NaN</td>\n",
       "      <td>NaN</td>\n",
       "      <td>16548</td>\n",
       "      <td>NaN</td>\n",
       "      <td>17476</td>\n",
       "      <td>NaN</td>\n",
       "      <td>NaN</td>\n",
       "      <td>NaN</td>\n",
       "      <td>NaN</td>\n",
       "      <td>...</td>\n",
       "      <td>NaN</td>\n",
       "      <td>NaN</td>\n",
       "      <td>NaN</td>\n",
       "      <td>NaN</td>\n",
       "      <td>NaN</td>\n",
       "      <td>NaN</td>\n",
       "      <td>NaN</td>\n",
       "      <td>NaN</td>\n",
       "      <td>NaN</td>\n",
       "      <td>NaN</td>\n",
       "    </tr>\n",
       "    <tr>\n",
       "      <th>mean</th>\n",
       "      <td>15143.508667</td>\n",
       "      <td>2364.336446</td>\n",
       "      <td>48.208336</td>\n",
       "      <td>NaN</td>\n",
       "      <td>0.347236</td>\n",
       "      <td>NaN</td>\n",
       "      <td>796.109576</td>\n",
       "      <td>2.225530</td>\n",
       "      <td>925.975019</td>\n",
       "      <td>69.997814</td>\n",
       "      <td>...</td>\n",
       "      <td>7.495771e+03</td>\n",
       "      <td>7.496780e+03</td>\n",
       "      <td>7.124209e+03</td>\n",
       "      <td>3.433252e+03</td>\n",
       "      <td>3.261694e+03</td>\n",
       "      <td>3.658745e+03</td>\n",
       "      <td>3.339761e+03</td>\n",
       "      <td>7.451133e+03</td>\n",
       "      <td>7.495177e+03</td>\n",
       "      <td>0.185329</td>\n",
       "    </tr>\n",
       "    <tr>\n",
       "      <th>std</th>\n",
       "      <td>8746.454456</td>\n",
       "      <td>1610.124506</td>\n",
       "      <td>17.807163</td>\n",
       "      <td>NaN</td>\n",
       "      <td>0.997661</td>\n",
       "      <td>NaN</td>\n",
       "      <td>432.872102</td>\n",
       "      <td>0.660443</td>\n",
       "      <td>937.799129</td>\n",
       "      <td>86.341098</td>\n",
       "      <td>...</td>\n",
       "      <td>4.252935e+04</td>\n",
       "      <td>4.172622e+04</td>\n",
       "      <td>4.457581e+04</td>\n",
       "      <td>7.707145e+04</td>\n",
       "      <td>2.968889e+04</td>\n",
       "      <td>5.198542e+04</td>\n",
       "      <td>2.430111e+04</td>\n",
       "      <td>4.203394e+04</td>\n",
       "      <td>4.243198e+04</td>\n",
       "      <td>0.388571</td>\n",
       "    </tr>\n",
       "    <tr>\n",
       "      <th>min</th>\n",
       "      <td>1.000000</td>\n",
       "      <td>180.000000</td>\n",
       "      <td>1.000000</td>\n",
       "      <td>NaN</td>\n",
       "      <td>0.000000</td>\n",
       "      <td>NaN</td>\n",
       "      <td>0.000000</td>\n",
       "      <td>1.000000</td>\n",
       "      <td>1.000000</td>\n",
       "      <td>0.000000</td>\n",
       "      <td>...</td>\n",
       "      <td>-3.149570e+03</td>\n",
       "      <td>1.428690e+03</td>\n",
       "      <td>-1.650610e+04</td>\n",
       "      <td>1.000000e-02</td>\n",
       "      <td>1.000000e-02</td>\n",
       "      <td>1.000000e-02</td>\n",
       "      <td>1.000000e-02</td>\n",
       "      <td>-3.374180e+03</td>\n",
       "      <td>-5.171920e+03</td>\n",
       "      <td>0.000000</td>\n",
       "    </tr>\n",
       "    <tr>\n",
       "      <th>25%</th>\n",
       "      <td>7557.250000</td>\n",
       "      <td>1121.000000</td>\n",
       "      <td>36.000000</td>\n",
       "      <td>NaN</td>\n",
       "      <td>0.000000</td>\n",
       "      <td>NaN</td>\n",
       "      <td>409.000000</td>\n",
       "      <td>2.000000</td>\n",
       "      <td>176.000000</td>\n",
       "      <td>11.000000</td>\n",
       "      <td>...</td>\n",
       "      <td>1.906000e+03</td>\n",
       "      <td>2.180945e+03</td>\n",
       "      <td>1.832507e+03</td>\n",
       "      <td>3.100000e-01</td>\n",
       "      <td>3.300000e-01</td>\n",
       "      <td>4.100000e-01</td>\n",
       "      <td>4.100000e-01</td>\n",
       "      <td>1.996765e+03</td>\n",
       "      <td>2.074407e+03</td>\n",
       "      <td>0.000000</td>\n",
       "    </tr>\n",
       "    <tr>\n",
       "      <th>50%</th>\n",
       "      <td>15150.500000</td>\n",
       "      <td>2018.000000</td>\n",
       "      <td>46.000000</td>\n",
       "      <td>NaN</td>\n",
       "      <td>0.000000</td>\n",
       "      <td>NaN</td>\n",
       "      <td>834.000000</td>\n",
       "      <td>2.000000</td>\n",
       "      <td>572.000000</td>\n",
       "      <td>30.000000</td>\n",
       "      <td>...</td>\n",
       "      <td>3.379915e+03</td>\n",
       "      <td>3.542865e+03</td>\n",
       "      <td>3.359600e+03</td>\n",
       "      <td>6.100000e-01</td>\n",
       "      <td>6.300000e-01</td>\n",
       "      <td>9.193000e+01</td>\n",
       "      <td>1.099600e+02</td>\n",
       "      <td>3.447995e+03</td>\n",
       "      <td>3.465235e+03</td>\n",
       "      <td>0.000000</td>\n",
       "    </tr>\n",
       "    <tr>\n",
       "      <th>75%</th>\n",
       "      <td>22706.750000</td>\n",
       "      <td>3176.000000</td>\n",
       "      <td>60.000000</td>\n",
       "      <td>NaN</td>\n",
       "      <td>0.000000</td>\n",
       "      <td>NaN</td>\n",
       "      <td>1096.000000</td>\n",
       "      <td>3.000000</td>\n",
       "      <td>1440.000000</td>\n",
       "      <td>95.000000</td>\n",
       "      <td>...</td>\n",
       "      <td>6.656535e+03</td>\n",
       "      <td>6.666887e+03</td>\n",
       "      <td>6.517960e+03</td>\n",
       "      <td>7.072725e+02</td>\n",
       "      <td>7.492350e+02</td>\n",
       "      <td>1.360435e+03</td>\n",
       "      <td>1.357553e+03</td>\n",
       "      <td>6.667958e+03</td>\n",
       "      <td>6.654693e+03</td>\n",
       "      <td>0.000000</td>\n",
       "    </tr>\n",
       "    <tr>\n",
       "      <th>max</th>\n",
       "      <td>30301.000000</td>\n",
       "      <td>12899.000000</td>\n",
       "      <td>90.000000</td>\n",
       "      <td>NaN</td>\n",
       "      <td>52.000000</td>\n",
       "      <td>NaN</td>\n",
       "      <td>1649.000000</td>\n",
       "      <td>3.000000</td>\n",
       "      <td>4782.000000</td>\n",
       "      <td>365.000000</td>\n",
       "      <td>...</td>\n",
       "      <td>5.740439e+06</td>\n",
       "      <td>5.700290e+06</td>\n",
       "      <td>5.010170e+06</td>\n",
       "      <td>1.226985e+07</td>\n",
       "      <td>2.361808e+06</td>\n",
       "      <td>7.637857e+06</td>\n",
       "      <td>1.414168e+06</td>\n",
       "      <td>5.778185e+06</td>\n",
       "      <td>5.720144e+06</td>\n",
       "      <td>1.000000</td>\n",
       "    </tr>\n",
       "  </tbody>\n",
       "</table>\n",
       "<p>11 rows × 21 columns</p>\n",
       "</div>"
      ],
      "text/plain": [
       "         customer_id       vintage           age gender    dependents  \\\n",
       "count   28382.000000  28382.000000  28382.000000  27857  25919.000000   \n",
       "unique           NaN           NaN           NaN      2           NaN   \n",
       "top              NaN           NaN           NaN   Male           NaN   \n",
       "freq             NaN           NaN           NaN  16548           NaN   \n",
       "mean    15143.508667   2364.336446     48.208336    NaN      0.347236   \n",
       "std      8746.454456   1610.124506     17.807163    NaN      0.997661   \n",
       "min         1.000000    180.000000      1.000000    NaN      0.000000   \n",
       "25%      7557.250000   1121.000000     36.000000    NaN      0.000000   \n",
       "50%     15150.500000   2018.000000     46.000000    NaN      0.000000   \n",
       "75%     22706.750000   3176.000000     60.000000    NaN      0.000000   \n",
       "max     30301.000000  12899.000000     90.000000    NaN     52.000000   \n",
       "\n",
       "           occupation          city  customer_nw_category   branch_code  \\\n",
       "count           28302  27579.000000          28382.000000  28382.000000   \n",
       "unique              5           NaN                   NaN           NaN   \n",
       "top     self_employed           NaN                   NaN           NaN   \n",
       "freq            17476           NaN                   NaN           NaN   \n",
       "mean              NaN    796.109576              2.225530    925.975019   \n",
       "std               NaN    432.872102              0.660443    937.799129   \n",
       "min               NaN      0.000000              1.000000      1.000000   \n",
       "25%               NaN    409.000000              2.000000    176.000000   \n",
       "50%               NaN    834.000000              2.000000    572.000000   \n",
       "75%               NaN   1096.000000              3.000000   1440.000000   \n",
       "max               NaN   1649.000000              3.000000   4782.000000   \n",
       "\n",
       "        days_since_last_transaction  ...  previous_month_end_balance  \\\n",
       "count                  25159.000000  ...                2.838200e+04   \n",
       "unique                          NaN  ...                         NaN   \n",
       "top                             NaN  ...                         NaN   \n",
       "freq                            NaN  ...                         NaN   \n",
       "mean                      69.997814  ...                7.495771e+03   \n",
       "std                       86.341098  ...                4.252935e+04   \n",
       "min                        0.000000  ...               -3.149570e+03   \n",
       "25%                       11.000000  ...                1.906000e+03   \n",
       "50%                       30.000000  ...                3.379915e+03   \n",
       "75%                       95.000000  ...                6.656535e+03   \n",
       "max                      365.000000  ...                5.740439e+06   \n",
       "\n",
       "        average_monthly_balance_prevQ  average_monthly_balance_prevQ2  \\\n",
       "count                    2.838200e+04                    2.838200e+04   \n",
       "unique                            NaN                             NaN   \n",
       "top                               NaN                             NaN   \n",
       "freq                              NaN                             NaN   \n",
       "mean                     7.496780e+03                    7.124209e+03   \n",
       "std                      4.172622e+04                    4.457581e+04   \n",
       "min                      1.428690e+03                   -1.650610e+04   \n",
       "25%                      2.180945e+03                    1.832507e+03   \n",
       "50%                      3.542865e+03                    3.359600e+03   \n",
       "75%                      6.666887e+03                    6.517960e+03   \n",
       "max                      5.700290e+06                    5.010170e+06   \n",
       "\n",
       "        current_month_credit  previous_month_credit  current_month_debit  \\\n",
       "count           2.838200e+04           2.838200e+04         2.838200e+04   \n",
       "unique                   NaN                    NaN                  NaN   \n",
       "top                      NaN                    NaN                  NaN   \n",
       "freq                     NaN                    NaN                  NaN   \n",
       "mean            3.433252e+03           3.261694e+03         3.658745e+03   \n",
       "std             7.707145e+04           2.968889e+04         5.198542e+04   \n",
       "min             1.000000e-02           1.000000e-02         1.000000e-02   \n",
       "25%             3.100000e-01           3.300000e-01         4.100000e-01   \n",
       "50%             6.100000e-01           6.300000e-01         9.193000e+01   \n",
       "75%             7.072725e+02           7.492350e+02         1.360435e+03   \n",
       "max             1.226985e+07           2.361808e+06         7.637857e+06   \n",
       "\n",
       "        previous_month_debit  current_month_balance  previous_month_balance  \\\n",
       "count           2.838200e+04           2.838200e+04            2.838200e+04   \n",
       "unique                   NaN                    NaN                     NaN   \n",
       "top                      NaN                    NaN                     NaN   \n",
       "freq                     NaN                    NaN                     NaN   \n",
       "mean            3.339761e+03           7.451133e+03            7.495177e+03   \n",
       "std             2.430111e+04           4.203394e+04            4.243198e+04   \n",
       "min             1.000000e-02          -3.374180e+03           -5.171920e+03   \n",
       "25%             4.100000e-01           1.996765e+03            2.074407e+03   \n",
       "50%             1.099600e+02           3.447995e+03            3.465235e+03   \n",
       "75%             1.357553e+03           6.667958e+03            6.654693e+03   \n",
       "max             1.414168e+06           5.778185e+06            5.720144e+06   \n",
       "\n",
       "               churn  \n",
       "count   28382.000000  \n",
       "unique           NaN  \n",
       "top              NaN  \n",
       "freq             NaN  \n",
       "mean        0.185329  \n",
       "std         0.388571  \n",
       "min         0.000000  \n",
       "25%         0.000000  \n",
       "50%         0.000000  \n",
       "75%         0.000000  \n",
       "max         1.000000  \n",
       "\n",
       "[11 rows x 21 columns]"
      ]
     },
     "execution_count": 4,
     "metadata": {},
     "output_type": "execute_result"
    }
   ],
   "source": [
    "data.describe(include='all')"
   ]
  },
  {
   "cell_type": "code",
   "execution_count": 5,
   "metadata": {},
   "outputs": [
    {
     "data": {
      "text/plain": [
       "customer_id                          0\n",
       "vintage                              0\n",
       "age                                  0\n",
       "gender                             525\n",
       "dependents                        2463\n",
       "occupation                          80\n",
       "city                               803\n",
       "customer_nw_category                 0\n",
       "branch_code                          0\n",
       "days_since_last_transaction       3223\n",
       "current_balance                      0\n",
       "previous_month_end_balance           0\n",
       "average_monthly_balance_prevQ        0\n",
       "average_monthly_balance_prevQ2       0\n",
       "current_month_credit                 0\n",
       "previous_month_credit                0\n",
       "current_month_debit                  0\n",
       "previous_month_debit                 0\n",
       "current_month_balance                0\n",
       "previous_month_balance               0\n",
       "churn                                0\n",
       "dtype: int64"
      ]
     },
     "execution_count": 5,
     "metadata": {},
     "output_type": "execute_result"
    }
   ],
   "source": [
    "data.isnull().sum()"
   ]
  },
  {
   "cell_type": "code",
   "execution_count": 6,
   "metadata": {
    "scrolled": false
   },
   "outputs": [
    {
     "data": {
      "text/html": [
       "<div>\n",
       "<style scoped>\n",
       "    .dataframe tbody tr th:only-of-type {\n",
       "        vertical-align: middle;\n",
       "    }\n",
       "\n",
       "    .dataframe tbody tr th {\n",
       "        vertical-align: top;\n",
       "    }\n",
       "\n",
       "    .dataframe thead th {\n",
       "        text-align: right;\n",
       "    }\n",
       "</style>\n",
       "<table border=\"1\" class=\"dataframe\">\n",
       "  <thead>\n",
       "    <tr style=\"text-align: right;\">\n",
       "      <th></th>\n",
       "      <th>customer_id</th>\n",
       "      <th>vintage</th>\n",
       "      <th>age</th>\n",
       "      <th>gender</th>\n",
       "      <th>dependents</th>\n",
       "      <th>occupation</th>\n",
       "      <th>city</th>\n",
       "      <th>customer_nw_category</th>\n",
       "      <th>branch_code</th>\n",
       "      <th>days_since_last_transaction</th>\n",
       "      <th>...</th>\n",
       "      <th>previous_month_end_balance</th>\n",
       "      <th>average_monthly_balance_prevQ</th>\n",
       "      <th>average_monthly_balance_prevQ2</th>\n",
       "      <th>current_month_credit</th>\n",
       "      <th>previous_month_credit</th>\n",
       "      <th>current_month_debit</th>\n",
       "      <th>previous_month_debit</th>\n",
       "      <th>current_month_balance</th>\n",
       "      <th>previous_month_balance</th>\n",
       "      <th>churn</th>\n",
       "    </tr>\n",
       "  </thead>\n",
       "  <tbody>\n",
       "    <tr>\n",
       "      <th>0</th>\n",
       "      <td>1</td>\n",
       "      <td>3135</td>\n",
       "      <td>66</td>\n",
       "      <td>Male</td>\n",
       "      <td>0.0</td>\n",
       "      <td>self_employed</td>\n",
       "      <td>187.0</td>\n",
       "      <td>2</td>\n",
       "      <td>755</td>\n",
       "      <td>224.0</td>\n",
       "      <td>...</td>\n",
       "      <td>1458.71</td>\n",
       "      <td>1458.71</td>\n",
       "      <td>1449.07</td>\n",
       "      <td>0.20</td>\n",
       "      <td>0.20</td>\n",
       "      <td>0.20</td>\n",
       "      <td>0.20</td>\n",
       "      <td>1458.71</td>\n",
       "      <td>1458.71</td>\n",
       "      <td>0</td>\n",
       "    </tr>\n",
       "    <tr>\n",
       "      <th>1</th>\n",
       "      <td>2</td>\n",
       "      <td>310</td>\n",
       "      <td>35</td>\n",
       "      <td>Male</td>\n",
       "      <td>0.0</td>\n",
       "      <td>self_employed</td>\n",
       "      <td>NaN</td>\n",
       "      <td>2</td>\n",
       "      <td>3214</td>\n",
       "      <td>60.0</td>\n",
       "      <td>...</td>\n",
       "      <td>8704.66</td>\n",
       "      <td>7799.26</td>\n",
       "      <td>12419.41</td>\n",
       "      <td>0.56</td>\n",
       "      <td>0.56</td>\n",
       "      <td>5486.27</td>\n",
       "      <td>100.56</td>\n",
       "      <td>6496.78</td>\n",
       "      <td>8787.61</td>\n",
       "      <td>0</td>\n",
       "    </tr>\n",
       "    <tr>\n",
       "      <th>2</th>\n",
       "      <td>4</td>\n",
       "      <td>2356</td>\n",
       "      <td>31</td>\n",
       "      <td>Male</td>\n",
       "      <td>0.0</td>\n",
       "      <td>salaried</td>\n",
       "      <td>146.0</td>\n",
       "      <td>2</td>\n",
       "      <td>41</td>\n",
       "      <td>NaN</td>\n",
       "      <td>...</td>\n",
       "      <td>5815.29</td>\n",
       "      <td>4910.17</td>\n",
       "      <td>2815.94</td>\n",
       "      <td>0.61</td>\n",
       "      <td>0.61</td>\n",
       "      <td>6046.73</td>\n",
       "      <td>259.23</td>\n",
       "      <td>5006.28</td>\n",
       "      <td>5070.14</td>\n",
       "      <td>0</td>\n",
       "    </tr>\n",
       "    <tr>\n",
       "      <th>3</th>\n",
       "      <td>5</td>\n",
       "      <td>478</td>\n",
       "      <td>90</td>\n",
       "      <td>NaN</td>\n",
       "      <td>NaN</td>\n",
       "      <td>self_employed</td>\n",
       "      <td>1020.0</td>\n",
       "      <td>2</td>\n",
       "      <td>582</td>\n",
       "      <td>147.0</td>\n",
       "      <td>...</td>\n",
       "      <td>2291.91</td>\n",
       "      <td>2084.54</td>\n",
       "      <td>1006.54</td>\n",
       "      <td>0.47</td>\n",
       "      <td>0.47</td>\n",
       "      <td>0.47</td>\n",
       "      <td>2143.33</td>\n",
       "      <td>2291.91</td>\n",
       "      <td>1669.79</td>\n",
       "      <td>1</td>\n",
       "    </tr>\n",
       "    <tr>\n",
       "      <th>4</th>\n",
       "      <td>6</td>\n",
       "      <td>2531</td>\n",
       "      <td>42</td>\n",
       "      <td>Male</td>\n",
       "      <td>2.0</td>\n",
       "      <td>self_employed</td>\n",
       "      <td>1494.0</td>\n",
       "      <td>3</td>\n",
       "      <td>388</td>\n",
       "      <td>58.0</td>\n",
       "      <td>...</td>\n",
       "      <td>1401.72</td>\n",
       "      <td>1643.31</td>\n",
       "      <td>1871.12</td>\n",
       "      <td>0.33</td>\n",
       "      <td>714.61</td>\n",
       "      <td>588.62</td>\n",
       "      <td>1538.06</td>\n",
       "      <td>1157.15</td>\n",
       "      <td>1677.16</td>\n",
       "      <td>1</td>\n",
       "    </tr>\n",
       "    <tr>\n",
       "      <th>...</th>\n",
       "      <td>...</td>\n",
       "      <td>...</td>\n",
       "      <td>...</td>\n",
       "      <td>...</td>\n",
       "      <td>...</td>\n",
       "      <td>...</td>\n",
       "      <td>...</td>\n",
       "      <td>...</td>\n",
       "      <td>...</td>\n",
       "      <td>...</td>\n",
       "      <td>...</td>\n",
       "      <td>...</td>\n",
       "      <td>...</td>\n",
       "      <td>...</td>\n",
       "      <td>...</td>\n",
       "      <td>...</td>\n",
       "      <td>...</td>\n",
       "      <td>...</td>\n",
       "      <td>...</td>\n",
       "      <td>...</td>\n",
       "      <td>...</td>\n",
       "    </tr>\n",
       "    <tr>\n",
       "      <th>28377</th>\n",
       "      <td>30297</td>\n",
       "      <td>1845</td>\n",
       "      <td>10</td>\n",
       "      <td>Female</td>\n",
       "      <td>0.0</td>\n",
       "      <td>student</td>\n",
       "      <td>1020.0</td>\n",
       "      <td>2</td>\n",
       "      <td>1207</td>\n",
       "      <td>70.0</td>\n",
       "      <td>...</td>\n",
       "      <td>1076.43</td>\n",
       "      <td>2282.19</td>\n",
       "      <td>2787.70</td>\n",
       "      <td>0.30</td>\n",
       "      <td>0.30</td>\n",
       "      <td>0.30</td>\n",
       "      <td>0.30</td>\n",
       "      <td>1076.43</td>\n",
       "      <td>1076.43</td>\n",
       "      <td>0</td>\n",
       "    </tr>\n",
       "    <tr>\n",
       "      <th>28378</th>\n",
       "      <td>30298</td>\n",
       "      <td>4919</td>\n",
       "      <td>34</td>\n",
       "      <td>Female</td>\n",
       "      <td>0.0</td>\n",
       "      <td>self_employed</td>\n",
       "      <td>1046.0</td>\n",
       "      <td>2</td>\n",
       "      <td>223</td>\n",
       "      <td>14.0</td>\n",
       "      <td>...</td>\n",
       "      <td>4069.21</td>\n",
       "      <td>3668.83</td>\n",
       "      <td>3865.55</td>\n",
       "      <td>1.71</td>\n",
       "      <td>2.29</td>\n",
       "      <td>901.00</td>\n",
       "      <td>1014.07</td>\n",
       "      <td>3738.54</td>\n",
       "      <td>3690.32</td>\n",
       "      <td>0</td>\n",
       "    </tr>\n",
       "    <tr>\n",
       "      <th>28379</th>\n",
       "      <td>30299</td>\n",
       "      <td>297</td>\n",
       "      <td>47</td>\n",
       "      <td>Male</td>\n",
       "      <td>0.0</td>\n",
       "      <td>salaried</td>\n",
       "      <td>1096.0</td>\n",
       "      <td>2</td>\n",
       "      <td>588</td>\n",
       "      <td>0.0</td>\n",
       "      <td>...</td>\n",
       "      <td>61017.55</td>\n",
       "      <td>53444.81</td>\n",
       "      <td>21925.81</td>\n",
       "      <td>4666.84</td>\n",
       "      <td>3883.06</td>\n",
       "      <td>168.23</td>\n",
       "      <td>71.80</td>\n",
       "      <td>61078.50</td>\n",
       "      <td>57564.24</td>\n",
       "      <td>1</td>\n",
       "    </tr>\n",
       "    <tr>\n",
       "      <th>28380</th>\n",
       "      <td>30300</td>\n",
       "      <td>2585</td>\n",
       "      <td>50</td>\n",
       "      <td>Male</td>\n",
       "      <td>3.0</td>\n",
       "      <td>self_employed</td>\n",
       "      <td>1219.0</td>\n",
       "      <td>3</td>\n",
       "      <td>274</td>\n",
       "      <td>NaN</td>\n",
       "      <td>...</td>\n",
       "      <td>1625.55</td>\n",
       "      <td>1683.20</td>\n",
       "      <td>1857.42</td>\n",
       "      <td>0.20</td>\n",
       "      <td>0.20</td>\n",
       "      <td>0.20</td>\n",
       "      <td>0.20</td>\n",
       "      <td>1625.55</td>\n",
       "      <td>1625.55</td>\n",
       "      <td>0</td>\n",
       "    </tr>\n",
       "    <tr>\n",
       "      <th>28381</th>\n",
       "      <td>30301</td>\n",
       "      <td>2349</td>\n",
       "      <td>18</td>\n",
       "      <td>Male</td>\n",
       "      <td>0.0</td>\n",
       "      <td>student</td>\n",
       "      <td>1232.0</td>\n",
       "      <td>2</td>\n",
       "      <td>474</td>\n",
       "      <td>59.0</td>\n",
       "      <td>...</td>\n",
       "      <td>2821.34</td>\n",
       "      <td>3213.44</td>\n",
       "      <td>4447.45</td>\n",
       "      <td>0.11</td>\n",
       "      <td>7.44</td>\n",
       "      <td>714.40</td>\n",
       "      <td>1094.09</td>\n",
       "      <td>2402.62</td>\n",
       "      <td>3260.58</td>\n",
       "      <td>1</td>\n",
       "    </tr>\n",
       "  </tbody>\n",
       "</table>\n",
       "<p>28382 rows × 21 columns</p>\n",
       "</div>"
      ],
      "text/plain": [
       "       customer_id  vintage  age  gender  dependents     occupation    city  \\\n",
       "0                1     3135   66    Male         0.0  self_employed   187.0   \n",
       "1                2      310   35    Male         0.0  self_employed     NaN   \n",
       "2                4     2356   31    Male         0.0       salaried   146.0   \n",
       "3                5      478   90     NaN         NaN  self_employed  1020.0   \n",
       "4                6     2531   42    Male         2.0  self_employed  1494.0   \n",
       "...            ...      ...  ...     ...         ...            ...     ...   \n",
       "28377        30297     1845   10  Female         0.0        student  1020.0   \n",
       "28378        30298     4919   34  Female         0.0  self_employed  1046.0   \n",
       "28379        30299      297   47    Male         0.0       salaried  1096.0   \n",
       "28380        30300     2585   50    Male         3.0  self_employed  1219.0   \n",
       "28381        30301     2349   18    Male         0.0        student  1232.0   \n",
       "\n",
       "       customer_nw_category  branch_code  days_since_last_transaction  ...  \\\n",
       "0                         2          755                        224.0  ...   \n",
       "1                         2         3214                         60.0  ...   \n",
       "2                         2           41                          NaN  ...   \n",
       "3                         2          582                        147.0  ...   \n",
       "4                         3          388                         58.0  ...   \n",
       "...                     ...          ...                          ...  ...   \n",
       "28377                     2         1207                         70.0  ...   \n",
       "28378                     2          223                         14.0  ...   \n",
       "28379                     2          588                          0.0  ...   \n",
       "28380                     3          274                          NaN  ...   \n",
       "28381                     2          474                         59.0  ...   \n",
       "\n",
       "       previous_month_end_balance  average_monthly_balance_prevQ  \\\n",
       "0                         1458.71                        1458.71   \n",
       "1                         8704.66                        7799.26   \n",
       "2                         5815.29                        4910.17   \n",
       "3                         2291.91                        2084.54   \n",
       "4                         1401.72                        1643.31   \n",
       "...                           ...                            ...   \n",
       "28377                     1076.43                        2282.19   \n",
       "28378                     4069.21                        3668.83   \n",
       "28379                    61017.55                       53444.81   \n",
       "28380                     1625.55                        1683.20   \n",
       "28381                     2821.34                        3213.44   \n",
       "\n",
       "       average_monthly_balance_prevQ2  current_month_credit  \\\n",
       "0                             1449.07                  0.20   \n",
       "1                            12419.41                  0.56   \n",
       "2                             2815.94                  0.61   \n",
       "3                             1006.54                  0.47   \n",
       "4                             1871.12                  0.33   \n",
       "...                               ...                   ...   \n",
       "28377                         2787.70                  0.30   \n",
       "28378                         3865.55                  1.71   \n",
       "28379                        21925.81               4666.84   \n",
       "28380                         1857.42                  0.20   \n",
       "28381                         4447.45                  0.11   \n",
       "\n",
       "       previous_month_credit  current_month_debit  previous_month_debit  \\\n",
       "0                       0.20                 0.20                  0.20   \n",
       "1                       0.56              5486.27                100.56   \n",
       "2                       0.61              6046.73                259.23   \n",
       "3                       0.47                 0.47               2143.33   \n",
       "4                     714.61               588.62               1538.06   \n",
       "...                      ...                  ...                   ...   \n",
       "28377                   0.30                 0.30                  0.30   \n",
       "28378                   2.29               901.00               1014.07   \n",
       "28379                3883.06               168.23                 71.80   \n",
       "28380                   0.20                 0.20                  0.20   \n",
       "28381                   7.44               714.40               1094.09   \n",
       "\n",
       "       current_month_balance  previous_month_balance  churn  \n",
       "0                    1458.71                 1458.71      0  \n",
       "1                    6496.78                 8787.61      0  \n",
       "2                    5006.28                 5070.14      0  \n",
       "3                    2291.91                 1669.79      1  \n",
       "4                    1157.15                 1677.16      1  \n",
       "...                      ...                     ...    ...  \n",
       "28377                1076.43                 1076.43      0  \n",
       "28378                3738.54                 3690.32      0  \n",
       "28379               61078.50                57564.24      1  \n",
       "28380                1625.55                 1625.55      0  \n",
       "28381                2402.62                 3260.58      1  \n",
       "\n",
       "[28382 rows x 21 columns]"
      ]
     },
     "execution_count": 6,
     "metadata": {},
     "output_type": "execute_result"
    }
   ],
   "source": [
    "data.drop_duplicates()"
   ]
  },
  {
   "cell_type": "code",
   "execution_count": 7,
   "metadata": {
    "scrolled": false
   },
   "outputs": [
    {
     "name": "stdout",
     "output_type": "stream",
     "text": [
      "************gender*************\n",
      "Male      16548\n",
      "Female    11309\n",
      "Name: gender, dtype: int64\n",
      "************dependents*************\n",
      "0.0     21435\n",
      "2.0      2150\n",
      "1.0      1395\n",
      "3.0       701\n",
      "4.0       179\n",
      "5.0        41\n",
      "6.0         8\n",
      "7.0         3\n",
      "52.0        1\n",
      "25.0        1\n",
      "8.0         1\n",
      "50.0        1\n",
      "9.0         1\n",
      "36.0        1\n",
      "32.0        1\n",
      "Name: dependents, dtype: int64\n",
      "Median : 0.0\n",
      "************occupation*************\n",
      "self_employed    17476\n",
      "salaried          6704\n",
      "student           2058\n",
      "retired           2024\n",
      "company             40\n",
      "Name: occupation, dtype: int64\n",
      "************city*************\n",
      "1020.0    3479\n",
      "1096.0    2016\n",
      "409.0     1334\n",
      "146.0     1291\n",
      "834.0     1138\n",
      "          ... \n",
      "1601.0       1\n",
      "1093.0       1\n",
      "1313.0       1\n",
      "1391.0       1\n",
      "1174.0       1\n",
      "Name: city, Length: 1604, dtype: int64\n",
      "Median : 834.0\n",
      "************days_since_last_transaction*************\n",
      "0.0      1672\n",
      "3.0       831\n",
      "14.0      654\n",
      "4.0       632\n",
      "6.0       596\n",
      "         ... \n",
      "288.0       1\n",
      "92.0        1\n",
      "321.0       1\n",
      "134.0       1\n",
      "225.0       1\n",
      "Name: days_since_last_transaction, Length: 360, dtype: int64\n",
      "Median : 30.0\n"
     ]
    }
   ],
   "source": [
    "missing = ['gender','dependents','occupation','city','days_since_last_transaction']\n",
    "\n",
    "for i in missing:\n",
    "    print(\"************\"+i+\"*************\")\n",
    "    print(data[i].value_counts())\n",
    "    if data[i].dtype != 'O':\n",
    "        print('Median : '+str(data[i].median()))\n",
    "        data[i].fillna(data[i].median(),inplace=True)\n",
    "    else:\n",
    "        data[i].fillna(data[i].mode()[0],inplace=True)"
   ]
  },
  {
   "cell_type": "code",
   "execution_count": 8,
   "metadata": {},
   "outputs": [
    {
     "data": {
      "text/plain": [
       "customer_id                       0\n",
       "vintage                           0\n",
       "age                               0\n",
       "gender                            0\n",
       "dependents                        0\n",
       "occupation                        0\n",
       "city                              0\n",
       "customer_nw_category              0\n",
       "branch_code                       0\n",
       "days_since_last_transaction       0\n",
       "current_balance                   0\n",
       "previous_month_end_balance        0\n",
       "average_monthly_balance_prevQ     0\n",
       "average_monthly_balance_prevQ2    0\n",
       "current_month_credit              0\n",
       "previous_month_credit             0\n",
       "current_month_debit               0\n",
       "previous_month_debit              0\n",
       "current_month_balance             0\n",
       "previous_month_balance            0\n",
       "churn                             0\n",
       "dtype: int64"
      ]
     },
     "execution_count": 8,
     "metadata": {},
     "output_type": "execute_result"
    }
   ],
   "source": [
    "data.isnull().sum()"
   ]
  },
  {
   "cell_type": "code",
   "execution_count": 9,
   "metadata": {},
   "outputs": [
    {
     "data": {
      "text/plain": [
       "customer_id                         int64\n",
       "vintage                             int64\n",
       "age                                 int64\n",
       "gender                             object\n",
       "dependents                        float64\n",
       "occupation                         object\n",
       "city                              float64\n",
       "customer_nw_category                int64\n",
       "branch_code                         int64\n",
       "days_since_last_transaction       float64\n",
       "current_balance                   float64\n",
       "previous_month_end_balance        float64\n",
       "average_monthly_balance_prevQ     float64\n",
       "average_monthly_balance_prevQ2    float64\n",
       "current_month_credit              float64\n",
       "previous_month_credit             float64\n",
       "current_month_debit               float64\n",
       "previous_month_debit              float64\n",
       "current_month_balance             float64\n",
       "previous_month_balance            float64\n",
       "churn                               int64\n",
       "dtype: object"
      ]
     },
     "execution_count": 9,
     "metadata": {},
     "output_type": "execute_result"
    }
   ],
   "source": [
    "data.dtypes"
   ]
  },
  {
   "cell_type": "code",
   "execution_count": 10,
   "metadata": {
    "scrolled": false
   },
   "outputs": [
    {
     "data": {
      "text/plain": [
       "customer_id                       28382\n",
       "vintage                            5473\n",
       "age                                  90\n",
       "gender                                2\n",
       "dependents                           15\n",
       "occupation                            5\n",
       "city                               1604\n",
       "customer_nw_category                  3\n",
       "branch_code                        3185\n",
       "days_since_last_transaction         360\n",
       "current_balance                   27903\n",
       "previous_month_end_balance        27922\n",
       "average_monthly_balance_prevQ     27801\n",
       "average_monthly_balance_prevQ2    27940\n",
       "current_month_credit              10411\n",
       "previous_month_credit             10711\n",
       "current_month_debit               13704\n",
       "previous_month_debit              14010\n",
       "current_month_balance             27944\n",
       "previous_month_balance            27913\n",
       "churn                                 2\n",
       "dtype: int64"
      ]
     },
     "execution_count": 10,
     "metadata": {},
     "output_type": "execute_result"
    }
   ],
   "source": [
    "data.nunique()"
   ]
  },
  {
   "cell_type": "code",
   "execution_count": 11,
   "metadata": {},
   "outputs": [],
   "source": [
    "data=data.astype({'customer_nw_category':'object', 'dependents':'object', 'city':'object'})"
   ]
  },
  {
   "cell_type": "code",
   "execution_count": 12,
   "metadata": {
    "scrolled": false
   },
   "outputs": [
    {
     "data": {
      "text/plain": [
       "customer_id                         int64\n",
       "vintage                             int64\n",
       "age                                 int64\n",
       "gender                             object\n",
       "dependents                         object\n",
       "occupation                         object\n",
       "city                               object\n",
       "customer_nw_category               object\n",
       "branch_code                         int64\n",
       "days_since_last_transaction       float64\n",
       "current_balance                   float64\n",
       "previous_month_end_balance        float64\n",
       "average_monthly_balance_prevQ     float64\n",
       "average_monthly_balance_prevQ2    float64\n",
       "current_month_credit              float64\n",
       "previous_month_credit             float64\n",
       "current_month_debit               float64\n",
       "previous_month_debit              float64\n",
       "current_month_balance             float64\n",
       "previous_month_balance            float64\n",
       "churn                               int64\n",
       "dtype: object"
      ]
     },
     "execution_count": 12,
     "metadata": {},
     "output_type": "execute_result"
    }
   ],
   "source": [
    "data.dtypes"
   ]
  },
  {
   "cell_type": "code",
   "execution_count": 13,
   "metadata": {
    "scrolled": false
   },
   "outputs": [
    {
     "data": {
      "text/html": [
       "<div>\n",
       "<style scoped>\n",
       "    .dataframe tbody tr th:only-of-type {\n",
       "        vertical-align: middle;\n",
       "    }\n",
       "\n",
       "    .dataframe tbody tr th {\n",
       "        vertical-align: top;\n",
       "    }\n",
       "\n",
       "    .dataframe thead th {\n",
       "        text-align: right;\n",
       "    }\n",
       "</style>\n",
       "<table border=\"1\" class=\"dataframe\">\n",
       "  <thead>\n",
       "    <tr style=\"text-align: right;\">\n",
       "      <th></th>\n",
       "      <th>customer_id</th>\n",
       "      <th>vintage</th>\n",
       "      <th>age</th>\n",
       "      <th>branch_code</th>\n",
       "      <th>days_since_last_transaction</th>\n",
       "      <th>current_balance</th>\n",
       "      <th>previous_month_end_balance</th>\n",
       "      <th>average_monthly_balance_prevQ</th>\n",
       "      <th>average_monthly_balance_prevQ2</th>\n",
       "      <th>current_month_credit</th>\n",
       "      <th>previous_month_credit</th>\n",
       "      <th>current_month_debit</th>\n",
       "      <th>previous_month_debit</th>\n",
       "      <th>current_month_balance</th>\n",
       "      <th>previous_month_balance</th>\n",
       "      <th>churn</th>\n",
       "    </tr>\n",
       "  </thead>\n",
       "  <tbody>\n",
       "    <tr>\n",
       "      <th>customer_id</th>\n",
       "      <td>1.000000</td>\n",
       "      <td>-0.006093</td>\n",
       "      <td>-0.000442</td>\n",
       "      <td>-0.000286</td>\n",
       "      <td>0.009699</td>\n",
       "      <td>0.006589</td>\n",
       "      <td>0.005819</td>\n",
       "      <td>0.004485</td>\n",
       "      <td>-0.002532</td>\n",
       "      <td>0.002494</td>\n",
       "      <td>-0.006414</td>\n",
       "      <td>0.002603</td>\n",
       "      <td>-0.008760</td>\n",
       "      <td>0.005140</td>\n",
       "      <td>0.004553</td>\n",
       "      <td>-0.002723</td>\n",
       "    </tr>\n",
       "    <tr>\n",
       "      <th>vintage</th>\n",
       "      <td>-0.006093</td>\n",
       "      <td>1.000000</td>\n",
       "      <td>0.227390</td>\n",
       "      <td>-0.380714</td>\n",
       "      <td>-0.081342</td>\n",
       "      <td>0.002986</td>\n",
       "      <td>0.004518</td>\n",
       "      <td>0.003433</td>\n",
       "      <td>0.002244</td>\n",
       "      <td>0.002848</td>\n",
       "      <td>0.028034</td>\n",
       "      <td>0.005406</td>\n",
       "      <td>0.023949</td>\n",
       "      <td>0.001638</td>\n",
       "      <td>0.003448</td>\n",
       "      <td>-0.064637</td>\n",
       "    </tr>\n",
       "    <tr>\n",
       "      <th>age</th>\n",
       "      <td>-0.000442</td>\n",
       "      <td>0.227390</td>\n",
       "      <td>1.000000</td>\n",
       "      <td>-0.058990</td>\n",
       "      <td>-0.012578</td>\n",
       "      <td>0.054346</td>\n",
       "      <td>0.058342</td>\n",
       "      <td>0.061708</td>\n",
       "      <td>0.059607</td>\n",
       "      <td>0.023840</td>\n",
       "      <td>0.029961</td>\n",
       "      <td>0.027702</td>\n",
       "      <td>0.033296</td>\n",
       "      <td>0.057662</td>\n",
       "      <td>0.060297</td>\n",
       "      <td>-0.020012</td>\n",
       "    </tr>\n",
       "    <tr>\n",
       "      <th>branch_code</th>\n",
       "      <td>-0.000286</td>\n",
       "      <td>-0.380714</td>\n",
       "      <td>-0.058990</td>\n",
       "      <td>1.000000</td>\n",
       "      <td>0.041643</td>\n",
       "      <td>0.000181</td>\n",
       "      <td>0.000214</td>\n",
       "      <td>0.001955</td>\n",
       "      <td>0.001310</td>\n",
       "      <td>-0.013988</td>\n",
       "      <td>-0.023849</td>\n",
       "      <td>-0.016944</td>\n",
       "      <td>-0.017584</td>\n",
       "      <td>0.001031</td>\n",
       "      <td>0.002080</td>\n",
       "      <td>0.035469</td>\n",
       "    </tr>\n",
       "    <tr>\n",
       "      <th>days_since_last_transaction</th>\n",
       "      <td>0.009699</td>\n",
       "      <td>-0.081342</td>\n",
       "      <td>-0.012578</td>\n",
       "      <td>0.041643</td>\n",
       "      <td>1.000000</td>\n",
       "      <td>-0.017561</td>\n",
       "      <td>-0.012221</td>\n",
       "      <td>-0.010567</td>\n",
       "      <td>-0.005229</td>\n",
       "      <td>-0.030271</td>\n",
       "      <td>-0.064680</td>\n",
       "      <td>-0.035210</td>\n",
       "      <td>-0.062418</td>\n",
       "      <td>-0.015440</td>\n",
       "      <td>-0.009708</td>\n",
       "      <td>-0.040030</td>\n",
       "    </tr>\n",
       "    <tr>\n",
       "      <th>current_balance</th>\n",
       "      <td>0.006589</td>\n",
       "      <td>0.002986</td>\n",
       "      <td>0.054346</td>\n",
       "      <td>0.000181</td>\n",
       "      <td>-0.017561</td>\n",
       "      <td>1.000000</td>\n",
       "      <td>0.947276</td>\n",
       "      <td>0.958307</td>\n",
       "      <td>0.714600</td>\n",
       "      <td>0.030371</td>\n",
       "      <td>0.061754</td>\n",
       "      <td>0.044412</td>\n",
       "      <td>0.081247</td>\n",
       "      <td>0.983412</td>\n",
       "      <td>0.942207</td>\n",
       "      <td>-0.024181</td>\n",
       "    </tr>\n",
       "    <tr>\n",
       "      <th>previous_month_end_balance</th>\n",
       "      <td>0.005819</td>\n",
       "      <td>0.004518</td>\n",
       "      <td>0.058342</td>\n",
       "      <td>0.000214</td>\n",
       "      <td>-0.012221</td>\n",
       "      <td>0.947276</td>\n",
       "      <td>1.000000</td>\n",
       "      <td>0.970530</td>\n",
       "      <td>0.722998</td>\n",
       "      <td>0.032493</td>\n",
       "      <td>0.114222</td>\n",
       "      <td>0.066329</td>\n",
       "      <td>0.109606</td>\n",
       "      <td>0.974714</td>\n",
       "      <td>0.969605</td>\n",
       "      <td>0.006886</td>\n",
       "    </tr>\n",
       "    <tr>\n",
       "      <th>average_monthly_balance_prevQ</th>\n",
       "      <td>0.004485</td>\n",
       "      <td>0.003433</td>\n",
       "      <td>0.061708</td>\n",
       "      <td>0.001955</td>\n",
       "      <td>-0.010567</td>\n",
       "      <td>0.958307</td>\n",
       "      <td>0.970530</td>\n",
       "      <td>1.000000</td>\n",
       "      <td>0.763495</td>\n",
       "      <td>0.033639</td>\n",
       "      <td>0.085699</td>\n",
       "      <td>0.060579</td>\n",
       "      <td>0.121272</td>\n",
       "      <td>0.976290</td>\n",
       "      <td>0.994038</td>\n",
       "      <td>0.011960</td>\n",
       "    </tr>\n",
       "    <tr>\n",
       "      <th>average_monthly_balance_prevQ2</th>\n",
       "      <td>-0.002532</td>\n",
       "      <td>0.002244</td>\n",
       "      <td>0.059607</td>\n",
       "      <td>0.001310</td>\n",
       "      <td>-0.005229</td>\n",
       "      <td>0.714600</td>\n",
       "      <td>0.722998</td>\n",
       "      <td>0.763495</td>\n",
       "      <td>1.000000</td>\n",
       "      <td>0.036271</td>\n",
       "      <td>0.062264</td>\n",
       "      <td>0.045239</td>\n",
       "      <td>0.102519</td>\n",
       "      <td>0.725826</td>\n",
       "      <td>0.736635</td>\n",
       "      <td>0.018376</td>\n",
       "    </tr>\n",
       "    <tr>\n",
       "      <th>current_month_credit</th>\n",
       "      <td>0.002494</td>\n",
       "      <td>0.002848</td>\n",
       "      <td>0.023840</td>\n",
       "      <td>-0.013988</td>\n",
       "      <td>-0.030271</td>\n",
       "      <td>0.030371</td>\n",
       "      <td>0.032493</td>\n",
       "      <td>0.033639</td>\n",
       "      <td>0.036271</td>\n",
       "      <td>1.000000</td>\n",
       "      <td>0.168561</td>\n",
       "      <td>0.937021</td>\n",
       "      <td>0.135729</td>\n",
       "      <td>0.034182</td>\n",
       "      <td>0.038254</td>\n",
       "      <td>0.020755</td>\n",
       "    </tr>\n",
       "    <tr>\n",
       "      <th>previous_month_credit</th>\n",
       "      <td>-0.006414</td>\n",
       "      <td>0.028034</td>\n",
       "      <td>0.029961</td>\n",
       "      <td>-0.023849</td>\n",
       "      <td>-0.064680</td>\n",
       "      <td>0.061754</td>\n",
       "      <td>0.114222</td>\n",
       "      <td>0.085699</td>\n",
       "      <td>0.062264</td>\n",
       "      <td>0.168561</td>\n",
       "      <td>1.000000</td>\n",
       "      <td>0.165092</td>\n",
       "      <td>0.733953</td>\n",
       "      <td>0.085320</td>\n",
       "      <td>0.108496</td>\n",
       "      <td>0.042179</td>\n",
       "    </tr>\n",
       "    <tr>\n",
       "      <th>current_month_debit</th>\n",
       "      <td>0.002603</td>\n",
       "      <td>0.005406</td>\n",
       "      <td>0.027702</td>\n",
       "      <td>-0.016944</td>\n",
       "      <td>-0.035210</td>\n",
       "      <td>0.044412</td>\n",
       "      <td>0.066329</td>\n",
       "      <td>0.060579</td>\n",
       "      <td>0.045239</td>\n",
       "      <td>0.937021</td>\n",
       "      <td>0.165092</td>\n",
       "      <td>1.000000</td>\n",
       "      <td>0.191755</td>\n",
       "      <td>0.069720</td>\n",
       "      <td>0.063375</td>\n",
       "      <td>0.048041</td>\n",
       "    </tr>\n",
       "    <tr>\n",
       "      <th>previous_month_debit</th>\n",
       "      <td>-0.008760</td>\n",
       "      <td>0.023949</td>\n",
       "      <td>0.033296</td>\n",
       "      <td>-0.017584</td>\n",
       "      <td>-0.062418</td>\n",
       "      <td>0.081247</td>\n",
       "      <td>0.109606</td>\n",
       "      <td>0.121272</td>\n",
       "      <td>0.102519</td>\n",
       "      <td>0.135729</td>\n",
       "      <td>0.733953</td>\n",
       "      <td>0.191755</td>\n",
       "      <td>1.000000</td>\n",
       "      <td>0.102010</td>\n",
       "      <td>0.139723</td>\n",
       "      <td>0.073058</td>\n",
       "    </tr>\n",
       "    <tr>\n",
       "      <th>current_month_balance</th>\n",
       "      <td>0.005140</td>\n",
       "      <td>0.001638</td>\n",
       "      <td>0.057662</td>\n",
       "      <td>0.001031</td>\n",
       "      <td>-0.015440</td>\n",
       "      <td>0.983412</td>\n",
       "      <td>0.974714</td>\n",
       "      <td>0.976290</td>\n",
       "      <td>0.725826</td>\n",
       "      <td>0.034182</td>\n",
       "      <td>0.085320</td>\n",
       "      <td>0.069720</td>\n",
       "      <td>0.102010</td>\n",
       "      <td>1.000000</td>\n",
       "      <td>0.963276</td>\n",
       "      <td>-0.006391</td>\n",
       "    </tr>\n",
       "    <tr>\n",
       "      <th>previous_month_balance</th>\n",
       "      <td>0.004553</td>\n",
       "      <td>0.003448</td>\n",
       "      <td>0.060297</td>\n",
       "      <td>0.002080</td>\n",
       "      <td>-0.009708</td>\n",
       "      <td>0.942207</td>\n",
       "      <td>0.969605</td>\n",
       "      <td>0.994038</td>\n",
       "      <td>0.736635</td>\n",
       "      <td>0.038254</td>\n",
       "      <td>0.108496</td>\n",
       "      <td>0.063375</td>\n",
       "      <td>0.139723</td>\n",
       "      <td>0.963276</td>\n",
       "      <td>1.000000</td>\n",
       "      <td>0.014593</td>\n",
       "    </tr>\n",
       "    <tr>\n",
       "      <th>churn</th>\n",
       "      <td>-0.002723</td>\n",
       "      <td>-0.064637</td>\n",
       "      <td>-0.020012</td>\n",
       "      <td>0.035469</td>\n",
       "      <td>-0.040030</td>\n",
       "      <td>-0.024181</td>\n",
       "      <td>0.006886</td>\n",
       "      <td>0.011960</td>\n",
       "      <td>0.018376</td>\n",
       "      <td>0.020755</td>\n",
       "      <td>0.042179</td>\n",
       "      <td>0.048041</td>\n",
       "      <td>0.073058</td>\n",
       "      <td>-0.006391</td>\n",
       "      <td>0.014593</td>\n",
       "      <td>1.000000</td>\n",
       "    </tr>\n",
       "  </tbody>\n",
       "</table>\n",
       "</div>"
      ],
      "text/plain": [
       "                                customer_id   vintage       age  branch_code  \\\n",
       "customer_id                        1.000000 -0.006093 -0.000442    -0.000286   \n",
       "vintage                           -0.006093  1.000000  0.227390    -0.380714   \n",
       "age                               -0.000442  0.227390  1.000000    -0.058990   \n",
       "branch_code                       -0.000286 -0.380714 -0.058990     1.000000   \n",
       "days_since_last_transaction        0.009699 -0.081342 -0.012578     0.041643   \n",
       "current_balance                    0.006589  0.002986  0.054346     0.000181   \n",
       "previous_month_end_balance         0.005819  0.004518  0.058342     0.000214   \n",
       "average_monthly_balance_prevQ      0.004485  0.003433  0.061708     0.001955   \n",
       "average_monthly_balance_prevQ2    -0.002532  0.002244  0.059607     0.001310   \n",
       "current_month_credit               0.002494  0.002848  0.023840    -0.013988   \n",
       "previous_month_credit             -0.006414  0.028034  0.029961    -0.023849   \n",
       "current_month_debit                0.002603  0.005406  0.027702    -0.016944   \n",
       "previous_month_debit              -0.008760  0.023949  0.033296    -0.017584   \n",
       "current_month_balance              0.005140  0.001638  0.057662     0.001031   \n",
       "previous_month_balance             0.004553  0.003448  0.060297     0.002080   \n",
       "churn                             -0.002723 -0.064637 -0.020012     0.035469   \n",
       "\n",
       "                                days_since_last_transaction  current_balance  \\\n",
       "customer_id                                        0.009699         0.006589   \n",
       "vintage                                           -0.081342         0.002986   \n",
       "age                                               -0.012578         0.054346   \n",
       "branch_code                                        0.041643         0.000181   \n",
       "days_since_last_transaction                        1.000000        -0.017561   \n",
       "current_balance                                   -0.017561         1.000000   \n",
       "previous_month_end_balance                        -0.012221         0.947276   \n",
       "average_monthly_balance_prevQ                     -0.010567         0.958307   \n",
       "average_monthly_balance_prevQ2                    -0.005229         0.714600   \n",
       "current_month_credit                              -0.030271         0.030371   \n",
       "previous_month_credit                             -0.064680         0.061754   \n",
       "current_month_debit                               -0.035210         0.044412   \n",
       "previous_month_debit                              -0.062418         0.081247   \n",
       "current_month_balance                             -0.015440         0.983412   \n",
       "previous_month_balance                            -0.009708         0.942207   \n",
       "churn                                             -0.040030        -0.024181   \n",
       "\n",
       "                                previous_month_end_balance  \\\n",
       "customer_id                                       0.005819   \n",
       "vintage                                           0.004518   \n",
       "age                                               0.058342   \n",
       "branch_code                                       0.000214   \n",
       "days_since_last_transaction                      -0.012221   \n",
       "current_balance                                   0.947276   \n",
       "previous_month_end_balance                        1.000000   \n",
       "average_monthly_balance_prevQ                     0.970530   \n",
       "average_monthly_balance_prevQ2                    0.722998   \n",
       "current_month_credit                              0.032493   \n",
       "previous_month_credit                             0.114222   \n",
       "current_month_debit                               0.066329   \n",
       "previous_month_debit                              0.109606   \n",
       "current_month_balance                             0.974714   \n",
       "previous_month_balance                            0.969605   \n",
       "churn                                             0.006886   \n",
       "\n",
       "                                average_monthly_balance_prevQ  \\\n",
       "customer_id                                          0.004485   \n",
       "vintage                                              0.003433   \n",
       "age                                                  0.061708   \n",
       "branch_code                                          0.001955   \n",
       "days_since_last_transaction                         -0.010567   \n",
       "current_balance                                      0.958307   \n",
       "previous_month_end_balance                           0.970530   \n",
       "average_monthly_balance_prevQ                        1.000000   \n",
       "average_monthly_balance_prevQ2                       0.763495   \n",
       "current_month_credit                                 0.033639   \n",
       "previous_month_credit                                0.085699   \n",
       "current_month_debit                                  0.060579   \n",
       "previous_month_debit                                 0.121272   \n",
       "current_month_balance                                0.976290   \n",
       "previous_month_balance                               0.994038   \n",
       "churn                                                0.011960   \n",
       "\n",
       "                                average_monthly_balance_prevQ2  \\\n",
       "customer_id                                          -0.002532   \n",
       "vintage                                               0.002244   \n",
       "age                                                   0.059607   \n",
       "branch_code                                           0.001310   \n",
       "days_since_last_transaction                          -0.005229   \n",
       "current_balance                                       0.714600   \n",
       "previous_month_end_balance                            0.722998   \n",
       "average_monthly_balance_prevQ                         0.763495   \n",
       "average_monthly_balance_prevQ2                        1.000000   \n",
       "current_month_credit                                  0.036271   \n",
       "previous_month_credit                                 0.062264   \n",
       "current_month_debit                                   0.045239   \n",
       "previous_month_debit                                  0.102519   \n",
       "current_month_balance                                 0.725826   \n",
       "previous_month_balance                                0.736635   \n",
       "churn                                                 0.018376   \n",
       "\n",
       "                                current_month_credit  previous_month_credit  \\\n",
       "customer_id                                 0.002494              -0.006414   \n",
       "vintage                                     0.002848               0.028034   \n",
       "age                                         0.023840               0.029961   \n",
       "branch_code                                -0.013988              -0.023849   \n",
       "days_since_last_transaction                -0.030271              -0.064680   \n",
       "current_balance                             0.030371               0.061754   \n",
       "previous_month_end_balance                  0.032493               0.114222   \n",
       "average_monthly_balance_prevQ               0.033639               0.085699   \n",
       "average_monthly_balance_prevQ2              0.036271               0.062264   \n",
       "current_month_credit                        1.000000               0.168561   \n",
       "previous_month_credit                       0.168561               1.000000   \n",
       "current_month_debit                         0.937021               0.165092   \n",
       "previous_month_debit                        0.135729               0.733953   \n",
       "current_month_balance                       0.034182               0.085320   \n",
       "previous_month_balance                      0.038254               0.108496   \n",
       "churn                                       0.020755               0.042179   \n",
       "\n",
       "                                current_month_debit  previous_month_debit  \\\n",
       "customer_id                                0.002603             -0.008760   \n",
       "vintage                                    0.005406              0.023949   \n",
       "age                                        0.027702              0.033296   \n",
       "branch_code                               -0.016944             -0.017584   \n",
       "days_since_last_transaction               -0.035210             -0.062418   \n",
       "current_balance                            0.044412              0.081247   \n",
       "previous_month_end_balance                 0.066329              0.109606   \n",
       "average_monthly_balance_prevQ              0.060579              0.121272   \n",
       "average_monthly_balance_prevQ2             0.045239              0.102519   \n",
       "current_month_credit                       0.937021              0.135729   \n",
       "previous_month_credit                      0.165092              0.733953   \n",
       "current_month_debit                        1.000000              0.191755   \n",
       "previous_month_debit                       0.191755              1.000000   \n",
       "current_month_balance                      0.069720              0.102010   \n",
       "previous_month_balance                     0.063375              0.139723   \n",
       "churn                                      0.048041              0.073058   \n",
       "\n",
       "                                current_month_balance  previous_month_balance  \\\n",
       "customer_id                                  0.005140                0.004553   \n",
       "vintage                                      0.001638                0.003448   \n",
       "age                                          0.057662                0.060297   \n",
       "branch_code                                  0.001031                0.002080   \n",
       "days_since_last_transaction                 -0.015440               -0.009708   \n",
       "current_balance                              0.983412                0.942207   \n",
       "previous_month_end_balance                   0.974714                0.969605   \n",
       "average_monthly_balance_prevQ                0.976290                0.994038   \n",
       "average_monthly_balance_prevQ2               0.725826                0.736635   \n",
       "current_month_credit                         0.034182                0.038254   \n",
       "previous_month_credit                        0.085320                0.108496   \n",
       "current_month_debit                          0.069720                0.063375   \n",
       "previous_month_debit                         0.102010                0.139723   \n",
       "current_month_balance                        1.000000                0.963276   \n",
       "previous_month_balance                       0.963276                1.000000   \n",
       "churn                                       -0.006391                0.014593   \n",
       "\n",
       "                                   churn  \n",
       "customer_id                    -0.002723  \n",
       "vintage                        -0.064637  \n",
       "age                            -0.020012  \n",
       "branch_code                     0.035469  \n",
       "days_since_last_transaction    -0.040030  \n",
       "current_balance                -0.024181  \n",
       "previous_month_end_balance      0.006886  \n",
       "average_monthly_balance_prevQ   0.011960  \n",
       "average_monthly_balance_prevQ2  0.018376  \n",
       "current_month_credit            0.020755  \n",
       "previous_month_credit           0.042179  \n",
       "current_month_debit             0.048041  \n",
       "previous_month_debit            0.073058  \n",
       "current_month_balance          -0.006391  \n",
       "previous_month_balance          0.014593  \n",
       "churn                           1.000000  "
      ]
     },
     "execution_count": 13,
     "metadata": {},
     "output_type": "execute_result"
    }
   ],
   "source": [
    "# correlation\n",
    "data.corr()"
   ]
  },
  {
   "cell_type": "markdown",
   "metadata": {},
   "source": [
    "<b> Univariate Analysis using Box Plot </b>"
   ]
  },
  {
   "cell_type": "code",
   "execution_count": 14,
   "metadata": {
    "scrolled": false
   },
   "outputs": [
    {
     "data": {
      "image/png": "[encoded data removed]",
      "text/plain": [
       "<Figure size 432x288 with 1 Axes>"
      ]
     },
     "metadata": {
      "needs_background": "light"
     },
     "output_type": "display_data"
    },
    {
     "data": {
      "image/png": "[encoded data removed]",
      "text/plain": [
       "<Figure size 432x288 with 1 Axes>"
      ]
     },
     "metadata": {
      "needs_background": "light"
     },
     "output_type": "display_data"
    },
    {
     "data": {
      "image/png": "[encoded data removed]",
      "text/plain": [
       "<Figure size 432x288 with 1 Axes>"
      ]
     },
     "metadata": {
      "needs_background": "light"
     },
     "output_type": "display_data"
    },
    {
     "data": {
      "image/png": "[encoded data removed]",
      "text/plain": [
       "<Figure size 432x288 with 1 Axes>"
      ]
     },
     "metadata": {
      "needs_background": "light"
     },
     "output_type": "display_data"
    },
    {
     "data": {
      "image/png": "[encoded data removed]",
      "text/plain": [
       "<Figure size 432x288 with 1 Axes>"
      ]
     },
     "metadata": {
      "needs_background": "light"
     },
     "output_type": "display_data"
    },
    {
     "data": {
      "image/png": "[encoded data removed]",
      "text/plain": [
       "<Figure size 432x288 with 1 Axes>"
      ]
     },
     "metadata": {
      "needs_background": "light"
     },
     "output_type": "display_data"
    },
    {
     "data": {
      "image/png": "[encoded data removed]",
      "text/plain": [
       "<Figure size 432x288 with 1 Axes>"
      ]
     },
     "metadata": {
      "needs_background": "light"
     },
     "output_type": "display_data"
    },
    {
     "data": {
      "image/png": "[encoded data removed]",
      "text/plain": [
       "<Figure size 432x288 with 1 Axes>"
      ]
     },
     "metadata": {
      "needs_background": "light"
     },
     "output_type": "display_data"
    },
    {
     "data": {
      "image/png": "[encoded data removed]",
      "text/plain": [
       "<Figure size 432x288 with 1 Axes>"
      ]
     },
     "metadata": {
      "needs_background": "light"
     },
     "output_type": "display_data"
    },
    {
     "data": {
      "image/png": "[encoded data removed]",
      "text/plain": [
       "<Figure size 432x288 with 1 Axes>"
      ]
     },
     "metadata": {
      "needs_background": "light"
     },
     "output_type": "display_data"
    },
    {
     "data": {
      "image/png": "[encoded data removed]",
      "text/plain": [
       "<Figure size 432x288 with 1 Axes>"
      ]
     },
     "metadata": {
      "needs_background": "light"
     },
     "output_type": "display_data"
    },
    {
     "data": {
      "image/png": "[encoded data removed]",
      "text/plain": [
       "<Figure size 432x288 with 1 Axes>"
      ]
     },
     "metadata": {
      "needs_background": "light"
     },
     "output_type": "display_data"
    },
    {
     "data": {
      "image/png": "[encoded data removed]",
      "text/plain": [
       "<Figure size 432x288 with 1 Axes>"
      ]
     },
     "metadata": {
      "needs_background": "light"
     },
     "output_type": "display_data"
    },
    {
     "data": {
      "image/png": "[encoded data removed]",
      "text/plain": [
       "<Figure size 432x288 with 1 Axes>"
      ]
     },
     "metadata": {
      "needs_background": "light"
     },
     "output_type": "display_data"
    },
    {
     "data": {
      "image/png": "[encoded data removed]",
      "text/plain": [
       "<Figure size 432x288 with 1 Axes>"
      ]
     },
     "metadata": {
      "needs_background": "light"
     },
     "output_type": "display_data"
    },
    {
     "data": {
      "image/png": "[encoded data removed]",
      "text/plain": [
       "<Figure size 432x288 with 1 Axes>"
      ]
     },
     "metadata": {
      "needs_background": "light"
     },
     "output_type": "display_data"
    }
   ],
   "source": [
    "for i in data.columns:\n",
    "    if data[i].dtype != 'object':\n",
    "        fig, axs = plt.subplots()\n",
    "        axs.boxplot(data[i])\n",
    "        axs.set_title(i)"
   ]
  },
  {
   "cell_type": "markdown",
   "metadata": {},
   "source": [
    "<b> Here I have not dealt with the outliers because the data is of money and such variations do exist in real banks so reducing them will effect the generality of my model so I have left it as it is. <b/>"
   ]
  },
  {
   "cell_type": "code",
   "execution_count": 15,
   "metadata": {
    "scrolled": true
   },
   "outputs": [],
   "source": [
    "# data.loc[data['vintage']>5500,'vintage']=np.mean(data['vintage'])\n",
    "# data['vintage'].plot.box()"
   ]
  },
  {
   "cell_type": "code",
   "execution_count": 16,
   "metadata": {},
   "outputs": [],
   "source": [
    "# data.loc[data['days_since_last_transaction']>90,'days_since_last_transaction']=np.mean(data['days_since_last_transaction'])\n",
    "# data['days_since_last_transaction'].plot.box()"
   ]
  },
  {
   "cell_type": "code",
   "execution_count": 17,
   "metadata": {},
   "outputs": [],
   "source": [
    "# #np.power(data['current_balance'],1/3).plot.hist()\n",
    "# data['current_balance']=np.log(data['current_balance'])\n",
    "# data['current_balance'].plot.box()\n",
    "# # data['current_balance'].plot.box()"
   ]
  },
  {
   "cell_type": "code",
   "execution_count": 18,
   "metadata": {
    "scrolled": true
   },
   "outputs": [],
   "source": [
    "# data.loc[data['current_balance']<0.4,'current_balance']=np.mean(data['current_balance'])\n",
    "# data['current_balance'].plot.box()"
   ]
  },
  {
   "cell_type": "code",
   "execution_count": 19,
   "metadata": {},
   "outputs": [],
   "source": [
    "# data.loc[data['']>90,'']=np.mean(data[''])\n",
    "# data[''].plot.box()"
   ]
  },
  {
   "cell_type": "code",
   "execution_count": 20,
   "metadata": {},
   "outputs": [],
   "source": [
    "# data.loc[data['']>90,'']=np.mean(data[''])\n",
    "# data[''].plot.box()"
   ]
  },
  {
   "cell_type": "code",
   "execution_count": 21,
   "metadata": {},
   "outputs": [],
   "source": [
    "# data.loc[data['']>90,'']=np.mean(data[''])\n",
    "# data[''].plot.box()"
   ]
  },
  {
   "cell_type": "code",
   "execution_count": 22,
   "metadata": {},
   "outputs": [],
   "source": [
    "# data.loc[data['']>90,'']=np.mean(data[''])\n",
    "# data[''].plot.box()"
   ]
  },
  {
   "cell_type": "code",
   "execution_count": 23,
   "metadata": {},
   "outputs": [],
   "source": [
    "# data.loc[data['']>90,'']=np.mean(data[''])\n",
    "# data[''].plot.box()"
   ]
  },
  {
   "cell_type": "code",
   "execution_count": 24,
   "metadata": {},
   "outputs": [],
   "source": [
    "# data.loc[data['']>90,'']=np.mean(data[''])\n",
    "# data[''].plot.box()"
   ]
  },
  {
   "cell_type": "code",
   "execution_count": 25,
   "metadata": {},
   "outputs": [],
   "source": [
    "# data.loc[data['']>90,'']=np.mean(data[''])\n",
    "# data[''].plot.box()"
   ]
  },
  {
   "cell_type": "code",
   "execution_count": 26,
   "metadata": {},
   "outputs": [],
   "source": [
    "# data.loc[data['']>90,'']=np.mean(data[''])\n",
    "# data[''].plot.box()"
   ]
  },
  {
   "cell_type": "markdown",
   "metadata": {},
   "source": [
    "### Using One-Hot Encoding"
   ]
  },
  {
   "cell_type": "code",
   "execution_count": 27,
   "metadata": {
    "scrolled": true
   },
   "outputs": [
    {
     "data": {
      "text/html": [
       "<div>\n",
       "<style scoped>\n",
       "    .dataframe tbody tr th:only-of-type {\n",
       "        vertical-align: middle;\n",
       "    }\n",
       "\n",
       "    .dataframe tbody tr th {\n",
       "        vertical-align: top;\n",
       "    }\n",
       "\n",
       "    .dataframe thead th {\n",
       "        text-align: right;\n",
       "    }\n",
       "</style>\n",
       "<table border=\"1\" class=\"dataframe\">\n",
       "  <thead>\n",
       "    <tr style=\"text-align: right;\">\n",
       "      <th></th>\n",
       "      <th>customer_id</th>\n",
       "      <th>vintage</th>\n",
       "      <th>age</th>\n",
       "      <th>branch_code</th>\n",
       "      <th>days_since_last_transaction</th>\n",
       "      <th>current_balance</th>\n",
       "      <th>previous_month_end_balance</th>\n",
       "      <th>average_monthly_balance_prevQ</th>\n",
       "      <th>average_monthly_balance_prevQ2</th>\n",
       "      <th>current_month_credit</th>\n",
       "      <th>...</th>\n",
       "      <th>city_1643.0</th>\n",
       "      <th>city_1644.0</th>\n",
       "      <th>city_1645.0</th>\n",
       "      <th>city_1646.0</th>\n",
       "      <th>city_1647.0</th>\n",
       "      <th>city_1648.0</th>\n",
       "      <th>city_1649.0</th>\n",
       "      <th>customer_nw_category_1</th>\n",
       "      <th>customer_nw_category_2</th>\n",
       "      <th>customer_nw_category_3</th>\n",
       "    </tr>\n",
       "  </thead>\n",
       "  <tbody>\n",
       "    <tr>\n",
       "      <th>0</th>\n",
       "      <td>1</td>\n",
       "      <td>3135</td>\n",
       "      <td>66</td>\n",
       "      <td>755</td>\n",
       "      <td>224.0</td>\n",
       "      <td>1458.71</td>\n",
       "      <td>1458.71</td>\n",
       "      <td>1458.71</td>\n",
       "      <td>1449.07</td>\n",
       "      <td>0.20</td>\n",
       "      <td>...</td>\n",
       "      <td>0</td>\n",
       "      <td>0</td>\n",
       "      <td>0</td>\n",
       "      <td>0</td>\n",
       "      <td>0</td>\n",
       "      <td>0</td>\n",
       "      <td>0</td>\n",
       "      <td>0</td>\n",
       "      <td>1</td>\n",
       "      <td>0</td>\n",
       "    </tr>\n",
       "    <tr>\n",
       "      <th>1</th>\n",
       "      <td>2</td>\n",
       "      <td>310</td>\n",
       "      <td>35</td>\n",
       "      <td>3214</td>\n",
       "      <td>60.0</td>\n",
       "      <td>5390.37</td>\n",
       "      <td>8704.66</td>\n",
       "      <td>7799.26</td>\n",
       "      <td>12419.41</td>\n",
       "      <td>0.56</td>\n",
       "      <td>...</td>\n",
       "      <td>0</td>\n",
       "      <td>0</td>\n",
       "      <td>0</td>\n",
       "      <td>0</td>\n",
       "      <td>0</td>\n",
       "      <td>0</td>\n",
       "      <td>0</td>\n",
       "      <td>0</td>\n",
       "      <td>1</td>\n",
       "      <td>0</td>\n",
       "    </tr>\n",
       "    <tr>\n",
       "      <th>2</th>\n",
       "      <td>4</td>\n",
       "      <td>2356</td>\n",
       "      <td>31</td>\n",
       "      <td>41</td>\n",
       "      <td>30.0</td>\n",
       "      <td>3913.16</td>\n",
       "      <td>5815.29</td>\n",
       "      <td>4910.17</td>\n",
       "      <td>2815.94</td>\n",
       "      <td>0.61</td>\n",
       "      <td>...</td>\n",
       "      <td>0</td>\n",
       "      <td>0</td>\n",
       "      <td>0</td>\n",
       "      <td>0</td>\n",
       "      <td>0</td>\n",
       "      <td>0</td>\n",
       "      <td>0</td>\n",
       "      <td>0</td>\n",
       "      <td>1</td>\n",
       "      <td>0</td>\n",
       "    </tr>\n",
       "    <tr>\n",
       "      <th>3</th>\n",
       "      <td>5</td>\n",
       "      <td>478</td>\n",
       "      <td>90</td>\n",
       "      <td>582</td>\n",
       "      <td>147.0</td>\n",
       "      <td>2291.91</td>\n",
       "      <td>2291.91</td>\n",
       "      <td>2084.54</td>\n",
       "      <td>1006.54</td>\n",
       "      <td>0.47</td>\n",
       "      <td>...</td>\n",
       "      <td>0</td>\n",
       "      <td>0</td>\n",
       "      <td>0</td>\n",
       "      <td>0</td>\n",
       "      <td>0</td>\n",
       "      <td>0</td>\n",
       "      <td>0</td>\n",
       "      <td>0</td>\n",
       "      <td>1</td>\n",
       "      <td>0</td>\n",
       "    </tr>\n",
       "    <tr>\n",
       "      <th>4</th>\n",
       "      <td>6</td>\n",
       "      <td>2531</td>\n",
       "      <td>42</td>\n",
       "      <td>388</td>\n",
       "      <td>58.0</td>\n",
       "      <td>927.72</td>\n",
       "      <td>1401.72</td>\n",
       "      <td>1643.31</td>\n",
       "      <td>1871.12</td>\n",
       "      <td>0.33</td>\n",
       "      <td>...</td>\n",
       "      <td>0</td>\n",
       "      <td>0</td>\n",
       "      <td>0</td>\n",
       "      <td>0</td>\n",
       "      <td>0</td>\n",
       "      <td>0</td>\n",
       "      <td>0</td>\n",
       "      <td>0</td>\n",
       "      <td>0</td>\n",
       "      <td>1</td>\n",
       "    </tr>\n",
       "  </tbody>\n",
       "</table>\n",
       "<p>5 rows × 1645 columns</p>\n",
       "</div>"
      ],
      "text/plain": [
       "   customer_id  vintage  age  branch_code  days_since_last_transaction  \\\n",
       "0            1     3135   66          755                        224.0   \n",
       "1            2      310   35         3214                         60.0   \n",
       "2            4     2356   31           41                         30.0   \n",
       "3            5      478   90          582                        147.0   \n",
       "4            6     2531   42          388                         58.0   \n",
       "\n",
       "   current_balance  previous_month_end_balance  average_monthly_balance_prevQ  \\\n",
       "0          1458.71                     1458.71                        1458.71   \n",
       "1          5390.37                     8704.66                        7799.26   \n",
       "2          3913.16                     5815.29                        4910.17   \n",
       "3          2291.91                     2291.91                        2084.54   \n",
       "4           927.72                     1401.72                        1643.31   \n",
       "\n",
       "   average_monthly_balance_prevQ2  current_month_credit  ...  city_1643.0  \\\n",
       "0                         1449.07                  0.20  ...            0   \n",
       "1                        12419.41                  0.56  ...            0   \n",
       "2                         2815.94                  0.61  ...            0   \n",
       "3                         1006.54                  0.47  ...            0   \n",
       "4                         1871.12                  0.33  ...            0   \n",
       "\n",
       "   city_1644.0  city_1645.0  city_1646.0  city_1647.0  city_1648.0  \\\n",
       "0            0            0            0            0            0   \n",
       "1            0            0            0            0            0   \n",
       "2            0            0            0            0            0   \n",
       "3            0            0            0            0            0   \n",
       "4            0            0            0            0            0   \n",
       "\n",
       "   city_1649.0  customer_nw_category_1  customer_nw_category_2  \\\n",
       "0            0                       0                       1   \n",
       "1            0                       0                       1   \n",
       "2            0                       0                       1   \n",
       "3            0                       0                       1   \n",
       "4            0                       0                       0   \n",
       "\n",
       "   customer_nw_category_3  \n",
       "0                       0  \n",
       "1                       0  \n",
       "2                       0  \n",
       "3                       0  \n",
       "4                       1  \n",
       "\n",
       "[5 rows x 1645 columns]"
      ]
     },
     "execution_count": 27,
     "metadata": {},
     "output_type": "execute_result"
    }
   ],
   "source": [
    "data=pd.get_dummies(data)\n",
    "data.head()"
   ]
  },
  {
   "cell_type": "markdown",
   "metadata": {},
   "source": [
    "### Separating independent and dependent variables "
   ]
  },
  {
   "cell_type": "code",
   "execution_count": 28,
   "metadata": {
    "scrolled": true
   },
   "outputs": [
    {
     "data": {
      "text/plain": [
       "((28382, 1644), (28382,))"
      ]
     },
     "execution_count": 28,
     "metadata": {},
     "output_type": "execute_result"
    }
   ],
   "source": [
    "x = data.drop(['churn'],axis=1)  # independent variable\n",
    "y = data['churn']  # dependent variable\n",
    "x.shape, y.shape"
   ]
  },
  {
   "cell_type": "markdown",
   "metadata": {},
   "source": [
    "<b> Using Standard Scaler to scale the data </b>"
   ]
  },
  {
   "cell_type": "code",
   "execution_count": 29,
   "metadata": {},
   "outputs": [],
   "source": [
    "from sklearn.preprocessing import StandardScaler\n",
    "\n",
    "scaler=StandardScaler()"
   ]
  },
  {
   "cell_type": "code",
   "execution_count": 30,
   "metadata": {
    "scrolled": true
   },
   "outputs": [
    {
     "data": {
      "text/html": [
       "<div>\n",
       "<style scoped>\n",
       "    .dataframe tbody tr th:only-of-type {\n",
       "        vertical-align: middle;\n",
       "    }\n",
       "\n",
       "    .dataframe tbody tr th {\n",
       "        vertical-align: top;\n",
       "    }\n",
       "\n",
       "    .dataframe thead th {\n",
       "        text-align: right;\n",
       "    }\n",
       "</style>\n",
       "<table border=\"1\" class=\"dataframe\">\n",
       "  <thead>\n",
       "    <tr style=\"text-align: right;\">\n",
       "      <th></th>\n",
       "      <th>customer_id</th>\n",
       "      <th>vintage</th>\n",
       "      <th>age</th>\n",
       "      <th>branch_code</th>\n",
       "      <th>days_since_last_transaction</th>\n",
       "      <th>current_balance</th>\n",
       "      <th>previous_month_end_balance</th>\n",
       "      <th>average_monthly_balance_prevQ</th>\n",
       "      <th>average_monthly_balance_prevQ2</th>\n",
       "      <th>current_month_credit</th>\n",
       "      <th>...</th>\n",
       "      <th>city_1643.0</th>\n",
       "      <th>city_1644.0</th>\n",
       "      <th>city_1645.0</th>\n",
       "      <th>city_1646.0</th>\n",
       "      <th>city_1647.0</th>\n",
       "      <th>city_1648.0</th>\n",
       "      <th>city_1649.0</th>\n",
       "      <th>customer_nw_category_1</th>\n",
       "      <th>customer_nw_category_2</th>\n",
       "      <th>customer_nw_category_3</th>\n",
       "    </tr>\n",
       "  </thead>\n",
       "  <tbody>\n",
       "    <tr>\n",
       "      <th>0</th>\n",
       "      <td>-1.731304</td>\n",
       "      <td>0.478644</td>\n",
       "      <td>0.999147</td>\n",
       "      <td>-0.182318</td>\n",
       "      <td>1.927027</td>\n",
       "      <td>-0.139017</td>\n",
       "      <td>-0.141953</td>\n",
       "      <td>-0.144709</td>\n",
       "      <td>-0.127317</td>\n",
       "      <td>-0.044545</td>\n",
       "      <td>...</td>\n",
       "      <td>-0.043254</td>\n",
       "      <td>-0.018774</td>\n",
       "      <td>-0.015707</td>\n",
       "      <td>-0.005936</td>\n",
       "      <td>-0.014541</td>\n",
       "      <td>-0.028479</td>\n",
       "      <td>-0.005936</td>\n",
       "      <td>-0.38784</td>\n",
       "      <td>0.974396</td>\n",
       "      <td>-0.743959</td>\n",
       "    </tr>\n",
       "    <tr>\n",
       "      <th>1</th>\n",
       "      <td>-1.731190</td>\n",
       "      <td>-1.275909</td>\n",
       "      <td>-0.741756</td>\n",
       "      <td>2.439824</td>\n",
       "      <td>-0.066312</td>\n",
       "      <td>-0.046720</td>\n",
       "      <td>0.028425</td>\n",
       "      <td>0.007249</td>\n",
       "      <td>0.118793</td>\n",
       "      <td>-0.044540</td>\n",
       "      <td>...</td>\n",
       "      <td>-0.043254</td>\n",
       "      <td>-0.018774</td>\n",
       "      <td>-0.015707</td>\n",
       "      <td>-0.005936</td>\n",
       "      <td>-0.014541</td>\n",
       "      <td>-0.028479</td>\n",
       "      <td>-0.005936</td>\n",
       "      <td>-0.38784</td>\n",
       "      <td>0.974396</td>\n",
       "      <td>-0.743959</td>\n",
       "    </tr>\n",
       "    <tr>\n",
       "      <th>2</th>\n",
       "      <td>-1.730961</td>\n",
       "      <td>-0.005178</td>\n",
       "      <td>-0.966389</td>\n",
       "      <td>-0.943689</td>\n",
       "      <td>-0.430947</td>\n",
       "      <td>-0.081398</td>\n",
       "      <td>-0.039514</td>\n",
       "      <td>-0.061991</td>\n",
       "      <td>-0.096652</td>\n",
       "      <td>-0.044539</td>\n",
       "      <td>...</td>\n",
       "      <td>-0.043254</td>\n",
       "      <td>-0.018774</td>\n",
       "      <td>-0.015707</td>\n",
       "      <td>-0.005936</td>\n",
       "      <td>-0.014541</td>\n",
       "      <td>-0.028479</td>\n",
       "      <td>-0.005936</td>\n",
       "      <td>-0.38784</td>\n",
       "      <td>0.974396</td>\n",
       "      <td>-0.743959</td>\n",
       "    </tr>\n",
       "    <tr>\n",
       "      <th>3</th>\n",
       "      <td>-1.730847</td>\n",
       "      <td>-1.171568</td>\n",
       "      <td>2.346943</td>\n",
       "      <td>-0.366796</td>\n",
       "      <td>0.991130</td>\n",
       "      <td>-0.119457</td>\n",
       "      <td>-0.122361</td>\n",
       "      <td>-0.129711</td>\n",
       "      <td>-0.137244</td>\n",
       "      <td>-0.044541</td>\n",
       "      <td>...</td>\n",
       "      <td>-0.043254</td>\n",
       "      <td>-0.018774</td>\n",
       "      <td>-0.015707</td>\n",
       "      <td>-0.005936</td>\n",
       "      <td>-0.014541</td>\n",
       "      <td>-0.028479</td>\n",
       "      <td>-0.005936</td>\n",
       "      <td>-0.38784</td>\n",
       "      <td>0.974396</td>\n",
       "      <td>-0.743959</td>\n",
       "    </tr>\n",
       "    <tr>\n",
       "      <th>4</th>\n",
       "      <td>-1.730733</td>\n",
       "      <td>0.103512</td>\n",
       "      <td>-0.348649</td>\n",
       "      <td>-0.573667</td>\n",
       "      <td>-0.090621</td>\n",
       "      <td>-0.151482</td>\n",
       "      <td>-0.143293</td>\n",
       "      <td>-0.140285</td>\n",
       "      <td>-0.117848</td>\n",
       "      <td>-0.044543</td>\n",
       "      <td>...</td>\n",
       "      <td>-0.043254</td>\n",
       "      <td>-0.018774</td>\n",
       "      <td>-0.015707</td>\n",
       "      <td>-0.005936</td>\n",
       "      <td>-0.014541</td>\n",
       "      <td>-0.028479</td>\n",
       "      <td>-0.005936</td>\n",
       "      <td>-0.38784</td>\n",
       "      <td>-1.026277</td>\n",
       "      <td>1.344159</td>\n",
       "    </tr>\n",
       "  </tbody>\n",
       "</table>\n",
       "<p>5 rows × 1645 columns</p>\n",
       "</div>"
      ],
      "text/plain": [
       "   customer_id   vintage       age  branch_code  days_since_last_transaction  \\\n",
       "0    -1.731304  0.478644  0.999147    -0.182318                     1.927027   \n",
       "1    -1.731190 -1.275909 -0.741756     2.439824                    -0.066312   \n",
       "2    -1.730961 -0.005178 -0.966389    -0.943689                    -0.430947   \n",
       "3    -1.730847 -1.171568  2.346943    -0.366796                     0.991130   \n",
       "4    -1.730733  0.103512 -0.348649    -0.573667                    -0.090621   \n",
       "\n",
       "   current_balance  previous_month_end_balance  average_monthly_balance_prevQ  \\\n",
       "0        -0.139017                   -0.141953                      -0.144709   \n",
       "1        -0.046720                    0.028425                       0.007249   \n",
       "2        -0.081398                   -0.039514                      -0.061991   \n",
       "3        -0.119457                   -0.122361                      -0.129711   \n",
       "4        -0.151482                   -0.143293                      -0.140285   \n",
       "\n",
       "   average_monthly_balance_prevQ2  current_month_credit  ...  city_1643.0  \\\n",
       "0                       -0.127317             -0.044545  ...    -0.043254   \n",
       "1                        0.118793             -0.044540  ...    -0.043254   \n",
       "2                       -0.096652             -0.044539  ...    -0.043254   \n",
       "3                       -0.137244             -0.044541  ...    -0.043254   \n",
       "4                       -0.117848             -0.044543  ...    -0.043254   \n",
       "\n",
       "   city_1644.0  city_1645.0  city_1646.0  city_1647.0  city_1648.0  \\\n",
       "0    -0.018774    -0.015707    -0.005936    -0.014541    -0.028479   \n",
       "1    -0.018774    -0.015707    -0.005936    -0.014541    -0.028479   \n",
       "2    -0.018774    -0.015707    -0.005936    -0.014541    -0.028479   \n",
       "3    -0.018774    -0.015707    -0.005936    -0.014541    -0.028479   \n",
       "4    -0.018774    -0.015707    -0.005936    -0.014541    -0.028479   \n",
       "\n",
       "   city_1649.0  customer_nw_category_1  customer_nw_category_2  \\\n",
       "0    -0.005936                -0.38784                0.974396   \n",
       "1    -0.005936                -0.38784                0.974396   \n",
       "2    -0.005936                -0.38784                0.974396   \n",
       "3    -0.005936                -0.38784                0.974396   \n",
       "4    -0.005936                -0.38784               -1.026277   \n",
       "\n",
       "   customer_nw_category_3  \n",
       "0               -0.743959  \n",
       "1               -0.743959  \n",
       "2               -0.743959  \n",
       "3               -0.743959  \n",
       "4                1.344159  \n",
       "\n",
       "[5 rows x 1645 columns]"
      ]
     },
     "execution_count": 30,
     "metadata": {},
     "output_type": "execute_result"
    }
   ],
   "source": [
    "scaled_data=scaler.fit_transform(data)\n",
    "scaled_data=pd.DataFrame(scaled_data,columns=data.columns)\n",
    "scaled_data.head()"
   ]
  },
  {
   "cell_type": "code",
   "execution_count": 31,
   "metadata": {},
   "outputs": [
    {
     "data": {
      "text/plain": [
       "((28382, 1644), (28382,))"
      ]
     },
     "execution_count": 31,
     "metadata": {},
     "output_type": "execute_result"
    }
   ],
   "source": [
    "scaled_x = scaled_data.drop(['churn'],axis=1)\n",
    "scaled_y = scaled_data['churn']\n",
    "scaled_x.shape, scaled_y.shape"
   ]
  },
  {
   "cell_type": "markdown",
   "metadata": {},
   "source": [
    "### Train Test Split"
   ]
  },
  {
   "cell_type": "code",
   "execution_count": 32,
   "metadata": {},
   "outputs": [],
   "source": [
    "from sklearn.model_selection import train_test_split\n",
    "train_x,test_x,train_y,test_y = train_test_split(x,y, random_state = 56,test_size=0.30, stratify=y)"
   ]
  },
  {
   "cell_type": "code",
   "execution_count": 33,
   "metadata": {},
   "outputs": [],
   "source": [
    "scaled_train_x,scaled_test_x,scaled_train_y,scaled_test_y = train_test_split(scaled_x,scaled_y, random_state = 56,\n",
    "                                                                             test_size=0.30, stratify=y)"
   ]
  },
  {
   "cell_type": "code",
   "execution_count": 34,
   "metadata": {},
   "outputs": [
    {
     "data": {
      "text/plain": [
       "(0    0.814668\n",
       " 1    0.185332\n",
       " Name: churn, dtype: float64,\n",
       " 0    0.81468\n",
       " 1    0.18532\n",
       " Name: churn, dtype: float64)"
      ]
     },
     "execution_count": 34,
     "metadata": {},
     "output_type": "execute_result"
    }
   ],
   "source": [
    "train_y.value_counts(normalize=True),test_y.value_counts(normalize=True)"
   ]
  },
  {
   "cell_type": "markdown",
   "metadata": {},
   "source": [
    "# Logistic Regression"
   ]
  },
  {
   "cell_type": "code",
   "execution_count": 35,
   "metadata": {},
   "outputs": [],
   "source": [
    "from sklearn.linear_model import LogisticRegression as LogReg\n",
    "from sklearn.metrics import f1_score"
   ]
  },
  {
   "cell_type": "code",
   "execution_count": 36,
   "metadata": {},
   "outputs": [
    {
     "data": {
      "text/plain": [
       "count    19867.000000\n",
       "mean         0.185332\n",
       "std          0.388577\n",
       "min          0.000000\n",
       "25%          0.000000\n",
       "50%          0.000000\n",
       "75%          0.000000\n",
       "max          1.000000\n",
       "Name: churn, dtype: float64"
      ]
     },
     "execution_count": 36,
     "metadata": {},
     "output_type": "execute_result"
    }
   ],
   "source": [
    "train_y.describe()"
   ]
  },
  {
   "cell_type": "code",
   "execution_count": 37,
   "metadata": {},
   "outputs": [
    {
     "data": {
      "text/plain": [
       "LogisticRegression(n_jobs=-1)"
      ]
     },
     "execution_count": 37,
     "metadata": {},
     "output_type": "execute_result"
    }
   ],
   "source": [
    "# Creating instance of Logistic Regresssion\n",
    "LR = LogReg(n_jobs=-1)\n",
    "\n",
    "# Fitting the model\n",
    "LR.fit(train_x, train_y)"
   ]
  },
  {
   "cell_type": "code",
   "execution_count": 38,
   "metadata": {},
   "outputs": [],
   "source": [
    "train_predict = LR.predict(train_x)"
   ]
  },
  {
   "cell_type": "code",
   "execution_count": 39,
   "metadata": {},
   "outputs": [],
   "source": [
    "test_predict = LR.predict(test_x)"
   ]
  },
  {
   "cell_type": "code",
   "execution_count": 40,
   "metadata": {},
   "outputs": [
    {
     "name": "stdout",
     "output_type": "stream",
     "text": [
      "Training f1_score 0.1466275659824047\n"
     ]
    }
   ],
   "source": [
    "k = f1_score(train_predict, train_y)\n",
    "print('Training f1_score', k )"
   ]
  },
  {
   "cell_type": "code",
   "execution_count": 41,
   "metadata": {},
   "outputs": [
    {
     "name": "stdout",
     "output_type": "stream",
     "text": [
      "Test f1_score     0.15688487584650113\n"
     ]
    }
   ],
   "source": [
    "k = f1_score(test_predict, test_y)\n",
    "print('Test f1_score    ', k )"
   ]
  },
  {
   "cell_type": "code",
   "execution_count": 42,
   "metadata": {},
   "outputs": [],
   "source": [
    "from sklearn.preprocessing import LabelEncoder\n",
    "\n",
    "le=LabelEncoder()"
   ]
  },
  {
   "cell_type": "code",
   "execution_count": 43,
   "metadata": {},
   "outputs": [
    {
     "data": {
      "text/plain": [
       "((19867,), (8515,))"
      ]
     },
     "execution_count": 43,
     "metadata": {},
     "output_type": "execute_result"
    }
   ],
   "source": [
    "scaled_train_y=le.fit_transform(scaled_train_y)\n",
    "scaled_test_y=le.fit_transform(scaled_test_y)\n",
    "scaled_train_y.shape, scaled_test_y.shape"
   ]
  },
  {
   "cell_type": "markdown",
   "metadata": {},
   "source": [
    "# K- Nearest Neighbours (KNN)"
   ]
  },
  {
   "cell_type": "code",
   "execution_count": 44,
   "metadata": {},
   "outputs": [],
   "source": [
    "#importing KNN classifier\n",
    "from sklearn.neighbors import KNeighborsClassifier as KNN"
   ]
  },
  {
   "cell_type": "code",
   "execution_count": 45,
   "metadata": {},
   "outputs": [
    {
     "data": {
      "text/plain": [
       "KNeighborsClassifier(n_jobs=-1, n_neighbors=10)"
      ]
     },
     "execution_count": 45,
     "metadata": {},
     "output_type": "execute_result"
    }
   ],
   "source": [
    "# Creating instance of KNN\n",
    "clf = KNN(n_neighbors = 10,n_jobs=-1)\n",
    "\n",
    "# Fitting the model\n",
    "clf.fit(scaled_train_x, scaled_train_y)\n",
    "\n"
   ]
  },
  {
   "cell_type": "code",
   "execution_count": 46,
   "metadata": {},
   "outputs": [
    {
     "name": "stdout",
     "output_type": "stream",
     "text": [
      "Test F1 Score     0.016019716574245228\n"
     ]
    }
   ],
   "source": [
    "# Predicting over the Train Set and calculating F1\n",
    "test_predict = clf.predict(scaled_test_x)\n",
    "k = f1_score(test_predict, scaled_test_y)\n",
    "print('Test F1 Score    ', k )"
   ]
  },
  {
   "cell_type": "code",
   "execution_count": 47,
   "metadata": {},
   "outputs": [
    {
     "name": "stdout",
     "output_type": "stream",
     "text": [
      "Test F1 Score     0.41642228739002934\n"
     ]
    }
   ],
   "source": [
    "# Creating instance of KNN\n",
    "clf = KNN(n_neighbors = 1)\n",
    "\n",
    "# Fitting the model\n",
    "clf.fit(train_x, train_y)\n",
    "\n",
    "# Predicting over the Train Set and calculating F1\n",
    "test_predict = clf.predict(test_x)\n",
    "k = f1_score(test_predict, test_y)\n",
    "print('Test F1 Score    ', k )"
   ]
  },
  {
   "cell_type": "code",
   "execution_count": 48,
   "metadata": {},
   "outputs": [
    {
     "name": "stdout",
     "output_type": "stream",
     "text": [
      "Test F1 Score     1.0\n"
     ]
    }
   ],
   "source": [
    "train_predict = clf.predict(train_x)\n",
    "k = f1_score(train_predict, train_y)\n",
    "print('Test F1 Score    ', k )"
   ]
  },
  {
   "cell_type": "code",
   "execution_count": 49,
   "metadata": {},
   "outputs": [],
   "source": [
    "def Elbow(K):\n",
    "    #initiating empty list\n",
    "    test_error = []\n",
    "   \n",
    "    #training model for evey value of K\n",
    "    for i in K:\n",
    "        #Instance oh KNN\n",
    "        clf = KNN(n_neighbors = i)\n",
    "        clf.fit(train_x, train_y)\n",
    "        # Appending F1 scores to empty list claculated using the predictions\n",
    "        tmp = clf.predict(test_x)\n",
    "        tmp = f1_score(tmp,test_y)\n",
    "        error = 1-tmp\n",
    "        test_error.append(error)\n",
    "    \n",
    "    return test_error"
   ]
  },
  {
   "cell_type": "code",
   "execution_count": 50,
   "metadata": {
    "colab": {},
    "colab_type": "code",
    "id": "61WGHNM_Cxn2"
   },
   "outputs": [],
   "source": [
    "#Defining K range\n",
    "k = range(6, 20, 2)"
   ]
  },
  {
   "cell_type": "code",
   "execution_count": 51,
   "metadata": {
    "colab": {},
    "colab_type": "code",
    "id": "SNBDTcSf9xXW"
   },
   "outputs": [],
   "source": [
    "# calling above defined function\n",
    "test = Elbow(k)"
   ]
  },
  {
   "cell_type": "markdown",
   "metadata": {},
   "source": [
    "<b>Elbow curve</b>"
   ]
  },
  {
   "cell_type": "code",
   "execution_count": 52,
   "metadata": {
    "colab": {
     "base_uri": "https://localhost:8080/",
     "height": 312
    },
    "colab_type": "code",
    "executionInfo": {
     "elapsed": 2854,
     "status": "ok",
     "timestamp": 1555058107314,
     "user": {
      "displayName": "Sharoon Saxena",
      "photoUrl": "",
      "userId": "14774175216384036942"
     },
     "user_tz": -330
    },
    "id": "6iA6n55NDKJf",
    "outputId": "bb6700af-e76f-433f-b81e-92537cb3a60c",
    "scrolled": true
   },
   "outputs": [
    {
     "data": {
      "text/plain": [
       "Text(0.5, 1.0, 'Elbow Curve for test')"
      ]
     },
     "execution_count": 52,
     "metadata": {},
     "output_type": "execute_result"
    },
    {
     "data": {
      "image/png": "[encoded data removed]",
      "text/plain": [
       "<Figure size 432x288 with 1 Axes>"
      ]
     },
     "metadata": {
      "needs_background": "light"
     },
     "output_type": "display_data"
    }
   ],
   "source": [
    "# plotting the Curves\n",
    "plt.plot(k, test)\n",
    "plt.xlabel('K Neighbors')\n",
    "plt.ylabel('Test error')\n",
    "plt.title('Elbow Curve for test')"
   ]
  },
  {
   "cell_type": "markdown",
   "metadata": {},
   "source": [
    "# Random Forest"
   ]
  },
  {
   "cell_type": "code",
   "execution_count": 65,
   "metadata": {},
   "outputs": [],
   "source": [
    "#Importing random forest classifier \n",
    "from sklearn.ensemble import RandomForestClassifier"
   ]
  },
  {
   "cell_type": "code",
   "execution_count": 66,
   "metadata": {},
   "outputs": [],
   "source": [
    "#creating a random forest instance\n",
    "RFclf = RandomForestClassifier(random_state=96,n_jobs=-1,criterion='entropy')"
   ]
  },
  {
   "cell_type": "code",
   "execution_count": 67,
   "metadata": {
    "scrolled": true
   },
   "outputs": [
    {
     "data": {
      "text/plain": [
       "RandomForestClassifier(criterion='entropy', n_jobs=-1, random_state=96)"
      ]
     },
     "execution_count": 67,
     "metadata": {},
     "output_type": "execute_result"
    }
   ],
   "source": [
    "#train the model\n",
    "RFclf.fit(scaled_train_x,scaled_train_y)"
   ]
  },
  {
   "cell_type": "code",
   "execution_count": 68,
   "metadata": {},
   "outputs": [
    {
     "data": {
      "text/plain": [
       "1.0"
      ]
     },
     "execution_count": 68,
     "metadata": {},
     "output_type": "execute_result"
    }
   ],
   "source": [
    "#score on training data\n",
    "RFclf.score(scaled_train_x, scaled_train_y)"
   ]
  },
  {
   "cell_type": "code",
   "execution_count": 69,
   "metadata": {
    "scrolled": true
   },
   "outputs": [
    {
     "data": {
      "text/plain": [
       "0.8563711098062243"
      ]
     },
     "execution_count": 69,
     "metadata": {},
     "output_type": "execute_result"
    }
   ],
   "source": [
    "#score on test data\n",
    "RFclf.score(scaled_test_x, scaled_test_y)"
   ]
  }
 ],
 "metadata": {
  "kernelspec": {
   "display_name": "Python 3",
   "language": "python",
   "name": "python3"
  },
  "language_info": {
   "codemirror_mode": {
    "name": "ipython",
    "version": 3
   },
   "file_extension": ".py",
   "mimetype": "text/x-python",
   "name": "python",
   "nbconvert_exporter": "python",
   "pygments_lexer": "ipython3",
   "version": "3.8.8"
  }
 },
 "nbformat": 4,
 "nbformat_minor": 4
}
